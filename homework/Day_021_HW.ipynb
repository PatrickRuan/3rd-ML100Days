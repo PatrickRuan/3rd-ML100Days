{
  "nbformat": 4,
  "nbformat_minor": 0,
  "metadata": {
    "kernelspec": {
      "display_name": "Python 3",
      "language": "python",
      "name": "python3"
    },
    "language_info": {
      "codemirror_mode": {
        "name": "ipython",
        "version": 3
      },
      "file_extension": ".py",
      "mimetype": "text/x-python",
      "name": "python",
      "nbconvert_exporter": "python",
      "pygments_lexer": "ipython3",
      "version": "3.7.0"
    },
    "colab": {
      "name": "Day_021_HW.ipynb",
      "provenance": [],
      "include_colab_link": true
    }
  },
  "cells": [
    {
      "cell_type": "markdown",
      "metadata": {
        "id": "view-in-github",
        "colab_type": "text"
      },
      "source": [
        "<a href=\"https://colab.research.google.com/github/PatrickRuan/3rd-ML100Days/blob/master/homework/Day_021_HW.ipynb\" target=\"_parent\"><img src=\"https://colab.research.google.com/assets/colab-badge.svg\" alt=\"Open In Colab\"/></a>"
      ]
    },
    {
      "cell_type": "markdown",
      "metadata": {
        "id": "YAZMYwEIpMaq",
        "colab_type": "text"
      },
      "source": [
        "## 練習時間\n",
        "將你的結果存成 csv, 上傳你的第一份 Kaggle 成績\n",
        "\n",
        "Hints: https://stackoverflow.com/questions/16923281/pandas-writing-dataframe-to-csv-file"
      ]
    },
    {
      "cell_type": "markdown",
      "metadata": {
        "id": "WQU1e_zppMas",
        "colab_type": "text"
      },
      "source": [
        "# [作業目標]\n",
        "- 檢視並重新執行腳本, 試著將執行結果存檔並提交到 Kaggle 上"
      ]
    },
    {
      "cell_type": "markdown",
      "metadata": {
        "id": "tX2ReW_rpMas",
        "colab_type": "text"
      },
      "source": [
        "# [作業重點]\n",
        "- 執行後, 將所得結果, 存成可以提交的 csv 檔 (In[10]) (Hint : 使用 pandas.DataFreame.to_csv)"
      ]
    },
    {
      "cell_type": "markdown",
      "metadata": {
        "id": "cZqt58kZpMat",
        "colab_type": "text"
      },
      "source": [
        "# [提醒]\n",
        "- 執行後, 將所得結果, 存成可以提交的 csv 檔 (In[10]) (Hint : 使用 pandas.DataFreame.to_csv)"
      ]
    },
    {
      "cell_type": "code",
      "metadata": {
        "id": "lPV40kdRpMau",
        "colab_type": "code",
        "outputId": "e2c761f1-0460-489f-97da-48bff6eedab0",
        "colab": {
          "base_uri": "https://localhost:8080/",
          "height": 55
        }
      },
      "source": [
        "# 載入需要的套件\n",
        "from google.colab import drive\n",
        "drive.mount('/content/drive/')\n",
        "root = 'drive/My Drive/'\n",
        "learning = root + '學習/'\n",
        "\n",
        "# Import 需要的套件\n",
        "import os\n",
        "import numpy as np \n",
        "import pandas as pd\n",
        "import matplotlib.pyplot as plt\n",
        "%matplotlib inline"
      ],
      "execution_count": 0,
      "outputs": [
        {
          "output_type": "stream",
          "text": [
            "Drive already mounted at /content/drive/; to attempt to forcibly remount, call drive.mount(\"/content/drive/\", force_remount=True).\n"
          ],
          "name": "stdout"
        }
      ]
    },
    {
      "cell_type": "markdown",
      "metadata": {
        "id": "YAvU-OZxpMaw",
        "colab_type": "text"
      },
      "source": [
        "### 仿造之前做過的處理"
      ]
    },
    {
      "cell_type": "code",
      "metadata": {
        "id": "lK8zsGRhpMax",
        "colab_type": "code",
        "colab": {}
      },
      "source": [
        "# 設定 data_path\n",
        "dir_data = learning + 'Part01/'\n",
        "f_app_train = os.path.join(dir_data, 'application_train.csv')\n",
        "f_app_test = os.path.join(dir_data, 'application_test.csv')\n",
        "\n",
        "# 讀取檔案\n",
        "app_train = pd.read_csv(f_app_train)\n",
        "app_test = pd.read_csv(f_app_test)"
      ],
      "execution_count": 0,
      "outputs": []
    },
    {
      "cell_type": "code",
      "metadata": {
        "id": "0B5_EZHCpMaz",
        "colab_type": "code",
        "colab": {}
      },
      "source": [
        "# 種類 2 種以下的類別型欄位轉標籤編碼 (Label Encoding)\n",
        "from sklearn.preprocessing import LabelEncoder\n",
        "le = LabelEncoder()\n",
        "le_count = 0\n",
        "\n",
        "# 檢查每一個 column\n",
        "for col in app_train:\n",
        "    if app_train[col].dtype == 'object':\n",
        "        # 如果只有兩種值的類別型欄位\n",
        "        if len(list(app_train[col].unique())) <= 2:\n",
        "            # 就做 Label Encoder\n",
        "            le.fit(app_train[col])\n",
        "            app_train[col] = le.transform(app_train[col])\n",
        "            app_test[col] = le.transform(app_test[col])\n",
        "            \n",
        "            # 紀錄有多少個 columns 被標籤編碼過\n",
        "            le_count += 1\n",
        "            \n",
        "# 標籤編碼 (2種類別) 欄位轉 One Hot Encoding            \n",
        "app_train = pd.get_dummies(app_train)\n",
        "app_test = pd.get_dummies(app_test)"
      ],
      "execution_count": 0,
      "outputs": []
    },
    {
      "cell_type": "code",
      "metadata": {
        "id": "o6XT0h5GpMa1",
        "colab_type": "code",
        "colab": {}
      },
      "source": [
        "# 受雇日數為異常值的資料, 另外設一個欄位記錄, 並將異常的日數轉成空值 (np.nan)\n",
        "app_train['DAYS_EMPLOYED_ANOM'] = app_train[\"DAYS_EMPLOYED\"] == 365243\n",
        "app_train['DAYS_EMPLOYED'].replace({365243: np.nan}, inplace = True)\n",
        "app_test['DAYS_EMPLOYED_ANOM'] = app_test[\"DAYS_EMPLOYED\"] == 365243\n",
        "app_test[\"DAYS_EMPLOYED\"].replace({365243: np.nan}, inplace = True)\n",
        "\n",
        "# 出生日數 (DAYS_BIRTH) 取絕對值 \n",
        "app_train['DAYS_BIRTH'] = abs(app_train['DAYS_BIRTH'])\n",
        "app_test['DAYS_BIRTH'] = abs(app_test['DAYS_BIRTH'])"
      ],
      "execution_count": 0,
      "outputs": []
    },
    {
      "cell_type": "markdown",
      "metadata": {
        "id": "cOYMM6c0pMa3",
        "colab_type": "text"
      },
      "source": [
        "### 做好前處理\n",
        "開始擬合模型之前，我們要確保 training & testing data 的欄位數量一致，原因是因為 One hot encoding 會製造多的欄位，有些類別出現在 training data 而沒有出現 testing data 中，我們就要把這些多餘的欄位去除"
      ]
    },
    {
      "cell_type": "code",
      "metadata": {
        "id": "3VzeD63OpMa3",
        "colab_type": "code",
        "colab": {}
      },
      "source": [
        "train_labels = app_train['TARGET']\n",
        "\n",
        "# 調整欄位數, 移除出現在 training data 而沒有出現 testing data 中的欄位\n",
        "app_train, app_test = app_train.align(app_test, join = 'inner', axis = 1)"
      ],
      "execution_count": 0,
      "outputs": []
    },
    {
      "cell_type": "code",
      "metadata": {
        "id": "LX3Iw893pMa6",
        "colab_type": "code",
        "outputId": "93afe6a4-5e06-4afa-9767-3e2f01de41f3",
        "colab": {
          "base_uri": "https://localhost:8080/",
          "height": 107
        }
      },
      "source": [
        "from sklearn.preprocessing import MinMaxScaler, Imputer\n",
        "\n",
        "# 特徵欄位清單\n",
        "train = app_train\n",
        "features = list(train.columns)\n",
        "\n",
        "# 複製 test 資料\n",
        "test = app_test.copy()\n",
        "\n",
        "# 填補器 : 設定缺失值補中位數\n",
        "imputer = Imputer(strategy = 'median')\n",
        "\n",
        "# 縮放器 : 設定特徵縮放到 0~1 區間\n",
        "scaler = MinMaxScaler(feature_range = (0, 1))\n",
        "\n",
        "# 填補器載入個欄中位數\n",
        "imputer.fit(train)\n",
        "\n",
        "# 將中位數回填 train, test 資料中的空缺值\n",
        "train = imputer.transform(train)\n",
        "test = imputer.transform(app_test)\n",
        "\n",
        "# 縮放器載入 train 的上下限, 對 train, test 進行縮放轉換\n",
        "scaler.fit(train)\n",
        "train = scaler.transform(train)\n",
        "test = scaler.transform(test)\n",
        "\n",
        "print('Training data shape: ', train.shape)\n",
        "print('Testing data shape: ', test.shape)"
      ],
      "execution_count": 0,
      "outputs": [
        {
          "output_type": "stream",
          "text": [
            "/usr/local/lib/python3.6/dist-packages/sklearn/utils/deprecation.py:66: DeprecationWarning: Class Imputer is deprecated; Imputer was deprecated in version 0.20 and will be removed in 0.22. Import impute.SimpleImputer from sklearn instead.\n",
            "  warnings.warn(msg, category=DeprecationWarning)\n"
          ],
          "name": "stderr"
        },
        {
          "output_type": "stream",
          "text": [
            "Training data shape:  (307511, 240)\n",
            "Testing data shape:  (48744, 240)\n"
          ],
          "name": "stdout"
        }
      ]
    },
    {
      "cell_type": "markdown",
      "metadata": {
        "id": "HbNVPtKgpMa-",
        "colab_type": "text"
      },
      "source": [
        "### Fit the model"
      ]
    },
    {
      "cell_type": "code",
      "metadata": {
        "id": "1dNHD-nmpMa-",
        "colab_type": "code",
        "outputId": "f4514384-98c8-4e3e-9ca9-655f61cd546b",
        "colab": {
          "base_uri": "https://localhost:8080/",
          "height": 160
        }
      },
      "source": [
        "from sklearn.linear_model import LogisticRegression\n",
        "\n",
        "# 設定模型與模型參數\n",
        "log_reg = LogisticRegression(C = 0.0001)\n",
        "\n",
        "# 使用 Train 資料訓練模型\n",
        "log_reg.fit(train, train_labels)"
      ],
      "execution_count": 0,
      "outputs": [
        {
          "output_type": "stream",
          "text": [
            "/usr/local/lib/python3.6/dist-packages/sklearn/linear_model/logistic.py:432: FutureWarning: Default solver will be changed to 'lbfgs' in 0.22. Specify a solver to silence this warning.\n",
            "  FutureWarning)\n"
          ],
          "name": "stderr"
        },
        {
          "output_type": "execute_result",
          "data": {
            "text/plain": [
              "LogisticRegression(C=0.0001, class_weight=None, dual=False, fit_intercept=True,\n",
              "                   intercept_scaling=1, l1_ratio=None, max_iter=100,\n",
              "                   multi_class='warn', n_jobs=None, penalty='l2',\n",
              "                   random_state=None, solver='warn', tol=0.0001, verbose=0,\n",
              "                   warm_start=False)"
            ]
          },
          "metadata": {
            "tags": []
          },
          "execution_count": 20
        }
      ]
    },
    {
      "cell_type": "markdown",
      "metadata": {
        "id": "YyCgDgRBpMbA",
        "colab_type": "text"
      },
      "source": [
        "模型 fit 好以後，就可以用來預測 testing data 中的客戶違約遲繳貸款的機率咯! (記得要用 predict_proba 才會輸出機率)"
      ]
    },
    {
      "cell_type": "code",
      "metadata": {
        "id": "k4CQI_HPpMbB",
        "colab_type": "code",
        "colab": {}
      },
      "source": [
        "# 用模型預測結果\n",
        "# 請注意羅吉斯迴歸是分類預測 (會輸出 0 的機率, 與 1 的機率), 而我們只需要留下 1 的機率這排\n",
        "log_reg_pred = log_reg.predict_proba(test)[:, 1]"
      ],
      "execution_count": 0,
      "outputs": []
    },
    {
      "cell_type": "markdown",
      "metadata": {
        "id": "-XuvzL3ypMbD",
        "colab_type": "text"
      },
      "source": [
        "### 儲存預測結果"
      ]
    },
    {
      "cell_type": "code",
      "metadata": {
        "id": "NGPjwhvwpMbD",
        "colab_type": "code",
        "outputId": "d615c45c-3bcc-4ab6-aedd-21ad78cbb2f0",
        "colab": {
          "base_uri": "https://localhost:8080/",
          "height": 308
        }
      },
      "source": [
        "# 計算提交結果\n",
        "submit = app_test[['SK_ID_CURR']]\n",
        "submit['TARGET'] = log_reg_pred\n",
        "\n",
        "submit.head()"
      ],
      "execution_count": 0,
      "outputs": [
        {
          "output_type": "stream",
          "text": [
            "/usr/local/lib/python3.6/dist-packages/ipykernel_launcher.py:2: SettingWithCopyWarning: \n",
            "A value is trying to be set on a copy of a slice from a DataFrame.\n",
            "Try using .loc[row_indexer,col_indexer] = value instead\n",
            "\n",
            "See the caveats in the documentation: http://pandas.pydata.org/pandas-docs/stable/indexing.html#indexing-view-versus-copy\n",
            "  \n"
          ],
          "name": "stderr"
        },
        {
          "output_type": "execute_result",
          "data": {
            "text/html": [
              "<div>\n",
              "<style scoped>\n",
              "    .dataframe tbody tr th:only-of-type {\n",
              "        vertical-align: middle;\n",
              "    }\n",
              "\n",
              "    .dataframe tbody tr th {\n",
              "        vertical-align: top;\n",
              "    }\n",
              "\n",
              "    .dataframe thead th {\n",
              "        text-align: right;\n",
              "    }\n",
              "</style>\n",
              "<table border=\"1\" class=\"dataframe\">\n",
              "  <thead>\n",
              "    <tr style=\"text-align: right;\">\n",
              "      <th></th>\n",
              "      <th>SK_ID_CURR</th>\n",
              "      <th>TARGET</th>\n",
              "    </tr>\n",
              "  </thead>\n",
              "  <tbody>\n",
              "    <tr>\n",
              "      <th>0</th>\n",
              "      <td>100001</td>\n",
              "      <td>0.065051</td>\n",
              "    </tr>\n",
              "    <tr>\n",
              "      <th>1</th>\n",
              "      <td>100005</td>\n",
              "      <td>0.126401</td>\n",
              "    </tr>\n",
              "    <tr>\n",
              "      <th>2</th>\n",
              "      <td>100013</td>\n",
              "      <td>0.081239</td>\n",
              "    </tr>\n",
              "    <tr>\n",
              "      <th>3</th>\n",
              "      <td>100028</td>\n",
              "      <td>0.061509</td>\n",
              "    </tr>\n",
              "    <tr>\n",
              "      <th>4</th>\n",
              "      <td>100038</td>\n",
              "      <td>0.128308</td>\n",
              "    </tr>\n",
              "  </tbody>\n",
              "</table>\n",
              "</div>"
            ],
            "text/plain": [
              "   SK_ID_CURR    TARGET\n",
              "0      100001  0.065051\n",
              "1      100005  0.126401\n",
              "2      100013  0.081239\n",
              "3      100028  0.061509\n",
              "4      100038  0.128308"
            ]
          },
          "metadata": {
            "tags": []
          },
          "execution_count": 22
        }
      ]
    },
    {
      "cell_type": "code",
      "metadata": {
        "id": "tqSb8i3lpMbF",
        "colab_type": "code",
        "colab": {}
      },
      "source": [
        "f_submit = os.path.join(dir_data+'submission.csv')\n",
        "submit.to_csv(f_submit)"
      ],
      "execution_count": 0,
      "outputs": []
    }
  ]
}