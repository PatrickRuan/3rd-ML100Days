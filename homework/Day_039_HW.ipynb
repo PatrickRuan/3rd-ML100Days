{
  "nbformat": 4,
  "nbformat_minor": 0,
  "metadata": {
    "kernelspec": {
      "display_name": "Python 3",
      "language": "python",
      "name": "python3"
    },
    "language_info": {
      "codemirror_mode": {
        "name": "ipython",
        "version": 3
      },
      "file_extension": ".py",
      "mimetype": "text/x-python",
      "name": "python",
      "nbconvert_exporter": "python",
      "pygments_lexer": "ipython3",
      "version": "3.6.2"
    },
    "colab": {
      "name": "Day_039_HW.ipynb",
      "provenance": [],
      "collapsed_sections": [],
      "include_colab_link": true
    }
  },
  "cells": [
    {
      "cell_type": "markdown",
      "metadata": {
        "id": "view-in-github",
        "colab_type": "text"
      },
      "source": [
        "<a href=\"https://colab.research.google.com/github/PatrickRuan/3rd-ML100Days/blob/master/homework/Day_039_HW.ipynb\" target=\"_parent\"><img src=\"https://colab.research.google.com/assets/colab-badge.svg\" alt=\"Open In Colab\"/></a>"
      ]
    },
    {
      "cell_type": "markdown",
      "metadata": {
        "id": "1qjaG5_kCoV-",
        "colab_type": "text"
      },
      "source": [
        "## [作業重點]\n",
        "清楚了解 L1, L2 的意義與差異為何，並了解 LASSO 與 Ridge 之間的差異與使用情境"
      ]
    },
    {
      "cell_type": "markdown",
      "metadata": {
        "id": "dTXyir0CCoV_",
        "colab_type": "text"
      },
      "source": [
        "## 作業"
      ]
    },
    {
      "cell_type": "markdown",
      "metadata": {
        "id": "XCQX62X3CoWA",
        "colab_type": "text"
      },
      "source": [
        "請閱讀相關文獻，並回答下列問題\n",
        "\n",
        "[脊回歸 (Ridge Regression)](https://blog.csdn.net/daunxx/article/details/51578787)\n",
        "[Linear, Ridge, Lasso Regression 本質區別](https://www.zhihu.com/question/38121173)\n",
        "\n",
        "1. LASSO 回歸可以被用來作為 Feature selection 的工具，請了解 LASSO 模型為什麼可用來作 Feature selection\n",
        "\n",
        "LASSO 是 L1，用誤差絕對值當作損失，許多的特徵會趨近於零。(通常看見圖為方形，L2 為圓形)\n",
        "\n",
        "<img src=\"data:image/png;base64,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\">\n",
        "\n",
        "2. 當自變數 (X) 存在高度共線性時，Ridge Regression 可以處理這樣的問題嗎?\n",
        "\n",
        "L2主要解決的問題是兩種：一是當預測變量的數量超過觀測變量的數量的時候（預測變量相當於特徵，觀測變量相當於標籤），二是數據集之間具有多重共線性，即預測變量之間具有相關性。\n",
        "\n",
        "原文網址：https://kknews.cc/code/xevgp99.html\n"
      ]
    },
    {
      "cell_type": "code",
      "metadata": {
        "id": "yh_KlreJCoWA",
        "colab_type": "code",
        "colab": {}
      },
      "source": [
        ""
      ],
      "execution_count": 0,
      "outputs": []
    }
  ]
}