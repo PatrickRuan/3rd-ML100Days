{
  "nbformat": 4,
  "nbformat_minor": 0,
  "metadata": {
    "kernelspec": {
      "name": "python3",
      "display_name": "Python 3"
    },
    "language_info": {
      "codemirror_mode": {
        "name": "ipython",
        "version": 3
      },
      "file_extension": ".py",
      "mimetype": "text/x-python",
      "name": "python",
      "nbconvert_exporter": "python",
      "pygments_lexer": "ipython3",
      "version": "3.6.5"
    },
    "colab": {
      "name": "Day081_HW.ipynb",
      "provenance": [],
      "collapsed_sections": [],
      "include_colab_link": true
    },
    "accelerator": "GPU"
  },
  "cells": [
    {
      "cell_type": "markdown",
      "metadata": {
        "id": "view-in-github",
        "colab_type": "text"
      },
      "source": [
        "<a href=\"https://colab.research.google.com/github/PatrickRuan/3rd-ML100Days/blob/master/homework/Day081_HW.ipynb\" target=\"_parent\"><img src=\"https://colab.research.google.com/assets/colab-badge.svg\" alt=\"Open In Colab\"/></a>"
      ]
    },
    {
      "cell_type": "markdown",
      "metadata": {
        "id": "ti2vqiuY82vh",
        "colab_type": "text"
      },
      "source": [
        "## Work\n",
        "1. 請比較使用 l1, l1_l2 及不同比例下的訓練結果"
      ]
    },
    {
      "cell_type": "code",
      "metadata": {
        "id": "OkwuoeST82vk",
        "colab_type": "code",
        "colab": {
          "base_uri": "https://localhost:8080/",
          "height": 79
        },
        "outputId": "0a65740b-7013-4d42-b1d5-7f9a774e9c03"
      },
      "source": [
        "import os\n",
        "import keras\n",
        "\n",
        "# Disable GPU\n",
        "#os.environ[\"CUDA_VISIBLE_DEVICES\"] = \"\""
      ],
      "execution_count": 1,
      "outputs": [
        {
          "output_type": "stream",
          "text": [
            "Using TensorFlow backend.\n"
          ],
          "name": "stderr"
        },
        {
          "output_type": "display_data",
          "data": {
            "text/html": [
              "<p style=\"color: red;\">\n",
              "The default version of TensorFlow in Colab will soon switch to TensorFlow 2.x.<br>\n",
              "We recommend you <a href=\"https://www.tensorflow.org/guide/migrate\" target=\"_blank\">upgrade</a> now \n",
              "or ensure your notebook will continue to use TensorFlow 1.x via the <code>%tensorflow_version 1.x</code> magic:\n",
              "<a href=\"https://colab.research.google.com/notebooks/tensorflow_version.ipynb\" target=\"_blank\">more info</a>.</p>\n"
            ],
            "text/plain": [
              "<IPython.core.display.HTML object>"
            ]
          },
          "metadata": {
            "tags": []
          }
        }
      ]
    },
    {
      "cell_type": "code",
      "metadata": {
        "id": "-AHKOEL_82vn",
        "colab_type": "code",
        "outputId": "e7e95511-eac1-40f0-ed80-ffedc4ed5d07",
        "colab": {
          "base_uri": "https://localhost:8080/",
          "height": 50
        }
      },
      "source": [
        "train, test = keras.datasets.cifar10.load_data()"
      ],
      "execution_count": 2,
      "outputs": [
        {
          "output_type": "stream",
          "text": [
            "Downloading data from https://www.cs.toronto.edu/~kriz/cifar-10-python.tar.gz\n",
            "170500096/170498071 [==============================] - 6s 0us/step\n"
          ],
          "name": "stdout"
        }
      ]
    },
    {
      "cell_type": "code",
      "metadata": {
        "id": "KKMLFvVg82vq",
        "colab_type": "code",
        "colab": {}
      },
      "source": [
        "## 資料前處理\n",
        "def preproc_x(x, flatten=True):\n",
        "    x = x / 255.\n",
        "    if flatten:\n",
        "        x = x.reshape((len(x), -1))\n",
        "    return x\n",
        "\n",
        "def preproc_y(y, num_classes=10):\n",
        "    if y.shape[-1] == 1:\n",
        "        y = keras.utils.to_categorical(y, num_classes)\n",
        "    return y    "
      ],
      "execution_count": 0,
      "outputs": []
    },
    {
      "cell_type": "code",
      "metadata": {
        "id": "nXLw2xvz82vu",
        "colab_type": "code",
        "colab": {}
      },
      "source": [
        "x_train, y_train = train\n",
        "x_test, y_test = test\n",
        "\n",
        "# Preproc the inputs\n",
        "x_train = preproc_x(x_train)\n",
        "x_test = preproc_x(x_test)\n",
        "\n",
        "# Preprc the outputs\n",
        "y_train = preproc_y(y_train)\n",
        "y_test = preproc_y(y_test)"
      ],
      "execution_count": 0,
      "outputs": []
    },
    {
      "cell_type": "code",
      "metadata": {
        "id": "YQ0aMtUX82vw",
        "colab_type": "code",
        "colab": {}
      },
      "source": [
        "from keras.models import Sequential\n",
        "from keras.layers import Dense\n",
        "from keras.regularizers import l1_l2\n",
        "\n",
        "def build_mlp(input, output,l1_ratio, l2_ratio):\n",
        "    \"\"\"\n",
        "    Build your own model\n",
        "    \"\"\"\n",
        "    model = Sequential()\n",
        "    model.add(Dense(256,input_dim = input, activation='relu',kernel_regularizer=l1_l2(l1=l1_ratio, l2=l2_ratio)))\n",
        "    model.add(Dense(128,activation='relu', kernel_regularizer=l1_l2(l1=l1_ratio, l2=l2_ratio)))\n",
        "    model.add(Dense(64, activation='relu',kernel_regularizer=l1_l2(l1=l1_ratio, l2=l2_ratio)))\n",
        "    model.add(Dense(output, activation='softmax'))\n",
        "    return model"
      ],
      "execution_count": 0,
      "outputs": []
    },
    {
      "cell_type": "code",
      "metadata": {
        "id": "IZH47tQf82v0",
        "colab_type": "code",
        "colab": {}
      },
      "source": [
        "LR =1e-3\n",
        "epochs = 10\n",
        "batch_size =256\n",
        "\n",
        "L1 = [1e-1, 1e-4, 1e-7, 1e-10]\n",
        "L2 = [1e-1, 1e-4, 1e-7, 1e-10]"
      ],
      "execution_count": 0,
      "outputs": []
    },
    {
      "cell_type": "code",
      "metadata": {
        "scrolled": true,
        "id": "mXlvl-H082v4",
        "colab_type": "code",
        "colab": {
          "base_uri": "https://localhost:8080/",
          "height": 1000
        },
        "outputId": "6d8e2a2e-6809-46ae-94d1-0046b1f161c1"
      },
      "source": [
        "results = {}\n",
        "\"\"\"Code Here\n",
        "撰寫你的訓練流程並將結果用 dictionary 紀錄\n",
        "\"\"\"\n",
        "\n",
        "import itertools\n",
        "\n",
        "from keras.optimizers import Adam\n",
        "results = {}\n",
        "for l1, l2  in zip(L1, L2):\n",
        "    model = build_mlp(x_train.shape[1], y_train.shape[1],l1, l2)\n",
        "    model.summary()\n",
        "    model.compile(loss=\"categorical_crossentropy\", optimizer=Adam(lr=LR), metrics=[\"accuracy\"])\n",
        "    model.fit(x_train, y_train, \n",
        "              epochs=epochs, \n",
        "              batch_size=batch_size, \n",
        "              validation_split=0.2, \n",
        "              shuffle=True)\n",
        "    \n",
        "    # Collect results\n",
        "    train_loss = model.history.history[\"loss\"]\n",
        "    valid_loss = model.history.history[\"val_loss\"]\n",
        "    train_acc = model.history.history[\"acc\"]\n",
        "    valid_acc = model.history.history[\"val_acc\"]\n",
        "    \n",
        "    \n",
        "    results[l1] = {'train-loss': train_loss,'valid-loss': valid_loss, 'train-acc': train_acc, 'valid-acc': valid_acc}"
      ],
      "execution_count": 10,
      "outputs": [
        {
          "output_type": "stream",
          "text": [
            "Model: \"sequential_2\"\n",
            "_________________________________________________________________\n",
            "Layer (type)                 Output Shape              Param #   \n",
            "=================================================================\n",
            "dense_5 (Dense)              (None, 256)               786688    \n",
            "_________________________________________________________________\n",
            "dense_6 (Dense)              (None, 128)               32896     \n",
            "_________________________________________________________________\n",
            "dense_7 (Dense)              (None, 64)                8256      \n",
            "_________________________________________________________________\n",
            "dense_8 (Dense)              (None, 10)                650       \n",
            "=================================================================\n",
            "Total params: 828,490\n",
            "Trainable params: 828,490\n",
            "Non-trainable params: 0\n",
            "_________________________________________________________________\n",
            "Train on 40000 samples, validate on 10000 samples\n",
            "Epoch 1/10\n",
            "40000/40000 [==============================] - 2s 56us/step - loss: 284.9471 - acc: 0.1032 - val_loss: 14.4854 - val_acc: 0.0952\n",
            "Epoch 2/10\n",
            "40000/40000 [==============================] - 2s 46us/step - loss: 12.6357 - acc: 0.0997 - val_loss: 12.3725 - val_acc: 0.0980\n",
            "Epoch 3/10\n",
            "40000/40000 [==============================] - 2s 45us/step - loss: 12.3286 - acc: 0.0987 - val_loss: 12.2790 - val_acc: 0.0980\n",
            "Epoch 4/10\n",
            "40000/40000 [==============================] - 2s 46us/step - loss: 12.2169 - acc: 0.1000 - val_loss: 12.1897 - val_acc: 0.0952\n",
            "Epoch 5/10\n",
            "40000/40000 [==============================] - 2s 46us/step - loss: 12.1438 - acc: 0.0988 - val_loss: 12.0424 - val_acc: 0.0952\n",
            "Epoch 6/10\n",
            "40000/40000 [==============================] - 2s 46us/step - loss: 12.0363 - acc: 0.0991 - val_loss: 12.1208 - val_acc: 0.0952\n",
            "Epoch 7/10\n",
            "40000/40000 [==============================] - 2s 46us/step - loss: 12.0147 - acc: 0.1007 - val_loss: 12.0884 - val_acc: 0.0980\n",
            "Epoch 8/10\n",
            "40000/40000 [==============================] - 2s 45us/step - loss: 12.0696 - acc: 0.0981 - val_loss: 12.0159 - val_acc: 0.0952\n",
            "Epoch 9/10\n",
            "40000/40000 [==============================] - 2s 45us/step - loss: 12.1189 - acc: 0.1006 - val_loss: 12.0303 - val_acc: 0.0952\n",
            "Epoch 10/10\n",
            "40000/40000 [==============================] - 2s 47us/step - loss: 12.1149 - acc: 0.0995 - val_loss: 12.0814 - val_acc: 0.0952\n",
            "Model: \"sequential_3\"\n",
            "_________________________________________________________________\n",
            "Layer (type)                 Output Shape              Param #   \n",
            "=================================================================\n",
            "dense_9 (Dense)              (None, 256)               786688    \n",
            "_________________________________________________________________\n",
            "dense_10 (Dense)             (None, 128)               32896     \n",
            "_________________________________________________________________\n",
            "dense_11 (Dense)             (None, 64)                8256      \n",
            "_________________________________________________________________\n",
            "dense_12 (Dense)             (None, 10)                650       \n",
            "=================================================================\n",
            "Total params: 828,490\n",
            "Trainable params: 828,490\n",
            "Non-trainable params: 0\n",
            "_________________________________________________________________\n",
            "Train on 40000 samples, validate on 10000 samples\n",
            "Epoch 1/10\n",
            "40000/40000 [==============================] - 2s 61us/step - loss: 3.1312 - acc: 0.2920 - val_loss: 2.5493 - val_acc: 0.3390\n",
            "Epoch 2/10\n",
            "40000/40000 [==============================] - 2s 48us/step - loss: 2.3075 - acc: 0.3637 - val_loss: 2.1651 - val_acc: 0.3841\n",
            "Epoch 3/10\n",
            "40000/40000 [==============================] - 2s 48us/step - loss: 2.0872 - acc: 0.3906 - val_loss: 2.0528 - val_acc: 0.3918\n",
            "Epoch 4/10\n",
            "40000/40000 [==============================] - 2s 46us/step - loss: 1.9735 - acc: 0.4079 - val_loss: 1.9679 - val_acc: 0.3971\n",
            "Epoch 5/10\n",
            "40000/40000 [==============================] - 2s 47us/step - loss: 1.9179 - acc: 0.4142 - val_loss: 1.9845 - val_acc: 0.3706\n",
            "Epoch 6/10\n",
            "40000/40000 [==============================] - 2s 47us/step - loss: 1.8885 - acc: 0.4173 - val_loss: 1.9279 - val_acc: 0.4028\n",
            "Epoch 7/10\n",
            "40000/40000 [==============================] - 2s 46us/step - loss: 1.8288 - acc: 0.4319 - val_loss: 1.8417 - val_acc: 0.4253\n",
            "Epoch 8/10\n",
            "40000/40000 [==============================] - 2s 46us/step - loss: 1.8087 - acc: 0.4331 - val_loss: 1.8475 - val_acc: 0.4253\n",
            "Epoch 9/10\n",
            "40000/40000 [==============================] - 2s 47us/step - loss: 1.7733 - acc: 0.4424 - val_loss: 1.8089 - val_acc: 0.4312\n",
            "Epoch 10/10\n",
            "40000/40000 [==============================] - 2s 47us/step - loss: 1.7393 - acc: 0.4521 - val_loss: 1.8168 - val_acc: 0.4186\n",
            "Model: \"sequential_4\"\n",
            "_________________________________________________________________\n",
            "Layer (type)                 Output Shape              Param #   \n",
            "=================================================================\n",
            "dense_13 (Dense)             (None, 256)               786688    \n",
            "_________________________________________________________________\n",
            "dense_14 (Dense)             (None, 128)               32896     \n",
            "_________________________________________________________________\n",
            "dense_15 (Dense)             (None, 64)                8256      \n",
            "_________________________________________________________________\n",
            "dense_16 (Dense)             (None, 10)                650       \n",
            "=================================================================\n",
            "Total params: 828,490\n",
            "Trainable params: 828,490\n",
            "Non-trainable params: 0\n",
            "_________________________________________________________________\n",
            "Train on 40000 samples, validate on 10000 samples\n",
            "Epoch 1/10\n",
            "40000/40000 [==============================] - 3s 63us/step - loss: 1.9711 - acc: 0.2891 - val_loss: 1.8541 - val_acc: 0.3376\n",
            "Epoch 2/10\n",
            "40000/40000 [==============================] - 2s 48us/step - loss: 1.7706 - acc: 0.3669 - val_loss: 1.7412 - val_acc: 0.3745\n",
            "Epoch 3/10\n",
            "40000/40000 [==============================] - 2s 47us/step - loss: 1.6777 - acc: 0.4013 - val_loss: 1.6981 - val_acc: 0.3992\n",
            "Epoch 4/10\n",
            "40000/40000 [==============================] - 2s 48us/step - loss: 1.6187 - acc: 0.4219 - val_loss: 1.6406 - val_acc: 0.4142\n",
            "Epoch 5/10\n",
            "40000/40000 [==============================] - 2s 47us/step - loss: 1.5778 - acc: 0.4385 - val_loss: 1.6030 - val_acc: 0.4338\n",
            "Epoch 6/10\n",
            "40000/40000 [==============================] - 2s 47us/step - loss: 1.5369 - acc: 0.4552 - val_loss: 1.5965 - val_acc: 0.4340\n",
            "Epoch 7/10\n",
            "40000/40000 [==============================] - 2s 47us/step - loss: 1.4984 - acc: 0.4690 - val_loss: 1.5863 - val_acc: 0.4407\n",
            "Epoch 8/10\n",
            "40000/40000 [==============================] - 2s 46us/step - loss: 1.4727 - acc: 0.4765 - val_loss: 1.5657 - val_acc: 0.4504\n",
            "Epoch 9/10\n",
            "40000/40000 [==============================] - 2s 47us/step - loss: 1.4662 - acc: 0.4758 - val_loss: 1.5577 - val_acc: 0.4522\n",
            "Epoch 10/10\n",
            "40000/40000 [==============================] - 2s 47us/step - loss: 1.4283 - acc: 0.4904 - val_loss: 1.5372 - val_acc: 0.4615\n",
            "Model: \"sequential_5\"\n",
            "_________________________________________________________________\n",
            "Layer (type)                 Output Shape              Param #   \n",
            "=================================================================\n",
            "dense_17 (Dense)             (None, 256)               786688    \n",
            "_________________________________________________________________\n",
            "dense_18 (Dense)             (None, 128)               32896     \n",
            "_________________________________________________________________\n",
            "dense_19 (Dense)             (None, 64)                8256      \n",
            "_________________________________________________________________\n",
            "dense_20 (Dense)             (None, 10)                650       \n",
            "=================================================================\n",
            "Total params: 828,490\n",
            "Trainable params: 828,490\n",
            "Non-trainable params: 0\n",
            "_________________________________________________________________\n",
            "Train on 40000 samples, validate on 10000 samples\n",
            "Epoch 1/10\n",
            "40000/40000 [==============================] - 3s 63us/step - loss: 1.9748 - acc: 0.2850 - val_loss: 1.8906 - val_acc: 0.3111\n",
            "Epoch 2/10\n",
            "40000/40000 [==============================] - 2s 47us/step - loss: 1.7799 - acc: 0.3634 - val_loss: 1.8171 - val_acc: 0.3499\n",
            "Epoch 3/10\n",
            "40000/40000 [==============================] - 2s 47us/step - loss: 1.6956 - acc: 0.3905 - val_loss: 1.7107 - val_acc: 0.3931\n",
            "Epoch 4/10\n",
            "40000/40000 [==============================] - 2s 47us/step - loss: 1.6320 - acc: 0.4150 - val_loss: 1.6450 - val_acc: 0.4109\n",
            "Epoch 5/10\n",
            "40000/40000 [==============================] - 2s 47us/step - loss: 1.5776 - acc: 0.4342 - val_loss: 1.5736 - val_acc: 0.4436\n",
            "Epoch 6/10\n",
            "40000/40000 [==============================] - 2s 46us/step - loss: 1.5391 - acc: 0.4508 - val_loss: 1.5598 - val_acc: 0.4459\n",
            "Epoch 7/10\n",
            "40000/40000 [==============================] - 2s 46us/step - loss: 1.5076 - acc: 0.4626 - val_loss: 1.5387 - val_acc: 0.4520\n",
            "Epoch 8/10\n",
            "40000/40000 [==============================] - 2s 46us/step - loss: 1.4741 - acc: 0.4746 - val_loss: 1.5338 - val_acc: 0.4626\n",
            "Epoch 9/10\n",
            "40000/40000 [==============================] - 2s 46us/step - loss: 1.4479 - acc: 0.4838 - val_loss: 1.5047 - val_acc: 0.4689\n",
            "Epoch 10/10\n",
            "40000/40000 [==============================] - 2s 46us/step - loss: 1.4300 - acc: 0.4875 - val_loss: 1.5113 - val_acc: 0.4683\n"
          ],
          "name": "stdout"
        }
      ]
    },
    {
      "cell_type": "code",
      "metadata": {
        "id": "6wTy1P9v82v7",
        "colab_type": "code",
        "colab": {
          "base_uri": "https://localhost:8080/",
          "height": 654
        },
        "outputId": "a56c6b53-05a0-4a16-ae87-b6de65666a61"
      },
      "source": [
        "import matplotlib.pyplot as plt\n",
        "%matplotlib inline\n",
        "\"\"\"Code Here\n",
        "將結果繪出\n",
        "\"\"\"\n",
        "import matplotlib.pyplot as plt\n",
        "%matplotlib inline\n",
        "\n",
        "\"\"\"\n",
        "將實驗結果繪出\n",
        "\"\"\"\n",
        "\n",
        "import matplotlib.pyplot as plt\n",
        "%matplotlib inline\n",
        "\"\"\"Code Here\n",
        "將結果繪出\n",
        "\"\"\"\n",
        "\n",
        "import matplotlib.pyplot as plt\n",
        "%matplotlib inline \n",
        "    \n",
        "#NUM_COLORS = len(results.keys())\n",
        "#cm = plt.get_cmap('gist_rainbow')\n",
        "#color_bar = [cm(1.*i/NUM_COLORS) for i in range(NUM_COLORS)]\n",
        "\n",
        "#plt.figure(figsize=(8,6))\n",
        "for i, j in enumerate(results.keys()):\n",
        "    plt.plot(range(len(results[j]['train-loss'])),results[j]['train-loss'], '-', label=j)\n",
        "    plt.plot(range(len(results[j]['valid-loss'])),results[j]['valid-loss'], '--', label=j)\n",
        "plt.title(\"Loss vs. l1-l2\")\n",
        "plt.legend(loc=4)\n",
        "plt.show()\n",
        "\n",
        "plt.figure(figsize=(8,6))\n",
        "for i, j in enumerate(results.keys()):\n",
        "    plt.plot(range(len(results[j]['train-acc'])),results[j]['train-acc'], '-', label=j)\n",
        "    plt.plot(range(len(results[j]['valid-acc'])),results[j]['valid-acc'], '--', label=j)\n",
        "plt.title(\"Accuracy vs. l1-l2\")\n",
        "plt.legend(loc=4)\n",
        "plt.show()"
      ],
      "execution_count": 11,
      "outputs": [
        {
          "output_type": "display_data",
          "data": {
            "image/png": "[encoded data removed]",
            "text/plain": [
              "<Figure size 432x288 with 1 Axes>"
            ]
          },
          "metadata": {
            "tags": []
          }
        },
        {
          "output_type": "display_data",
          "data": {
            "image/png": "[encoded data removed]",
            "text/plain": [
              "<Figure size 576x432 with 1 Axes>"
            ]
          },
          "metadata": {
            "tags": []
          }
        }
      ]
    },
    {
      "cell_type": "code",
      "metadata": {
        "id": "pUh2NpS71vPB",
        "colab_type": "code",
        "colab": {}
      },
      "source": [
        ""
      ],
      "execution_count": 0,
      "outputs": []
    },
    {
      "cell_type": "markdown",
      "metadata": {
        "id": "WMhAYBIO1v1B",
        "colab_type": "text"
      },
      "source": [
        "# 感覺  Validation 與 training 的差別減小"
      ]
    }
  ]
}