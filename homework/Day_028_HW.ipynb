{
  "nbformat": 4,
  "nbformat_minor": 0,
  "metadata": {
    "kernelspec": {
      "display_name": "Python 3",
      "language": "python",
      "name": "python3"
    },
    "language_info": {
      "codemirror_mode": {
        "name": "ipython",
        "version": 3
      },
      "file_extension": ".py",
      "mimetype": "text/x-python",
      "name": "python",
      "nbconvert_exporter": "python",
      "pygments_lexer": "ipython3",
      "version": "3.6.1"
    },
    "colab": {
      "name": "Day_028_HW.ipynb",
      "provenance": [],
      "collapsed_sections": [],
      "include_colab_link": true
    }
  },
  "cells": [
    {
      "cell_type": "markdown",
      "metadata": {
        "id": "view-in-github",
        "colab_type": "text"
      },
      "source": [
        "<a href=\"https://colab.research.google.com/github/PatrickRuan/3rd-ML100Days/blob/master/homework/Day_028_HW.ipynb\" target=\"_parent\"><img src=\"https://colab.research.google.com/assets/colab-badge.svg\" alt=\"Open In Colab\"/></a>"
      ]
    },
    {
      "cell_type": "markdown",
      "metadata": {
        "collapsed": true,
        "id": "ihTHtId-x92g",
        "colab_type": "text"
      },
      "source": [
        "# 範例 : 計程車費率預測\n",
        "https://www.kaggle.com/c/new-york-city-taxi-fare-prediction"
      ]
    },
    {
      "cell_type": "markdown",
      "metadata": {
        "id": "XwH1tHQEx92h",
        "colab_type": "text"
      },
      "source": [
        "# [作業目標]\n",
        "- 使用並觀察特徵組合, 在計程車費率預測競賽的影響"
      ]
    },
    {
      "cell_type": "markdown",
      "metadata": {
        "id": "zt_FaJwOx92i",
        "colab_type": "text"
      },
      "source": [
        "# [作業重點]\n",
        "- 仿造範例並參考今日課程內容, 使用經緯度一圈的長度比的概念造出新特徵, 觀察有什麼影響 (In[6], Out[6])\n",
        "- 只使用上面所造的這個新特徵, 觀察有什麼影響 (In[7], Out[7])"
      ]
    },
    {
      "cell_type": "code",
      "metadata": {
        "id": "31Sd_e0lx92j",
        "colab_type": "code",
        "colab": {
          "base_uri": "https://localhost:8080/",
          "height": 220
        },
        "outputId": "2ca22506-2921-4c5b-c777-1c2557fb570e"
      },
      "source": [
        "from google.colab import drive\n",
        "drive.mount('/content/drive/')\n",
        "\n",
        "root = 'drive/My Drive/'\n",
        "learning = root + '學習/'\n",
        "\n",
        "# 做完特徵工程前的所有準備\n",
        "import pandas as pd\n",
        "import numpy as np\n",
        "import datetime\n",
        "from sklearn.preprocessing import MinMaxScaler\n",
        "from sklearn.model_selection import cross_val_score\n",
        "from sklearn.linear_model import LinearRegression\n",
        "from sklearn.ensemble import GradientBoostingRegressor\n",
        "\n",
        "data_path = learning + 'Part02/'\n",
        "df = pd.read_csv(data_path + 'taxi_data1.csv')\n",
        "\n",
        "train_Y = df['fare_amount']\n",
        "df = df.drop(['fare_amount'] , axis=1)\n",
        "df.head()"
      ],
      "execution_count": 2,
      "outputs": [
        {
          "output_type": "stream",
          "text": [
            "Drive already mounted at /content/drive/; to attempt to forcibly remount, call drive.mount(\"/content/drive/\", force_remount=True).\n"
          ],
          "name": "stdout"
        },
        {
          "output_type": "execute_result",
          "data": {
            "text/html": [
              "<div>\n",
              "<style scoped>\n",
              "    .dataframe tbody tr th:only-of-type {\n",
              "        vertical-align: middle;\n",
              "    }\n",
              "\n",
              "    .dataframe tbody tr th {\n",
              "        vertical-align: top;\n",
              "    }\n",
              "\n",
              "    .dataframe thead th {\n",
              "        text-align: right;\n",
              "    }\n",
              "</style>\n",
              "<table border=\"1\" class=\"dataframe\">\n",
              "  <thead>\n",
              "    <tr style=\"text-align: right;\">\n",
              "      <th></th>\n",
              "      <th>pickup_datetime</th>\n",
              "      <th>pickup_longitude</th>\n",
              "      <th>pickup_latitude</th>\n",
              "      <th>dropoff_longitude</th>\n",
              "      <th>dropoff_latitude</th>\n",
              "      <th>passenger_count</th>\n",
              "    </tr>\n",
              "  </thead>\n",
              "  <tbody>\n",
              "    <tr>\n",
              "      <th>0</th>\n",
              "      <td>2011-10-21 23:54:10 UTC</td>\n",
              "      <td>-73.990580</td>\n",
              "      <td>40.761071</td>\n",
              "      <td>-73.981128</td>\n",
              "      <td>40.758634</td>\n",
              "      <td>2</td>\n",
              "    </tr>\n",
              "    <tr>\n",
              "      <th>1</th>\n",
              "      <td>2015-02-03 10:42:03 UTC</td>\n",
              "      <td>-73.988403</td>\n",
              "      <td>40.723431</td>\n",
              "      <td>-73.989647</td>\n",
              "      <td>40.741695</td>\n",
              "      <td>1</td>\n",
              "    </tr>\n",
              "    <tr>\n",
              "      <th>2</th>\n",
              "      <td>2014-03-16 18:58:58 UTC</td>\n",
              "      <td>-74.015785</td>\n",
              "      <td>40.715110</td>\n",
              "      <td>-74.012029</td>\n",
              "      <td>40.707888</td>\n",
              "      <td>2</td>\n",
              "    </tr>\n",
              "    <tr>\n",
              "      <th>3</th>\n",
              "      <td>2009-06-13 16:10:54 UTC</td>\n",
              "      <td>-73.977322</td>\n",
              "      <td>40.787275</td>\n",
              "      <td>-73.958030</td>\n",
              "      <td>40.778838</td>\n",
              "      <td>3</td>\n",
              "    </tr>\n",
              "    <tr>\n",
              "      <th>4</th>\n",
              "      <td>2014-06-12 03:25:56 UTC</td>\n",
              "      <td>-73.989683</td>\n",
              "      <td>40.729717</td>\n",
              "      <td>-73.982490</td>\n",
              "      <td>40.761887</td>\n",
              "      <td>3</td>\n",
              "    </tr>\n",
              "  </tbody>\n",
              "</table>\n",
              "</div>"
            ],
            "text/plain": [
              "           pickup_datetime  pickup_longitude  ...  dropoff_latitude  passenger_count\n",
              "0  2011-10-21 23:54:10 UTC        -73.990580  ...         40.758634                2\n",
              "1  2015-02-03 10:42:03 UTC        -73.988403  ...         40.741695                1\n",
              "2  2014-03-16 18:58:58 UTC        -74.015785  ...         40.707888                2\n",
              "3  2009-06-13 16:10:54 UTC        -73.977322  ...         40.778838                3\n",
              "4  2014-06-12 03:25:56 UTC        -73.989683  ...         40.761887                3\n",
              "\n",
              "[5 rows x 6 columns]"
            ]
          },
          "metadata": {
            "tags": []
          },
          "execution_count": 2
        }
      ]
    },
    {
      "cell_type": "code",
      "metadata": {
        "id": "7cAMHnH8x92m",
        "colab_type": "code",
        "colab": {
          "base_uri": "https://localhost:8080/",
          "height": 309
        },
        "outputId": "bc74e7e9-4933-40ad-d96c-08eb725af908"
      },
      "source": [
        "# 時間特徵分解方式:使用datetime\n",
        "df['pickup_datetime'] = df['pickup_datetime'].apply(lambda x: datetime.datetime.strptime(x, '%Y-%m-%d %H:%M:%S UTC'))\n",
        "df['pickup_year'] = df['pickup_datetime'].apply(lambda x: datetime.datetime.strftime(x, '%Y')).astype('int64')\n",
        "df['pickup_month'] = df['pickup_datetime'].apply(lambda x: datetime.datetime.strftime(x, '%m')).astype('int64')\n",
        "df['pickup_day'] = df['pickup_datetime'].apply(lambda x: datetime.datetime.strftime(x, '%d')).astype('int64')\n",
        "df['pickup_hour'] = df['pickup_datetime'].apply(lambda x: datetime.datetime.strftime(x, '%H')).astype('int64')\n",
        "df['pickup_minute'] = df['pickup_datetime'].apply(lambda x: datetime.datetime.strftime(x, '%M')).astype('int64')\n",
        "df['pickup_second'] = df['pickup_datetime'].apply(lambda x: datetime.datetime.strftime(x, '%S')).astype('int64')\n",
        "df.head()"
      ],
      "execution_count": 3,
      "outputs": [
        {
          "output_type": "execute_result",
          "data": {
            "text/html": [
              "<div>\n",
              "<style scoped>\n",
              "    .dataframe tbody tr th:only-of-type {\n",
              "        vertical-align: middle;\n",
              "    }\n",
              "\n",
              "    .dataframe tbody tr th {\n",
              "        vertical-align: top;\n",
              "    }\n",
              "\n",
              "    .dataframe thead th {\n",
              "        text-align: right;\n",
              "    }\n",
              "</style>\n",
              "<table border=\"1\" class=\"dataframe\">\n",
              "  <thead>\n",
              "    <tr style=\"text-align: right;\">\n",
              "      <th></th>\n",
              "      <th>pickup_datetime</th>\n",
              "      <th>pickup_longitude</th>\n",
              "      <th>pickup_latitude</th>\n",
              "      <th>dropoff_longitude</th>\n",
              "      <th>dropoff_latitude</th>\n",
              "      <th>passenger_count</th>\n",
              "      <th>pickup_year</th>\n",
              "      <th>pickup_month</th>\n",
              "      <th>pickup_day</th>\n",
              "      <th>pickup_hour</th>\n",
              "      <th>pickup_minute</th>\n",
              "      <th>pickup_second</th>\n",
              "    </tr>\n",
              "  </thead>\n",
              "  <tbody>\n",
              "    <tr>\n",
              "      <th>0</th>\n",
              "      <td>2011-10-21 23:54:10</td>\n",
              "      <td>-73.990580</td>\n",
              "      <td>40.761071</td>\n",
              "      <td>-73.981128</td>\n",
              "      <td>40.758634</td>\n",
              "      <td>2</td>\n",
              "      <td>2011</td>\n",
              "      <td>10</td>\n",
              "      <td>21</td>\n",
              "      <td>23</td>\n",
              "      <td>54</td>\n",
              "      <td>10</td>\n",
              "    </tr>\n",
              "    <tr>\n",
              "      <th>1</th>\n",
              "      <td>2015-02-03 10:42:03</td>\n",
              "      <td>-73.988403</td>\n",
              "      <td>40.723431</td>\n",
              "      <td>-73.989647</td>\n",
              "      <td>40.741695</td>\n",
              "      <td>1</td>\n",
              "      <td>2015</td>\n",
              "      <td>2</td>\n",
              "      <td>3</td>\n",
              "      <td>10</td>\n",
              "      <td>42</td>\n",
              "      <td>3</td>\n",
              "    </tr>\n",
              "    <tr>\n",
              "      <th>2</th>\n",
              "      <td>2014-03-16 18:58:58</td>\n",
              "      <td>-74.015785</td>\n",
              "      <td>40.715110</td>\n",
              "      <td>-74.012029</td>\n",
              "      <td>40.707888</td>\n",
              "      <td>2</td>\n",
              "      <td>2014</td>\n",
              "      <td>3</td>\n",
              "      <td>16</td>\n",
              "      <td>18</td>\n",
              "      <td>58</td>\n",
              "      <td>58</td>\n",
              "    </tr>\n",
              "    <tr>\n",
              "      <th>3</th>\n",
              "      <td>2009-06-13 16:10:54</td>\n",
              "      <td>-73.977322</td>\n",
              "      <td>40.787275</td>\n",
              "      <td>-73.958030</td>\n",
              "      <td>40.778838</td>\n",
              "      <td>3</td>\n",
              "      <td>2009</td>\n",
              "      <td>6</td>\n",
              "      <td>13</td>\n",
              "      <td>16</td>\n",
              "      <td>10</td>\n",
              "      <td>54</td>\n",
              "    </tr>\n",
              "    <tr>\n",
              "      <th>4</th>\n",
              "      <td>2014-06-12 03:25:56</td>\n",
              "      <td>-73.989683</td>\n",
              "      <td>40.729717</td>\n",
              "      <td>-73.982490</td>\n",
              "      <td>40.761887</td>\n",
              "      <td>3</td>\n",
              "      <td>2014</td>\n",
              "      <td>6</td>\n",
              "      <td>12</td>\n",
              "      <td>3</td>\n",
              "      <td>25</td>\n",
              "      <td>56</td>\n",
              "    </tr>\n",
              "  </tbody>\n",
              "</table>\n",
              "</div>"
            ],
            "text/plain": [
              "      pickup_datetime  pickup_longitude  ...  pickup_minute  pickup_second\n",
              "0 2011-10-21 23:54:10        -73.990580  ...             54             10\n",
              "1 2015-02-03 10:42:03        -73.988403  ...             42              3\n",
              "2 2014-03-16 18:58:58        -74.015785  ...             58             58\n",
              "3 2009-06-13 16:10:54        -73.977322  ...             10             54\n",
              "4 2014-06-12 03:25:56        -73.989683  ...             25             56\n",
              "\n",
              "[5 rows x 12 columns]"
            ]
          },
          "metadata": {
            "tags": []
          },
          "execution_count": 3
        }
      ]
    },
    {
      "cell_type": "code",
      "metadata": {
        "id": "bLyXaOfKx92o",
        "colab_type": "code",
        "colab": {
          "base_uri": "https://localhost:8080/",
          "height": 51
        },
        "outputId": "518194da-ac57-4929-c3d4-1b40c24c7b71"
      },
      "source": [
        "# 將結果使用線性迴歸 / 梯度提升樹分別看結果\n",
        "df = df.drop(['pickup_datetime'] , axis=1)\n",
        "scaler = MinMaxScaler()\n",
        "train_X = scaler.fit_transform(df)\n",
        "Linear = LinearRegression()\n",
        "print(f'Linear Reg Score : {cross_val_score(Linear, train_X, train_Y, cv=5).mean()}')\n",
        "GDBT = GradientBoostingRegressor()\n",
        "print(f'Gradient Boosting Reg Score : {cross_val_score(GDBT, train_X, train_Y, cv=5).mean()}')"
      ],
      "execution_count": 4,
      "outputs": [
        {
          "output_type": "stream",
          "text": [
            "Linear Reg Score : 0.026876871475639042\n",
            "Gradient Boosting Reg Score : 0.7109740991704838\n"
          ],
          "name": "stdout"
        }
      ]
    },
    {
      "cell_type": "code",
      "metadata": {
        "id": "kwTH8_vVx92r",
        "colab_type": "code",
        "colab": {
          "base_uri": "https://localhost:8080/",
          "height": 203
        },
        "outputId": "afd953b9-19ed-4eaa-c233-2ac73bfe264e"
      },
      "source": [
        "# 增加緯度差, 經度差, 座標距離等三個特徵\n",
        "df['longitude_diff'] = df['dropoff_longitude'] - df['pickup_longitude']\n",
        "df['latitude_diff'] = df['dropoff_latitude'] - df['pickup_latitude']\n",
        "df['distance_2D'] = (df['longitude_diff']**2 + df['latitude_diff']**2)**0.5\n",
        "df[['distance_2D', 'longitude_diff', 'latitude_diff', 'pickup_longitude', 'pickup_latitude', 'dropoff_longitude', 'dropoff_latitude']].head()"
      ],
      "execution_count": 5,
      "outputs": [
        {
          "output_type": "execute_result",
          "data": {
            "text/html": [
              "<div>\n",
              "<style scoped>\n",
              "    .dataframe tbody tr th:only-of-type {\n",
              "        vertical-align: middle;\n",
              "    }\n",
              "\n",
              "    .dataframe tbody tr th {\n",
              "        vertical-align: top;\n",
              "    }\n",
              "\n",
              "    .dataframe thead th {\n",
              "        text-align: right;\n",
              "    }\n",
              "</style>\n",
              "<table border=\"1\" class=\"dataframe\">\n",
              "  <thead>\n",
              "    <tr style=\"text-align: right;\">\n",
              "      <th></th>\n",
              "      <th>distance_2D</th>\n",
              "      <th>longitude_diff</th>\n",
              "      <th>latitude_diff</th>\n",
              "      <th>pickup_longitude</th>\n",
              "      <th>pickup_latitude</th>\n",
              "      <th>dropoff_longitude</th>\n",
              "      <th>dropoff_latitude</th>\n",
              "    </tr>\n",
              "  </thead>\n",
              "  <tbody>\n",
              "    <tr>\n",
              "      <th>0</th>\n",
              "      <td>0.009761</td>\n",
              "      <td>0.009452</td>\n",
              "      <td>-0.002437</td>\n",
              "      <td>-73.990580</td>\n",
              "      <td>40.761071</td>\n",
              "      <td>-73.981128</td>\n",
              "      <td>40.758634</td>\n",
              "    </tr>\n",
              "    <tr>\n",
              "      <th>1</th>\n",
              "      <td>0.018307</td>\n",
              "      <td>-0.001244</td>\n",
              "      <td>0.018265</td>\n",
              "      <td>-73.988403</td>\n",
              "      <td>40.723431</td>\n",
              "      <td>-73.989647</td>\n",
              "      <td>40.741695</td>\n",
              "    </tr>\n",
              "    <tr>\n",
              "      <th>2</th>\n",
              "      <td>0.008140</td>\n",
              "      <td>0.003756</td>\n",
              "      <td>-0.007222</td>\n",
              "      <td>-74.015785</td>\n",
              "      <td>40.715110</td>\n",
              "      <td>-74.012029</td>\n",
              "      <td>40.707888</td>\n",
              "    </tr>\n",
              "    <tr>\n",
              "      <th>3</th>\n",
              "      <td>0.021056</td>\n",
              "      <td>0.019292</td>\n",
              "      <td>-0.008437</td>\n",
              "      <td>-73.977322</td>\n",
              "      <td>40.787275</td>\n",
              "      <td>-73.958030</td>\n",
              "      <td>40.778838</td>\n",
              "    </tr>\n",
              "    <tr>\n",
              "      <th>4</th>\n",
              "      <td>0.032964</td>\n",
              "      <td>0.007193</td>\n",
              "      <td>0.032170</td>\n",
              "      <td>-73.989683</td>\n",
              "      <td>40.729717</td>\n",
              "      <td>-73.982490</td>\n",
              "      <td>40.761887</td>\n",
              "    </tr>\n",
              "  </tbody>\n",
              "</table>\n",
              "</div>"
            ],
            "text/plain": [
              "   distance_2D  longitude_diff  ...  dropoff_longitude  dropoff_latitude\n",
              "0     0.009761        0.009452  ...         -73.981128         40.758634\n",
              "1     0.018307       -0.001244  ...         -73.989647         40.741695\n",
              "2     0.008140        0.003756  ...         -74.012029         40.707888\n",
              "3     0.021056        0.019292  ...         -73.958030         40.778838\n",
              "4     0.032964        0.007193  ...         -73.982490         40.761887\n",
              "\n",
              "[5 rows x 7 columns]"
            ]
          },
          "metadata": {
            "tags": []
          },
          "execution_count": 5
        }
      ]
    },
    {
      "cell_type": "code",
      "metadata": {
        "id": "iNE30Eksx92t",
        "colab_type": "code",
        "colab": {
          "base_uri": "https://localhost:8080/",
          "height": 51
        },
        "outputId": "f125c410-5570-42a7-95e0-434f26173c35"
      },
      "source": [
        "# 結果 : 準確度上升\n",
        "train_X = scaler.fit_transform(df)\n",
        "print(f'Linear Reg Score : {cross_val_score(Linear, train_X, train_Y, cv=5).mean()}')\n",
        "print(f'Gradient Boosting Reg Score : {cross_val_score(GDBT, train_X, train_Y, cv=5).mean()}')"
      ],
      "execution_count": 6,
      "outputs": [
        {
          "output_type": "stream",
          "text": [
            "Linear Reg Score : 0.027388172930510456\n",
            "Gradient Boosting Reg Score : 0.8041763585199625\n"
          ],
          "name": "stdout"
        }
      ]
    },
    {
      "cell_type": "markdown",
      "metadata": {
        "collapsed": true,
        "id": "yY9N2SUWx92v",
        "colab_type": "text"
      },
      "source": [
        "# 作業1\n",
        "* 參考今日教材，試著使用經緯度一圈的長度比這一概念，組合出一個新特徵，再觀察原特徵加上新特徵是否提升了正確率?"
      ]
    },
    {
      "cell_type": "code",
      "metadata": {
        "id": "ZUD-PAGkx92w",
        "colab_type": "code",
        "colab": {
          "base_uri": "https://localhost:8080/",
          "height": 51
        },
        "outputId": "2af5301a-7120-470b-dd9c-49d4ce3fe8fb"
      },
      "source": [
        "import math\n",
        "\"\"\"\n",
        "Your Code Here, set new character at df['distance_real']\n",
        "\"\"\"\n",
        "latitude_average = df['pickup_latitude'].mean()\n",
        "latitude_factor = math.cos(latitude_average/180*math.pi)\n",
        "df['distance_real'] = ((df['longitude_diff']*latitude_factor)**2 + df['latitude_diff']**2)**0.5\n",
        "\n",
        "# 觀察結果 : 沒有幫助到\n",
        "train_X = scaler.fit_transform(df)\n",
        "print(f'Linear Reg Score : {cross_val_score(Linear, train_X, train_Y, cv=5).mean()}')\n",
        "print(f'Gradient Boosting Reg Score : {cross_val_score(GDBT, train_X, train_Y, cv=5).mean()}')"
      ],
      "execution_count": 7,
      "outputs": [
        {
          "output_type": "stream",
          "text": [
            "Linear Reg Score : 0.025415337543821147\n",
            "Gradient Boosting Reg Score : 0.8003463387759961\n"
          ],
          "name": "stdout"
        }
      ]
    },
    {
      "cell_type": "markdown",
      "metadata": {
        "id": "z8HvBIrMx92y",
        "colab_type": "text"
      },
      "source": [
        "# 作業2\n",
        "* 試著只使用新特徵估計目標值(忽略原特徵)，效果跟作業1的結果比較起來效果如何?"
      ]
    },
    {
      "cell_type": "code",
      "metadata": {
        "id": "AB1ZrDOKx92z",
        "colab_type": "code",
        "colab": {
          "base_uri": "https://localhost:8080/",
          "height": 51
        },
        "outputId": "4721b202-3a71-4eb6-99c0-1a84b04fda34"
      },
      "source": [
        "train_X = scaler.fit_transform(df[['distance_real']])\n",
        "print(f'Linear Reg Score : {cross_val_score(Linear, train_X, train_Y, cv=5).mean()}')\n",
        "print(f'Gradient Boosting Reg Score : {cross_val_score(GDBT, train_X, train_Y, cv=5).mean()}')"
      ],
      "execution_count": 8,
      "outputs": [
        {
          "output_type": "stream",
          "text": [
            "Linear Reg Score : 0.0014462469864103156\n",
            "Gradient Boosting Reg Score : 0.7236450666734193\n"
          ],
          "name": "stdout"
        }
      ]
    },
    {
      "cell_type": "code",
      "metadata": {
        "id": "a57D4HFGx921",
        "colab_type": "code",
        "colab": {}
      },
      "source": [
        ""
      ],
      "execution_count": 0,
      "outputs": []
    }
  ]
}