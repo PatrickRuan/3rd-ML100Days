{
  "nbformat": 4,
  "nbformat_minor": 0,
  "metadata": {
    "kernelspec": {
      "name": "python3",
      "display_name": "Python 3"
    },
    "language_info": {
      "codemirror_mode": {
        "name": "ipython",
        "version": 3
      },
      "file_extension": ".py",
      "mimetype": "text/x-python",
      "name": "python",
      "nbconvert_exporter": "python",
      "pygments_lexer": "ipython3",
      "version": "3.6.5"
    },
    "colab": {
      "name": "Day088_CB_CustomizedCallbacks_Ans.ipynb",
      "provenance": [],
      "collapsed_sections": [],
      "include_colab_link": true
    },
    "accelerator": "GPU"
  },
  "cells": [
    {
      "cell_type": "markdown",
      "metadata": {
        "id": "view-in-github",
        "colab_type": "text"
      },
      "source": [
        "<a href=\"https://colab.research.google.com/github/PatrickRuan/3rd-ML100Days/blob/master/homework/Day088_CB_CustomizedCallbacks_Ans.ipynb\" target=\"_parent\"><img src=\"https://colab.research.google.com/assets/colab-badge.svg\" alt=\"Open In Colab\"/></a>"
      ]
    },
    {
      "cell_type": "markdown",
      "metadata": {
        "id": "pEwNVITykVfu",
        "colab_type": "text"
      },
      "source": [
        "## Work\n",
        "1. 請嘗試寫一個 callback 用來記錄各類別在訓練過程中，對驗證集的 True Positive 與 True Negative"
      ]
    },
    {
      "cell_type": "code",
      "metadata": {
        "id": "aJAVyUe2kVf0",
        "colab_type": "code",
        "colab": {
          "base_uri": "https://localhost:8080/",
          "height": 81
        },
        "outputId": "160f4884-b342-44c2-cc4a-6fa24648e389"
      },
      "source": [
        "import os\n",
        "import keras\n",
        "\n",
        "# Disable GPU\n",
        "os.environ[\"CUDA_VISIBLE_DEVICES\"] = \"\""
      ],
      "execution_count": 1,
      "outputs": [
        {
          "output_type": "stream",
          "text": [
            "Using TensorFlow backend.\n"
          ],
          "name": "stderr"
        },
        {
          "output_type": "display_data",
          "data": {
            "text/html": [
              "<p style=\"color: red;\">\n",
              "The default version of TensorFlow in Colab will soon switch to TensorFlow 2.x.<br>\n",
              "We recommend you <a href=\"https://www.tensorflow.org/guide/migrate\" target=\"_blank\">upgrade</a> now \n",
              "or ensure your notebook will continue to use TensorFlow 1.x via the <code>%tensorflow_version 1.x</code> magic:\n",
              "<a href=\"https://colab.research.google.com/notebooks/tensorflow_version.ipynb\" target=\"_blank\">more info</a>.</p>\n"
            ],
            "text/plain": [
              "<IPython.core.display.HTML object>"
            ]
          },
          "metadata": {
            "tags": []
          }
        }
      ]
    },
    {
      "cell_type": "code",
      "metadata": {
        "id": "_asK4692kVf5",
        "colab_type": "code",
        "colab": {
          "base_uri": "https://localhost:8080/",
          "height": 51
        },
        "outputId": "a94637ca-e2d0-4bbf-bff0-4dce9a935e44"
      },
      "source": [
        "train, test = keras.datasets.cifar10.load_data()"
      ],
      "execution_count": 2,
      "outputs": [
        {
          "output_type": "stream",
          "text": [
            "Downloading data from https://www.cs.toronto.edu/~kriz/cifar-10-python.tar.gz\n",
            "170500096/170498071 [==============================] - 4s 0us/step\n"
          ],
          "name": "stdout"
        }
      ]
    },
    {
      "cell_type": "code",
      "metadata": {
        "id": "KlTfUg6DkVf9",
        "colab_type": "code",
        "colab": {}
      },
      "source": [
        "## 資料前處理\n",
        "def preproc_x(x, flatten=True):\n",
        "    x = x / 255.\n",
        "    if flatten:\n",
        "        x = x.reshape((len(x), -1))\n",
        "    return x\n",
        "\n",
        "def preproc_y(y, num_classes=10):\n",
        "    if y.shape[-1] == 1:\n",
        "        y = keras.utils.to_categorical(y, num_classes)\n",
        "    return y    "
      ],
      "execution_count": 0,
      "outputs": []
    },
    {
      "cell_type": "code",
      "metadata": {
        "id": "f503XdCVkVgB",
        "colab_type": "code",
        "colab": {}
      },
      "source": [
        "x_train, y_train = train\n",
        "x_test, y_test = test\n",
        "\n",
        "# Preproc the inputs\n",
        "x_train = preproc_x(x_train)\n",
        "x_test = preproc_x(x_test)\n",
        "\n",
        "# Preprc the outputs\n",
        "y_train = preproc_y(y_train)\n",
        "y_test = preproc_y(y_test)"
      ],
      "execution_count": 0,
      "outputs": []
    },
    {
      "cell_type": "code",
      "metadata": {
        "id": "qIKkefHtkVgE",
        "colab_type": "code",
        "colab": {}
      },
      "source": [
        "from keras.layers import BatchNormalization\n",
        "def build_mlp(input_shape, output_units=10, num_neurons=[256, 256, 256]):\n",
        "    input_layer = keras.layers.Input(input_shape)\n",
        "    \n",
        "    for i, n_units in enumerate(num_neurons):\n",
        "        if i == 0:\n",
        "            x = keras.layers.Dense(units=n_units, \n",
        "                                   activation=\"relu\", \n",
        "                                   name=\"hidden_layer\"+str(i+1))(input_layer)\n",
        "            x = BatchNormalization()(x)\n",
        "        else:\n",
        "            x = keras.layers.Dense(units=n_units, \n",
        "                                   activation=\"relu\", \n",
        "                                   name=\"hidden_layer\"+str(i+1))(x)\n",
        "            x = BatchNormalization()(x)\n",
        "    \n",
        "    out = keras.layers.Dense(units=output_units, activation=\"softmax\", name=\"output\")(x)\n",
        "    \n",
        "    model = keras.models.Model(inputs=[input_layer], outputs=[out])\n",
        "    return model"
      ],
      "execution_count": 0,
      "outputs": []
    },
    {
      "cell_type": "code",
      "metadata": {
        "id": "g6CJ-Ar5kVgH",
        "colab_type": "code",
        "colab": {}
      },
      "source": [
        "## 超參數設定\n",
        "LEARNING_RATE = 1e-3\n",
        "EPOCHS = 25\n",
        "BATCH_SIZE = 1024\n",
        "MOMENTUM = 0.95"
      ],
      "execution_count": 0,
      "outputs": []
    },
    {
      "cell_type": "code",
      "metadata": {
        "id": "_r8lC16tkVgJ",
        "colab_type": "code",
        "colab": {}
      },
      "source": [
        "# 載入 Callbacks\n",
        "from keras.callbacks import Callback\n",
        "\n",
        "# Record_fp_tp\n",
        "class Record_tp_tn(Callback):\n",
        "    def on_train_begin(self, epoch, logs = {}):\n",
        "        logs = logs or {}\n",
        "        record_items = [\"val_tp\", \"val_tn\"]\n",
        "        for i in record_items:\n",
        "            if i not in self.params['metrics']:\n",
        "                self.params['metrics'].append(i)\n",
        "    \n",
        "    def on_epoch_end(self, epoch, logs = {}, thres=0.5):\n",
        "        logs = logs or {}\n",
        "        y_true = self.validation_data[1].argmax(axis = 1)\n",
        "        y_pred = self.model.predict(self.validation_data[0])\n",
        "        y_pred = (y_pred[:, 1] >= thres) * 1\n",
        "        tp = sum(y_true*y_pred)\n",
        "        tn = sum((y_true==0) & (y_pred==0))\n",
        "        \n",
        "        logs[\"val_tp\"] = tp\n",
        "        logs[\"val_tn\"] = tn\n",
        "        \n",
        "tptn = Record_tp_tn()"
      ],
      "execution_count": 0,
      "outputs": []
    },
    {
      "cell_type": "code",
      "metadata": {
        "scrolled": true,
        "id": "drC7yHyskVgM",
        "colab_type": "code",
        "colab": {
          "base_uri": "https://localhost:8080/",
          "height": 1000
        },
        "outputId": "8c3cf66d-d21a-41f4-dfad-4fddf721b84d"
      },
      "source": [
        "model = build_mlp(input_shape=x_train.shape[1:])\n",
        "model.summary()\n",
        "optimizer = keras.optimizers.SGD(lr=LEARNING_RATE, nesterov=True, momentum=MOMENTUM)\n",
        "model.compile(loss=\"categorical_crossentropy\", metrics=[\"accuracy\"], optimizer=optimizer)\n",
        "\n",
        "model.fit(x_train, y_train, \n",
        "          epochs=EPOCHS, \n",
        "          batch_size=BATCH_SIZE, \n",
        "          validation_data=(x_test, y_test), \n",
        "          callbacks=[tptn]\n",
        "         )\n",
        "\n",
        "# Collect results\n",
        "train_loss = model.history.history[\"loss\"]\n",
        "valid_loss = model.history.history[\"val_loss\"]\n",
        "train_acc = model.history.history[\"acc\"]\n",
        "valid_acc = model.history.history[\"val_acc\"]\n",
        "\n",
        "valid_tp = model.history.history['val_tp']\n",
        "valid_tn = model.history.history['val_tn']"
      ],
      "execution_count": 9,
      "outputs": [
        {
          "output_type": "stream",
          "text": [
            "Model: \"model_2\"\n",
            "_________________________________________________________________\n",
            "Layer (type)                 Output Shape              Param #   \n",
            "=================================================================\n",
            "input_2 (InputLayer)         (None, 3072)              0         \n",
            "_________________________________________________________________\n",
            "hidden_layer1 (Dense)        (None, 256)               786688    \n",
            "_________________________________________________________________\n",
            "batch_normalization_4 (Batch (None, 256)               1024      \n",
            "_________________________________________________________________\n",
            "hidden_layer2 (Dense)        (None, 256)               65792     \n",
            "_________________________________________________________________\n",
            "batch_normalization_5 (Batch (None, 256)               1024      \n",
            "_________________________________________________________________\n",
            "hidden_layer3 (Dense)        (None, 256)               65792     \n",
            "_________________________________________________________________\n",
            "batch_normalization_6 (Batch (None, 256)               1024      \n",
            "_________________________________________________________________\n",
            "output (Dense)               (None, 10)                2570      \n",
            "=================================================================\n",
            "Total params: 923,914\n",
            "Trainable params: 922,378\n",
            "Non-trainable params: 1,536\n",
            "_________________________________________________________________\n",
            "WARNING:tensorflow:From /usr/local/lib/python3.6/dist-packages/tensorflow_core/python/ops/math_grad.py:1424: where (from tensorflow.python.ops.array_ops) is deprecated and will be removed in a future version.\n",
            "Instructions for updating:\n",
            "Use tf.where in 2.0, which has the same broadcast rule as np.where\n",
            "WARNING:tensorflow:From /usr/local/lib/python3.6/dist-packages/keras/backend/tensorflow_backend.py:1033: The name tf.assign_add is deprecated. Please use tf.compat.v1.assign_add instead.\n",
            "\n",
            "WARNING:tensorflow:From /usr/local/lib/python3.6/dist-packages/keras/backend/tensorflow_backend.py:1020: The name tf.assign is deprecated. Please use tf.compat.v1.assign instead.\n",
            "\n",
            "WARNING:tensorflow:From /usr/local/lib/python3.6/dist-packages/keras/backend/tensorflow_backend.py:3005: The name tf.Session is deprecated. Please use tf.compat.v1.Session instead.\n",
            "\n",
            "Train on 50000 samples, validate on 10000 samples\n",
            "Epoch 1/25\n",
            "WARNING:tensorflow:From /usr/local/lib/python3.6/dist-packages/keras/backend/tensorflow_backend.py:190: The name tf.get_default_session is deprecated. Please use tf.compat.v1.get_default_session instead.\n",
            "\n",
            "WARNING:tensorflow:From /usr/local/lib/python3.6/dist-packages/keras/backend/tensorflow_backend.py:197: The name tf.ConfigProto is deprecated. Please use tf.compat.v1.ConfigProto instead.\n",
            "\n",
            "WARNING:tensorflow:From /usr/local/lib/python3.6/dist-packages/keras/backend/tensorflow_backend.py:207: The name tf.global_variables is deprecated. Please use tf.compat.v1.global_variables instead.\n",
            "\n",
            "WARNING:tensorflow:From /usr/local/lib/python3.6/dist-packages/keras/backend/tensorflow_backend.py:216: The name tf.is_variable_initialized is deprecated. Please use tf.compat.v1.is_variable_initialized instead.\n",
            "\n",
            "WARNING:tensorflow:From /usr/local/lib/python3.6/dist-packages/keras/backend/tensorflow_backend.py:223: The name tf.variables_initializer is deprecated. Please use tf.compat.v1.variables_initializer instead.\n",
            "\n",
            "50000/50000 [==============================] - 7s 133us/step - loss: 2.2591 - acc: 0.2623 - val_loss: 2.1900 - val_acc: 0.3092\n",
            "Epoch 2/25\n",
            "50000/50000 [==============================] - 6s 117us/step - loss: 1.7703 - acc: 0.3826 - val_loss: 1.8120 - val_acc: 0.3817\n",
            "Epoch 3/25\n",
            "50000/50000 [==============================] - 6s 115us/step - loss: 1.6415 - acc: 0.4251 - val_loss: 1.7665 - val_acc: 0.3818\n",
            "Epoch 4/25\n",
            "50000/50000 [==============================] - 6s 115us/step - loss: 1.5671 - acc: 0.4484 - val_loss: 1.6508 - val_acc: 0.4172\n",
            "Epoch 5/25\n",
            "50000/50000 [==============================] - 6s 115us/step - loss: 1.5118 - acc: 0.4697 - val_loss: 1.6019 - val_acc: 0.4333\n",
            "Epoch 6/25\n",
            "50000/50000 [==============================] - 6s 114us/step - loss: 1.4686 - acc: 0.4844 - val_loss: 1.5811 - val_acc: 0.4405\n",
            "Epoch 7/25\n",
            "50000/50000 [==============================] - 6s 115us/step - loss: 1.4313 - acc: 0.4990 - val_loss: 1.5510 - val_acc: 0.4574\n",
            "Epoch 8/25\n",
            "50000/50000 [==============================] - 6s 115us/step - loss: 1.3988 - acc: 0.5116 - val_loss: 1.5468 - val_acc: 0.4530\n",
            "Epoch 9/25\n",
            "50000/50000 [==============================] - 6s 115us/step - loss: 1.3694 - acc: 0.5208 - val_loss: 1.5295 - val_acc: 0.4626\n",
            "Epoch 10/25\n",
            "50000/50000 [==============================] - 6s 114us/step - loss: 1.3413 - acc: 0.5319 - val_loss: 1.5115 - val_acc: 0.4693\n",
            "Epoch 11/25\n",
            "50000/50000 [==============================] - 6s 115us/step - loss: 1.3155 - acc: 0.5406 - val_loss: 1.4998 - val_acc: 0.4722\n",
            "Epoch 12/25\n",
            "50000/50000 [==============================] - 6s 114us/step - loss: 1.2918 - acc: 0.5494 - val_loss: 1.4973 - val_acc: 0.4746\n",
            "Epoch 13/25\n",
            "50000/50000 [==============================] - 6s 115us/step - loss: 1.2685 - acc: 0.5579 - val_loss: 1.4782 - val_acc: 0.4821\n",
            "Epoch 14/25\n",
            "50000/50000 [==============================] - 6s 115us/step - loss: 1.2454 - acc: 0.5669 - val_loss: 1.4738 - val_acc: 0.4780\n",
            "Epoch 15/25\n",
            "50000/50000 [==============================] - 6s 114us/step - loss: 1.2262 - acc: 0.5746 - val_loss: 1.4644 - val_acc: 0.4833\n",
            "Epoch 16/25\n",
            "50000/50000 [==============================] - 6s 115us/step - loss: 1.2048 - acc: 0.5820 - val_loss: 1.4593 - val_acc: 0.4852\n",
            "Epoch 17/25\n",
            "50000/50000 [==============================] - 6s 115us/step - loss: 1.1865 - acc: 0.5875 - val_loss: 1.4513 - val_acc: 0.4901\n",
            "Epoch 18/25\n",
            "50000/50000 [==============================] - 6s 115us/step - loss: 1.1669 - acc: 0.5950 - val_loss: 1.4556 - val_acc: 0.4864\n",
            "Epoch 19/25\n",
            "50000/50000 [==============================] - 6s 115us/step - loss: 1.1477 - acc: 0.6014 - val_loss: 1.4489 - val_acc: 0.4897\n",
            "Epoch 20/25\n",
            "50000/50000 [==============================] - 6s 116us/step - loss: 1.1289 - acc: 0.6106 - val_loss: 1.4533 - val_acc: 0.4944\n",
            "Epoch 21/25\n",
            "50000/50000 [==============================] - 6s 115us/step - loss: 1.1115 - acc: 0.6152 - val_loss: 1.4611 - val_acc: 0.4899\n",
            "Epoch 22/25\n",
            "50000/50000 [==============================] - 6s 115us/step - loss: 1.0957 - acc: 0.6229 - val_loss: 1.4421 - val_acc: 0.4954\n",
            "Epoch 23/25\n",
            "50000/50000 [==============================] - 6s 115us/step - loss: 1.0772 - acc: 0.6301 - val_loss: 1.4458 - val_acc: 0.4957\n",
            "Epoch 24/25\n",
            "50000/50000 [==============================] - 6s 115us/step - loss: 1.0613 - acc: 0.6342 - val_loss: 1.4433 - val_acc: 0.4983\n",
            "Epoch 25/25\n",
            "50000/50000 [==============================] - 6s 115us/step - loss: 1.0437 - acc: 0.6439 - val_loss: 1.4427 - val_acc: 0.4950\n"
          ],
          "name": "stdout"
        }
      ]
    },
    {
      "cell_type": "code",
      "metadata": {
        "id": "on-S5GWukVgQ",
        "colab_type": "code",
        "colab": {
          "base_uri": "https://localhost:8080/",
          "height": 809
        },
        "outputId": "8950ff30-498f-4d43-9d03-15511f62859c"
      },
      "source": [
        "import matplotlib.pyplot as plt\n",
        "%matplotlib inline\n",
        "\n",
        "plt.plot(range(len(train_loss)), train_loss, label=\"train loss\")\n",
        "plt.plot(range(len(valid_loss)), valid_loss, label=\"valid loss\")\n",
        "plt.legend()\n",
        "plt.title(\"Loss\")\n",
        "plt.show()\n",
        "\n",
        "plt.plot(range(len(train_acc)), train_acc, label=\"train accuracy\")\n",
        "plt.plot(range(len(valid_acc)), valid_acc, label=\"valid accuracy\")\n",
        "plt.legend()\n",
        "plt.title(\"Accuracy\")\n",
        "plt.show()\n",
        "\n",
        "plt.plot(range(len(valid_tp)), valid_tp, label=\"valid tp\", color=\"navy\")\n",
        "plt.plot(range(len(valid_tn)), valid_tn, label=\"valid tn\", color=\"red\")\n",
        "plt.legend()\n",
        "plt.title(\"True positives and True Negatives\")\n",
        "plt.show()\n"
      ],
      "execution_count": 10,
      "outputs": [
        {
          "output_type": "display_data",
          "data": {
            "image/png": "[encoded data removed]",
            "text/plain": [
              "<Figure size 432x288 with 1 Axes>"
            ]
          },
          "metadata": {
            "tags": []
          }
        },
        {
          "output_type": "display_data",
          "data": {
            "image/png": "[encoded data removed]",
            "text/plain": [
              "<Figure size 432x288 with 1 Axes>"
            ]
          },
          "metadata": {
            "tags": []
          }
        },
        {
          "output_type": "display_data",
          "data": {
            "image/png": "[encoded data removed]",
            "text/plain": [
              "<Figure size 432x288 with 1 Axes>"
            ]
          },
          "metadata": {
            "tags": []
          }
        }
      ]
    }
  ]
}