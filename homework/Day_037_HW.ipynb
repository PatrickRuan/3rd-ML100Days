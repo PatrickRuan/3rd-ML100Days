{
  "nbformat": 4,
  "nbformat_minor": 0,
  "metadata": {
    "kernelspec": {
      "display_name": "Python 3",
      "language": "python",
      "name": "python3"
    },
    "language_info": {
      "codemirror_mode": {
        "name": "ipython",
        "version": 3
      },
      "file_extension": ".py",
      "mimetype": "text/x-python",
      "name": "python",
      "nbconvert_exporter": "python",
      "pygments_lexer": "ipython3",
      "version": "3.6.2"
    },
    "colab": {
      "name": "Day_037_HW.ipynb",
      "provenance": [],
      "collapsed_sections": [],
      "include_colab_link": true
    }
  },
  "cells": [
    {
      "cell_type": "markdown",
      "metadata": {
        "id": "view-in-github",
        "colab_type": "text"
      },
      "source": [
        "<a href=\"https://colab.research.google.com/github/PatrickRuan/3rd-ML100Days/blob/master/homework/Day_037_HW.ipynb\" target=\"_parent\"><img src=\"https://colab.research.google.com/assets/colab-badge.svg\" alt=\"Open In Colab\"/></a>"
      ]
    },
    {
      "cell_type": "markdown",
      "metadata": {
        "id": "0WVjA8450fAK",
        "colab_type": "text"
      },
      "source": [
        "## [作業重點]\n",
        "了解線性回歸的模型發展歷程，並了解優勢與劣勢，以及其使用情境"
      ]
    },
    {
      "cell_type": "markdown",
      "metadata": {
        "id": "-ssn5QbJ0fAN",
        "colab_type": "text"
      },
      "source": [
        "## 作業"
      ]
    },
    {
      "cell_type": "markdown",
      "metadata": {
        "id": "h6h-rJ6-0fAO",
        "colab_type": "text"
      },
      "source": [
        "請閱讀以下相關文獻，並回答以下問題\n",
        "\n",
        "[Linear Regression 詳細介紹](https://brohrer.mcknote.com/zh-Hant/how_machine_learning_works/how_linear_regression_works.html)\n",
        "\n",
        "[Logistics Regression 詳細介紹](https://medium.com/@yehjames/%E8%B3%87%E6%96%99%E5%88%86%E6%9E%90-%E6%A9%9F%E5%99%A8%E5%AD%B8%E7%BF%92-%E7%AC%AC3-3%E8%AC%9B-%E7%B7%9A%E6%80%A7%E5%88%86%E9%A1%9E-%E9%82%8F%E8%BC%AF%E6%96%AF%E5%9B%9E%E6%AD%B8-logistic-regression-%E4%BB%8B%E7%B4%B9-a1a5f47017e5)\n"
      ]
    },
    {
      "cell_type": "markdown",
      "metadata": {
        "id": "ckuRgwul0fAP",
        "colab_type": "text"
      },
      "source": [
        "1. 線性回歸模型能夠準確預測非線性關係的資料集嗎?\n",
        "\n",
        "不行。\n",
        "2. 回歸模型是否對資料分布有基本假設?\n",
        "\n",
        "沒有。 Generative model (Bayes, Naive... 才有)\n"
      ]
    },
    {
      "cell_type": "code",
      "metadata": {
        "id": "LDHlWE2D0fAQ",
        "colab_type": "code",
        "colab": {}
      },
      "source": [
        ""
      ],
      "execution_count": 0,
      "outputs": []
    },
    {
      "cell_type": "markdown",
      "metadata": {
        "id": "aj5D4ZfA2tcd",
        "colab_type": "text"
      },
      "source": [
        "ref \n",
        "\n",
        "為了數學推導方便，之前我們將二元分類的A類以+1表示、B類以-1表示，現在將A類改以+1表示、B類以0表示。我們想要找到一組w，能夠將下方的式子變成最大值，那組w就是我們要找的線(z=w*x)。下方的式子是希望當y=1的時候 ∅(z) 越靠近1（判斷成A類的機率越大），由於1-y是0所以右邊的項會是1，當y=0時左邊這項會是1右邊這項希望 ∅(z) 越靠近0越好（判斷成B類的機率越大）。"
      ]
    }
  ]
}