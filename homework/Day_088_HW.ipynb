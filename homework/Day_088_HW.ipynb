{
  "nbformat": 4,
  "nbformat_minor": 0,
  "metadata": {
    "kernelspec": {
      "name": "python3",
      "display_name": "Python 3"
    },
    "language_info": {
      "codemirror_mode": {
        "name": "ipython",
        "version": 3
      },
      "file_extension": ".py",
      "mimetype": "text/x-python",
      "name": "python",
      "nbconvert_exporter": "python",
      "pygments_lexer": "ipython3",
      "version": "3.6.5"
    },
    "colab": {
      "name": "Day088_HW.ipynb",
      "provenance": [],
      "collapsed_sections": [],
      "include_colab_link": true
    },
    "accelerator": "GPU"
  },
  "cells": [
    {
      "cell_type": "markdown",
      "metadata": {
        "id": "view-in-github",
        "colab_type": "text"
      },
      "source": [
        "<a href=\"https://colab.research.google.com/github/PatrickRuan/3rd-ML100Days/blob/master/homework/Day088_HW.ipynb\" target=\"_parent\"><img src=\"https://colab.research.google.com/assets/colab-badge.svg\" alt=\"Open In Colab\"/></a>"
      ]
    },
    {
      "cell_type": "markdown",
      "metadata": {
        "id": "VeXL2qi5i0Ab",
        "colab_type": "text"
      },
      "source": [
        "## Work\n",
        "1. 請嘗試寫一個 callback 用來記錄各類別在訓練過程中，對驗證集的 True Positive 與 True Negative"
      ]
    },
    {
      "cell_type": "code",
      "metadata": {
        "id": "PPUGTXPhi0Ag",
        "colab_type": "code",
        "outputId": "df0ea98a-bf8a-4c47-f101-8152643bba55",
        "colab": {
          "base_uri": "https://localhost:8080/",
          "height": 81
        }
      },
      "source": [
        "import os\n",
        "import keras\n",
        "\n",
        "# Disable GPU\n",
        "#os.environ[\"CUDA_VISIBLE_DEVICES\"] = \"\""
      ],
      "execution_count": 1,
      "outputs": [
        {
          "output_type": "stream",
          "text": [
            "Using TensorFlow backend.\n"
          ],
          "name": "stderr"
        },
        {
          "output_type": "display_data",
          "data": {
            "text/html": [
              "<p style=\"color: red;\">\n",
              "The default version of TensorFlow in Colab will soon switch to TensorFlow 2.x.<br>\n",
              "We recommend you <a href=\"https://www.tensorflow.org/guide/migrate\" target=\"_blank\">upgrade</a> now \n",
              "or ensure your notebook will continue to use TensorFlow 1.x via the <code>%tensorflow_version 1.x</code> magic:\n",
              "<a href=\"https://colab.research.google.com/notebooks/tensorflow_version.ipynb\" target=\"_blank\">more info</a>.</p>\n"
            ],
            "text/plain": [
              "<IPython.core.display.HTML object>"
            ]
          },
          "metadata": {
            "tags": []
          }
        }
      ]
    },
    {
      "cell_type": "code",
      "metadata": {
        "id": "KhOdl_15i0Am",
        "colab_type": "code",
        "outputId": "dc46a3d9-bf50-43b3-acaa-461a4c4df7d5",
        "colab": {
          "base_uri": "https://localhost:8080/",
          "height": 51
        }
      },
      "source": [
        "train, test = keras.datasets.cifar10.load_data()"
      ],
      "execution_count": 2,
      "outputs": [
        {
          "output_type": "stream",
          "text": [
            "Downloading data from https://www.cs.toronto.edu/~kriz/cifar-10-python.tar.gz\n",
            "170500096/170498071 [==============================] - 4s 0us/step\n"
          ],
          "name": "stdout"
        }
      ]
    },
    {
      "cell_type": "code",
      "metadata": {
        "id": "L_yJchjfi0Aq",
        "colab_type": "code",
        "colab": {}
      },
      "source": [
        "## 資料前處理\n",
        "def preproc_x(x, flatten=True):\n",
        "    x = x / 255.\n",
        "    if flatten:\n",
        "        x = x.reshape((len(x), -1))\n",
        "    return x\n",
        "\n",
        "def preproc_y(y, num_classes=10):\n",
        "    if y.shape[-1] == 1:\n",
        "        y = keras.utils.to_categorical(y, num_classes)\n",
        "    return y    "
      ],
      "execution_count": 0,
      "outputs": []
    },
    {
      "cell_type": "code",
      "metadata": {
        "id": "raic9YOWi0Au",
        "colab_type": "code",
        "colab": {}
      },
      "source": [
        "x_train, y_train = train\n",
        "x_test, y_test = test\n",
        "\n",
        "# Preproc the inputs\n",
        "x_train = preproc_x(x_train)\n",
        "x_test = preproc_x(x_test)\n",
        "\n",
        "# Preprc the outputs\n",
        "y_train = preproc_y(y_train)\n",
        "y_test = preproc_y(y_test)"
      ],
      "execution_count": 0,
      "outputs": []
    },
    {
      "cell_type": "code",
      "metadata": {
        "id": "dRkHBXX2i0Ay",
        "colab_type": "code",
        "colab": {}
      },
      "source": [
        "from keras.layers import BatchNormalization, Dense, Input\n",
        "from keras.models import Model\n",
        "def build_mlp(input_shape, output_units=10, num_neurons=[256, 256, 256]):\n",
        "    input_layer = Input(input_shape)\n",
        "    for i, n in enumerate(num_neurons):\n",
        "      if i == 0: \n",
        "        x = Dense(n, activation='relu')(input_layer)\n",
        "        x = BatchNormalization()(x)\n",
        "      else: \n",
        "           x = Dense(n, activation='relu')(x)\n",
        "           x = BatchNormalization()(x)\n",
        "    output_layer = Dense(output_units, activation='softmax')(x)\n",
        "    \"\"\"Code Here\n",
        "    建立你的神經網路\n",
        "    \"\"\"\n",
        "    model=Model(inputs=[input_layer],outputs=[output_layer])\n",
        "    return model"
      ],
      "execution_count": 0,
      "outputs": []
    },
    {
      "cell_type": "code",
      "metadata": {
        "id": "Qt6hT8GSi0A8",
        "colab_type": "code",
        "colab": {}
      },
      "source": [
        "## 超參數設定\n",
        "LEARNING_RATE = 1e-3\n",
        "EPOCHS = 25\n",
        "BATCH_SIZE = 1024\n",
        "MOMENTUM = 0.95"
      ],
      "execution_count": 0,
      "outputs": []
    },
    {
      "cell_type": "code",
      "metadata": {
        "id": "4v3JmgMdi0A_",
        "colab_type": "code",
        "colab": {}
      },
      "source": [
        "# 載入 Callbacks\n",
        "from keras.callbacks import Callback\n",
        "\n",
        "# Record_fp_tp\n",
        "\n",
        "\"\"\"Code Here\n",
        "    撰寫一個紀錄 ture positive 與 true negative 數量的 callbacks    \n",
        "\"\"\"\n",
        "class Record_tp_tn(Callback):\n",
        "    def on_train_begin(self, epoch, logs = {}):\n",
        "        logs = logs or {}\n",
        "        record_items = [\"val_tp\", \"val_tn\"]\n",
        "        for i in record_items:\n",
        "            if i not in self.params['metrics']:\n",
        "                self.params['metrics'].append(i)\n",
        "    \n",
        "    def on_epoch_end(self, epoch, logs = {}, thres=0.5):\n",
        "        logs = logs or {}\n",
        "        y_true = self.validation_data[1].argmax(axis = 1)\n",
        "        y_pred = self.model.predict(self.validation_data[0])\n",
        "        y_pred = (y_pred[:, 1] >= thres) * 1\n",
        "        tp = sum(y_true*y_pred)\n",
        "        tn = sum((y_true==0) & (y_pred==0))\n",
        "        \n",
        "        logs[\"val_tp\"] = tp\n",
        "        logs[\"val_tn\"] = tn\n",
        "        \n",
        "tptn = Record_tp_tn()        "
      ],
      "execution_count": 0,
      "outputs": []
    },
    {
      "cell_type": "code",
      "metadata": {
        "scrolled": true,
        "id": "HZYftttSi0BB",
        "colab_type": "code",
        "colab": {
          "base_uri": "https://localhost:8080/",
          "height": 1000
        },
        "outputId": "92affc1b-2ee3-4305-af82-1db654fa5de3"
      },
      "source": [
        "model = build_mlp(input_shape=x_train.shape[1:])\n",
        "model.summary()\n",
        "optimizer = keras.optimizers.SGD(lr=LEARNING_RATE, nesterov=True, momentum=MOMENTUM)\n",
        "model.compile(loss=\"categorical_crossentropy\", metrics=[\"accuracy\"], optimizer=optimizer)\n",
        "\n",
        "\"\"\"Code Here\n",
        "將 callbacks 放入模型訓練流程中\n",
        "\"\"\"\n",
        "model.fit(x_train, y_train, validation_data=(x_test, y_test), epochs= EPOCHS, batch_size=BATCH_SIZE, callbacks=[tptn])\n",
        "\n",
        "# Collect results\n",
        "train_loss = model.history.history[\"loss\"]\n",
        "valid_loss = model.history.history[\"val_loss\"]\n",
        "train_acc = model.history.history[\"acc\"]\n",
        "valid_acc = model.history.history[\"val_acc\"]\n",
        "\n",
        "\"\"\"Code Here\n",
        "將 tp/tn 從訓練完的模型中取出\n",
        "\"\"\"\n",
        "valid_tp = model.history.history[\"val_tp\"]\n",
        "valid_tn = model.history.history[\"val_tn\"] "
      ],
      "execution_count": 11,
      "outputs": [
        {
          "output_type": "stream",
          "text": [
            "WARNING:tensorflow:From /usr/local/lib/python3.6/dist-packages/keras/backend/tensorflow_backend.py:66: The name tf.get_default_graph is deprecated. Please use tf.compat.v1.get_default_graph instead.\n",
            "\n",
            "WARNING:tensorflow:From /usr/local/lib/python3.6/dist-packages/keras/backend/tensorflow_backend.py:541: The name tf.placeholder is deprecated. Please use tf.compat.v1.placeholder instead.\n",
            "\n",
            "WARNING:tensorflow:From /usr/local/lib/python3.6/dist-packages/keras/backend/tensorflow_backend.py:4432: The name tf.random_uniform is deprecated. Please use tf.random.uniform instead.\n",
            "\n",
            "WARNING:tensorflow:From /usr/local/lib/python3.6/dist-packages/keras/backend/tensorflow_backend.py:148: The name tf.placeholder_with_default is deprecated. Please use tf.compat.v1.placeholder_with_default instead.\n",
            "\n",
            "Model: \"model_1\"\n",
            "_________________________________________________________________\n",
            "Layer (type)                 Output Shape              Param #   \n",
            "=================================================================\n",
            "input_1 (InputLayer)         (None, 3072)              0         \n",
            "_________________________________________________________________\n",
            "dense_1 (Dense)              (None, 256)               786688    \n",
            "_________________________________________________________________\n",
            "batch_normalization_1 (Batch (None, 256)               1024      \n",
            "_________________________________________________________________\n",
            "dense_2 (Dense)              (None, 256)               65792     \n",
            "_________________________________________________________________\n",
            "batch_normalization_2 (Batch (None, 256)               1024      \n",
            "_________________________________________________________________\n",
            "dense_3 (Dense)              (None, 256)               65792     \n",
            "_________________________________________________________________\n",
            "batch_normalization_3 (Batch (None, 256)               1024      \n",
            "_________________________________________________________________\n",
            "dense_4 (Dense)              (None, 10)                2570      \n",
            "=================================================================\n",
            "Total params: 923,914\n",
            "Trainable params: 922,378\n",
            "Non-trainable params: 1,536\n",
            "_________________________________________________________________\n",
            "WARNING:tensorflow:From /usr/local/lib/python3.6/dist-packages/keras/optimizers.py:793: The name tf.train.Optimizer is deprecated. Please use tf.compat.v1.train.Optimizer instead.\n",
            "\n",
            "WARNING:tensorflow:From /usr/local/lib/python3.6/dist-packages/keras/backend/tensorflow_backend.py:3576: The name tf.log is deprecated. Please use tf.math.log instead.\n",
            "\n",
            "WARNING:tensorflow:From /usr/local/lib/python3.6/dist-packages/tensorflow_core/python/ops/math_grad.py:1424: where (from tensorflow.python.ops.array_ops) is deprecated and will be removed in a future version.\n",
            "Instructions for updating:\n",
            "Use tf.where in 2.0, which has the same broadcast rule as np.where\n",
            "WARNING:tensorflow:From /usr/local/lib/python3.6/dist-packages/keras/backend/tensorflow_backend.py:1033: The name tf.assign_add is deprecated. Please use tf.compat.v1.assign_add instead.\n",
            "\n",
            "WARNING:tensorflow:From /usr/local/lib/python3.6/dist-packages/keras/backend/tensorflow_backend.py:1020: The name tf.assign is deprecated. Please use tf.compat.v1.assign instead.\n",
            "\n",
            "WARNING:tensorflow:From /usr/local/lib/python3.6/dist-packages/keras/backend/tensorflow_backend.py:3005: The name tf.Session is deprecated. Please use tf.compat.v1.Session instead.\n",
            "\n",
            "Train on 50000 samples, validate on 10000 samples\n",
            "Epoch 1/25\n",
            "WARNING:tensorflow:From /usr/local/lib/python3.6/dist-packages/keras/backend/tensorflow_backend.py:190: The name tf.get_default_session is deprecated. Please use tf.compat.v1.get_default_session instead.\n",
            "\n",
            "WARNING:tensorflow:From /usr/local/lib/python3.6/dist-packages/keras/backend/tensorflow_backend.py:197: The name tf.ConfigProto is deprecated. Please use tf.compat.v1.ConfigProto instead.\n",
            "\n",
            "WARNING:tensorflow:From /usr/local/lib/python3.6/dist-packages/keras/backend/tensorflow_backend.py:207: The name tf.global_variables is deprecated. Please use tf.compat.v1.global_variables instead.\n",
            "\n",
            "WARNING:tensorflow:From /usr/local/lib/python3.6/dist-packages/keras/backend/tensorflow_backend.py:216: The name tf.is_variable_initialized is deprecated. Please use tf.compat.v1.is_variable_initialized instead.\n",
            "\n",
            "WARNING:tensorflow:From /usr/local/lib/python3.6/dist-packages/keras/backend/tensorflow_backend.py:223: The name tf.variables_initializer is deprecated. Please use tf.compat.v1.variables_initializer instead.\n",
            "\n",
            "50000/50000 [==============================] - 7s 134us/step - loss: 2.2395 - acc: 0.2658 - val_loss: 2.2031 - val_acc: 0.3080\n",
            "Epoch 2/25\n",
            "50000/50000 [==============================] - 2s 33us/step - loss: 1.7528 - acc: 0.3896 - val_loss: 1.8944 - val_acc: 0.3551\n",
            "Epoch 3/25\n",
            "50000/50000 [==============================] - 2s 34us/step - loss: 1.6309 - acc: 0.4284 - val_loss: 1.6989 - val_acc: 0.4096\n",
            "Epoch 4/25\n",
            "50000/50000 [==============================] - 2s 33us/step - loss: 1.5612 - acc: 0.4543 - val_loss: 1.6376 - val_acc: 0.4294\n",
            "Epoch 5/25\n",
            "50000/50000 [==============================] - 2s 33us/step - loss: 1.5104 - acc: 0.4719 - val_loss: 1.6177 - val_acc: 0.4357\n",
            "Epoch 6/25\n",
            "50000/50000 [==============================] - 2s 40us/step - loss: 1.4651 - acc: 0.4885 - val_loss: 1.5762 - val_acc: 0.4478\n",
            "Epoch 7/25\n",
            "50000/50000 [==============================] - 2s 33us/step - loss: 1.4286 - acc: 0.5017 - val_loss: 1.5571 - val_acc: 0.4551\n",
            "Epoch 8/25\n",
            "50000/50000 [==============================] - 2s 33us/step - loss: 1.3971 - acc: 0.5131 - val_loss: 1.5381 - val_acc: 0.4589\n",
            "Epoch 9/25\n",
            "50000/50000 [==============================] - 2s 35us/step - loss: 1.3664 - acc: 0.5254 - val_loss: 1.5183 - val_acc: 0.4618\n",
            "Epoch 10/25\n",
            "50000/50000 [==============================] - 2s 35us/step - loss: 1.3388 - acc: 0.5335 - val_loss: 1.5009 - val_acc: 0.4723\n",
            "Epoch 11/25\n",
            "50000/50000 [==============================] - 2s 34us/step - loss: 1.3128 - acc: 0.5437 - val_loss: 1.4998 - val_acc: 0.4669\n",
            "Epoch 12/25\n",
            "50000/50000 [==============================] - 2s 41us/step - loss: 1.2899 - acc: 0.5505 - val_loss: 1.4899 - val_acc: 0.4724\n",
            "Epoch 13/25\n",
            "50000/50000 [==============================] - 2s 44us/step - loss: 1.2672 - acc: 0.5601 - val_loss: 1.4808 - val_acc: 0.4798\n",
            "Epoch 14/25\n",
            "50000/50000 [==============================] - 3s 60us/step - loss: 1.2442 - acc: 0.5674 - val_loss: 1.4824 - val_acc: 0.4769\n",
            "Epoch 15/25\n",
            "50000/50000 [==============================] - 2s 45us/step - loss: 1.2232 - acc: 0.5750 - val_loss: 1.4593 - val_acc: 0.4880\n",
            "Epoch 16/25\n",
            "50000/50000 [==============================] - 2s 35us/step - loss: 1.2049 - acc: 0.5807 - val_loss: 1.4597 - val_acc: 0.4891\n",
            "Epoch 17/25\n",
            "50000/50000 [==============================] - 2s 34us/step - loss: 1.1846 - acc: 0.5885 - val_loss: 1.4586 - val_acc: 0.4836\n",
            "Epoch 18/25\n",
            "50000/50000 [==============================] - 2s 35us/step - loss: 1.1660 - acc: 0.5968 - val_loss: 1.4453 - val_acc: 0.4910\n",
            "Epoch 19/25\n",
            "50000/50000 [==============================] - 2s 39us/step - loss: 1.1468 - acc: 0.6039 - val_loss: 1.4472 - val_acc: 0.4953\n",
            "Epoch 20/25\n",
            "50000/50000 [==============================] - 2s 36us/step - loss: 1.1301 - acc: 0.6101 - val_loss: 1.4439 - val_acc: 0.4929\n",
            "Epoch 21/25\n",
            "50000/50000 [==============================] - 2s 36us/step - loss: 1.1129 - acc: 0.6170 - val_loss: 1.4575 - val_acc: 0.4916\n",
            "Epoch 22/25\n",
            "50000/50000 [==============================] - 2s 34us/step - loss: 1.0955 - acc: 0.6229 - val_loss: 1.4409 - val_acc: 0.4975\n",
            "Epoch 23/25\n",
            "50000/50000 [==============================] - 2s 34us/step - loss: 1.0782 - acc: 0.6305 - val_loss: 1.4424 - val_acc: 0.4956\n",
            "Epoch 24/25\n",
            "50000/50000 [==============================] - 2s 34us/step - loss: 1.0625 - acc: 0.6360 - val_loss: 1.4326 - val_acc: 0.4987\n",
            "Epoch 25/25\n",
            "50000/50000 [==============================] - 2s 33us/step - loss: 1.0455 - acc: 0.6421 - val_loss: 1.4432 - val_acc: 0.4934\n"
          ],
          "name": "stdout"
        }
      ]
    },
    {
      "cell_type": "code",
      "metadata": {
        "id": "_MPSJ_nDi0BG",
        "colab_type": "code",
        "colab": {
          "base_uri": "https://localhost:8080/",
          "height": 809
        },
        "outputId": "541150fc-0ded-4988-c19f-d15174f4e713"
      },
      "source": [
        "import matplotlib.pyplot as plt\n",
        "%matplotlib inline\n",
        "\n",
        "plt.plot(range(len(train_loss)), train_loss, label=\"train loss\")\n",
        "plt.plot(range(len(valid_loss)), valid_loss, label=\"valid loss\")\n",
        "plt.legend()\n",
        "plt.title(\"Loss\")\n",
        "plt.show()\n",
        "\n",
        "plt.plot(range(len(train_acc)), train_acc, label=\"train accuracy\")\n",
        "plt.plot(range(len(valid_acc)), valid_acc, label=\"valid accuracy\")\n",
        "plt.legend()\n",
        "plt.title(\"Accuracy\")\n",
        "plt.show()\n",
        "\n",
        "plt.plot(range(len(valid_tp)), valid_tp, label=\"valid tp\", color=\"navy\")\n",
        "plt.plot(range(len(valid_tn)), valid_tn, label=\"valid tn\", color=\"red\")\n",
        "plt.legend()\n",
        "plt.title(\"True positives and True Negatives\")\n",
        "plt.show()\n"
      ],
      "execution_count": 12,
      "outputs": [
        {
          "output_type": "display_data",
          "data": {
            "image/png": "[encoded data removed]",
            "text/plain": [
              "<Figure size 432x288 with 1 Axes>"
            ]
          },
          "metadata": {
            "tags": []
          }
        },
        {
          "output_type": "display_data",
          "data": {
            "image/png": "[encoded data removed]",
            "text/plain": [
              "<Figure size 432x288 with 1 Axes>"
            ]
          },
          "metadata": {
            "tags": []
          }
        },
        {
          "output_type": "display_data",
          "data": {
            "image/png": "[encoded data removed]",
            "text/plain": [
              "<Figure size 432x288 with 1 Axes>"
            ]
          },
          "metadata": {
            "tags": []
          }
        }
      ]
    }
  ]
}