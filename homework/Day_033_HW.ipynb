{
  "nbformat": 4,
  "nbformat_minor": 0,
  "metadata": {
    "kernelspec": {
      "display_name": "Python 3",
      "language": "python",
      "name": "python3"
    },
    "language_info": {
      "codemirror_mode": {
        "name": "ipython",
        "version": 3
      },
      "file_extension": ".py",
      "mimetype": "text/x-python",
      "name": "python",
      "nbconvert_exporter": "python",
      "pygments_lexer": "ipython3",
      "version": "3.6.2"
    },
    "colab": {
      "name": "Day_033_HW.ipynb",
      "provenance": [],
      "collapsed_sections": [],
      "include_colab_link": true
    }
  },
  "cells": [
    {
      "cell_type": "markdown",
      "metadata": {
        "id": "view-in-github",
        "colab_type": "text"
      },
      "source": [
        "<a href=\"https://colab.research.google.com/github/PatrickRuan/3rd-ML100Days/blob/master/homework/Day_033_HW.ipynb\" target=\"_parent\"><img src=\"https://colab.research.google.com/assets/colab-badge.svg\" alt=\"Open In Colab\"/></a>"
      ]
    },
    {
      "cell_type": "markdown",
      "metadata": {
        "id": "GX2yitQZaM1_",
        "colab_type": "text"
      },
      "source": [
        "## 練習時間"
      ]
    },
    {
      "cell_type": "markdown",
      "metadata": {
        "id": "OjzmMVOhaM2B",
        "colab_type": "text"
      },
      "source": [
        "[link text](https://)請觀看李宏毅教授以神奇寶貝進化 CP 值預測的範例，解說何謂機器學習與過擬合。並回答以下問題"
      ]
    },
    {
      "cell_type": "markdown",
      "metadata": {
        "id": "7FyHQwqhaM2C",
        "colab_type": "text"
      },
      "source": [
        "[youtube](https://www.youtube.com/watch?v=fegAeph9UaA)"
      ]
    },
    {
      "cell_type": "markdown",
      "metadata": {
        "id": "WjjKL4mqaM2D",
        "colab_type": "text"
      },
      "source": [
        "### 1. 模型的泛化能力 (generalization) 是指什麼？ \n",
        "#### 泛法能力所指的是一個訓練完成的模型對於沒有看過的資料的預估能力。\n",
        "### 2. 分類問題與回歸問題分別可用的目標函數有哪些？\n",
        "#### 回歸有 MAE, MSE\n",
        "#### 分類有 Entropy, Hing loss"
      ]
    }
  ]
}