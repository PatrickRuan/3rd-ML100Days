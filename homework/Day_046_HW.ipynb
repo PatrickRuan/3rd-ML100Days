{
  "nbformat": 4,
  "nbformat_minor": 0,
  "metadata": {
    "kernelspec": {
      "display_name": "Python 3",
      "language": "python",
      "name": "python3"
    },
    "language_info": {
      "codemirror_mode": {
        "name": "ipython",
        "version": 3
      },
      "file_extension": ".py",
      "mimetype": "text/x-python",
      "name": "python",
      "nbconvert_exporter": "python",
      "pygments_lexer": "ipython3",
      "version": "3.6.3"
    },
    "colab": {
      "name": "Day_046_HW.ipynb",
      "provenance": [],
      "collapsed_sections": [],
      "include_colab_link": true
    }
  },
  "cells": [
    {
      "cell_type": "markdown",
      "metadata": {
        "id": "view-in-github",
        "colab_type": "text"
      },
      "source": [
        "<a href=\"https://colab.research.google.com/github/PatrickRuan/3rd-ML100Days/blob/master/homework/Day_046_HW.ipynb\" target=\"_parent\"><img src=\"https://colab.research.google.com/assets/colab-badge.svg\" alt=\"Open In Colab\"/></a>"
      ]
    },
    {
      "cell_type": "markdown",
      "metadata": {
        "id": "k9hoJqcwtCZb",
        "colab_type": "text"
      },
      "source": [
        "### 作業\n",
        "目前已經學過許多的模型，相信大家對整體流程應該比較掌握了，這次作業請改用**手寫辨識資料集**，步驟流程都是一樣的，請試著自己撰寫程式碼來完成所有步驟"
      ]
    },
    {
      "cell_type": "code",
      "metadata": {
        "id": "RgMLdwLrtCZd",
        "colab_type": "code",
        "colab": {}
      },
      "source": [
        ""
      ],
      "execution_count": 0,
      "outputs": []
    },
    {
      "cell_type": "code",
      "metadata": {
        "id": "hNh9qBHAtCZi",
        "colab_type": "code",
        "colab": {}
      },
      "source": [
        "from sklearn.datasets import load_boston, load_wine, load_digits\n",
        "from sklearn.linear_model import LinearRegression,LogisticRegression\n",
        "from sklearn.model_selection import train_test_split\n",
        "from sklearn.ensemble import RandomForestClassifier, RandomForestRegressor, GradientBoostingClassifier, GradientBoostingRegressor, AdaBoostClassifier\n",
        "from sklearn.metrics import mean_absolute_error,mean_squared_error,accuracy_score\n",
        "import xgboost as xgb\n",
        "\n"
      ],
      "execution_count": 0,
      "outputs": []
    },
    {
      "cell_type": "code",
      "metadata": {
        "id": "4pyY8LpztNyp",
        "colab_type": "code",
        "colab": {
          "base_uri": "https://localhost:8080/",
          "height": 103
        },
        "outputId": "cb6de62c-4ab7-4140-fc23-c37c03c48e5e"
      },
      "source": [
        "data = load_boston()\n",
        "x_train, x_test, y_train, y_test = train_test_split(data.data, data.target, random_state=43, test_size = 0.2)\n",
        "y_train[:5] # array([ 5. , 23.3, 21.7,  8.1, 14.4])  Regression\n",
        "y_test[0:5] # array([25. , 23.2, 20.5, 31.6, 17.6])\n",
        "\n",
        "import warnings\n",
        "warnings.filterwarnings('ignore')\n",
        "model = RandomForestRegressor()\n",
        "model.fit(x_train, y_train)\n",
        "pred = model.predict(x_test)\n",
        "print(f'MSE of RF is, {mean_squared_error(y_test, pred)}')\n",
        "\n",
        "\n",
        "model = LinearRegression()\n",
        "model.fit(x_train, y_train)\n",
        "pred = model.predict(x_test)\n",
        "print(f'MSE of LinearRegression is, {mean_squared_error(y_test, pred)}')\n",
        "\n",
        "model = GradientBoostingRegressor()\n",
        "model.fit(x_train, y_train)\n",
        "pred = model.predict(x_test)\n",
        "print(f'MSE of GBR is, {mean_squared_error(y_test, pred)}')\n",
        "\n",
        "model = xgb.XGBRegressor()\n",
        "model.fit(x_train, y_train)\n",
        "pred = model.predict(x_test)\n",
        "print(f'MSE of XGB is, {mean_squared_error(y_test, pred)}')\n"
      ],
      "execution_count": 21,
      "outputs": [
        {
          "output_type": "stream",
          "text": [
            "MSE of RF is, 12.652128431372544\n",
            "MSE of LinearRegression is, 22.01861344950045\n",
            "MSE of GBR is, 8.68371905965206\n",
            "[17:42:44] WARNING: /workspace/src/objective/regression_obj.cu:152: reg:linear is now deprecated in favor of reg:squarederror.\n",
            "MSE of XGB is, 9.250076168936136\n"
          ],
          "name": "stdout"
        }
      ]
    },
    {
      "cell_type": "code",
      "metadata": {
        "id": "q3xWYo3etOsY",
        "colab_type": "code",
        "colab": {
          "base_uri": "https://localhost:8080/",
          "height": 86
        },
        "outputId": "a7dd10a6-44ec-4b5c-93c5-091b110c49d3"
      },
      "source": [
        "data = load_wine()\n",
        "x_train, x_test, y_train, y_test = train_test_split(data.data, data.target, random_state=18, test_size = 0.2)\n",
        "\n",
        "\n",
        "model = RandomForestClassifier()\n",
        "model.fit(x_train, y_train)\n",
        "pred = model.predict(x_test)\n",
        "print(f'accuracy of RF is, {accuracy_score(y_test, pred):8.2%}')\n",
        "\n",
        "\n",
        "model = LogisticRegression()\n",
        "model.fit(x_train, y_train)\n",
        "pred = model.predict(x_test)\n",
        "print(f'accuracy of LogisticRegression is, {accuracy_score(y_test, pred):8.2%}')\n",
        "\n",
        "model = GradientBoostingClassifier()\n",
        "model.fit(x_train, y_train)\n",
        "pred = model.predict(x_test)\n",
        "print(f'accuracy of GBC is, {accuracy_score(y_test, pred):8.2%}')\n",
        "\n",
        "model = AdaBoostClassifier(n_estimators=100, random_state=0)\n",
        "model.fit(x_train, y_train)\n",
        "pred = model.predict(x_test)\n",
        "print(f'accuracy of AdaB is, {accuracy_score(y_test, pred):8.2%}')"
      ],
      "execution_count": 15,
      "outputs": [
        {
          "output_type": "stream",
          "text": [
            "accuracy of RF is,   94.44%\n",
            "accuracy of LogisticRegression is,   88.89%\n",
            "accuracy of GBC is,   91.67%\n",
            "accuracy of AdaB is,   41.67%\n"
          ],
          "name": "stdout"
        }
      ]
    },
    {
      "cell_type": "code",
      "metadata": {
        "id": "9jLfpMFytN3J",
        "colab_type": "code",
        "colab": {
          "base_uri": "https://localhost:8080/",
          "height": 103
        },
        "outputId": "986c81fe-b5a9-4a48-dc0c-4e4529b4dfe2"
      },
      "source": [
        "data = load_digits()\n",
        "x_train, x_test, y_train, y_test = train_test_split(data.data, data.target, random_state=18, test_size = 0.2)\n",
        "\n",
        "\n",
        "model = RandomForestClassifier()\n",
        "model.fit(x_train, y_train)\n",
        "pred = model.predict(x_test)\n",
        "print(f'accuracy of RF is, {accuracy_score(y_test, pred):8.2%}')\n",
        "\n",
        "\n",
        "model = LogisticRegression()\n",
        "model.fit(x_train, y_train)\n",
        "pred = model.predict(x_test)\n",
        "print(f'accuracy of LogisticRegression is, {accuracy_score(y_test, pred):8.2%}')\n",
        "\n",
        "model = GradientBoostingClassifier()\n",
        "model.fit(x_train, y_train)\n",
        "pred = model.predict(x_test)\n",
        "print(f'accuracy of GBC is, {accuracy_score(y_test, pred):8.2%}')\n",
        "\n",
        "model = AdaBoostClassifier(n_estimators=100, random_state=0)\n",
        "model.fit(x_train, y_train)\n",
        "pred = model.predict(x_test)\n",
        "print(f'accuracy of AdaB is, {accuracy_score(y_test, pred):8.2%}')\n",
        "\n",
        "\n",
        "model = xgb.XGBClassifier(n_estimators=100, random_state=0)\n",
        "model.fit(x_train, y_train)\n",
        "pred = model.predict(x_test)\n",
        "print(f'accuracy of XGB is, {accuracy_score(y_test, pred):8.2%}')\n"
      ],
      "execution_count": 18,
      "outputs": [
        {
          "output_type": "stream",
          "text": [
            "accuracy of RF is,   95.28%\n",
            "accuracy of LogisticRegression is,   96.94%\n",
            "accuracy of GBC is,   96.39%\n",
            "accuracy of AdaB is,   26.11%\n",
            "accuracy of AdaB is,   96.67%\n"
          ],
          "name": "stdout"
        }
      ]
    }
  ]
}