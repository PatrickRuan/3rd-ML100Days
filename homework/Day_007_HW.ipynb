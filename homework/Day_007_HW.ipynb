{
  "nbformat": 4,
  "nbformat_minor": 0,
  "metadata": {
    "kernelspec": {
      "display_name": "Python 3",
      "language": "python",
      "name": "python3"
    },
    "language_info": {
      "codemirror_mode": {
        "name": "ipython",
        "version": 3
      },
      "file_extension": ".py",
      "mimetype": "text/x-python",
      "name": "python",
      "nbconvert_exporter": "python",
      "pygments_lexer": "ipython3",
      "version": "3.6.1"
    },
    "colab": {
      "name": "Day_007_HW.ipynb",
      "provenance": [],
      "collapsed_sections": [],
      "include_colab_link": true
    }
  },
  "cells": [
    {
      "cell_type": "markdown",
      "metadata": {
        "id": "view-in-github",
        "colab_type": "text"
      },
      "source": [
        "<a href=\"https://colab.research.google.com/github/PatrickRuan/3rd-ML100Days/blob/master/homework/Day_007_HW.ipynb\" target=\"_parent\"><img src=\"https://colab.research.google.com/assets/colab-badge.svg\" alt=\"Open In Colab\"/></a>"
      ]
    },
    {
      "cell_type": "markdown",
      "metadata": {
        "collapsed": true,
        "id": "4fwMtqFJBSrN",
        "colab_type": "text"
      },
      "source": [
        "# 作業 : (Kaggle)鐵達尼生存預測"
      ]
    },
    {
      "cell_type": "markdown",
      "metadata": {
        "id": "lt9pdTXABSrT",
        "colab_type": "text"
      },
      "source": [
        "# [作業目標]\n",
        "- 試著完成三種不同特徵類型的三種資料操作, 觀察結果\n",
        "- 思考一下, 這三種特徵類型, 哪一種應該最複雜/最難處理"
      ]
    },
    {
      "cell_type": "markdown",
      "metadata": {
        "id": "HOdLpZ68BSrX",
        "colab_type": "text"
      },
      "source": [
        "# [作業重點]\n",
        "- 完成剩餘的八種 類型 x 操作組合 (In[6]~In[13], Out[6]~Out[13])\n",
        "- 思考何種特徵類型, 應該最複雜"
      ]
    },
    {
      "cell_type": "code",
      "metadata": {
        "id": "dPQAGTiYBSra",
        "colab_type": "code",
        "outputId": "f1783d47-a7b1-486d-f624-03df8614bcd0",
        "colab": {
          "base_uri": "https://localhost:8080/",
          "height": 34
        }
      },
      "source": [
        "from google.colab import drive\n",
        "drive.mount('/content/drive')\n",
        "root = 'drive/My Drive/'\n",
        "learning = root + '學習/'\n",
        "\n",
        "\n",
        "# 載入基本套件\n",
        "import pandas as pd\n",
        "import numpy as np\n",
        "\n",
        "# 讀取訓練與測試資料\n",
        "data_path = learning+ 'Part02/'\n",
        "df_train = pd.read_csv(data_path + 'titanic_train.csv')\n",
        "df_test = pd.read_csv(data_path + 'titanic_test.csv')\n",
        "df_train.shape"
      ],
      "execution_count": 2,
      "outputs": [
        {
          "output_type": "execute_result",
          "data": {
            "text/plain": [
              "(891, 12)"
            ]
          },
          "metadata": {
            "tags": []
          },
          "execution_count": 2
        }
      ]
    },
    {
      "cell_type": "code",
      "metadata": {
        "id": "a51xOeWeBSrs",
        "colab_type": "code",
        "outputId": "84f41545-07dd-412b-fe53-7630d77dd7a7",
        "colab": {
          "base_uri": "https://localhost:8080/",
          "height": 258
        }
      },
      "source": [
        "# 重組資料成為訓練 / 預測用格式\n",
        "train_Y = df_train['Survived']\n",
        "ids = df_test['PassengerId']\n",
        "df_train = df_train.drop(['PassengerId', 'Survived'] , axis=1)\n",
        "df_test = df_test.drop(['PassengerId'] , axis=1)\n",
        "df = pd.concat([df_train,df_test])\n",
        "df.head()"
      ],
      "execution_count": 3,
      "outputs": [
        {
          "output_type": "execute_result",
          "data": {
            "text/html": [
              "<div>\n",
              "<style scoped>\n",
              "    .dataframe tbody tr th:only-of-type {\n",
              "        vertical-align: middle;\n",
              "    }\n",
              "\n",
              "    .dataframe tbody tr th {\n",
              "        vertical-align: top;\n",
              "    }\n",
              "\n",
              "    .dataframe thead th {\n",
              "        text-align: right;\n",
              "    }\n",
              "</style>\n",
              "<table border=\"1\" class=\"dataframe\">\n",
              "  <thead>\n",
              "    <tr style=\"text-align: right;\">\n",
              "      <th></th>\n",
              "      <th>Pclass</th>\n",
              "      <th>Name</th>\n",
              "      <th>Sex</th>\n",
              "      <th>Age</th>\n",
              "      <th>SibSp</th>\n",
              "      <th>Parch</th>\n",
              "      <th>Ticket</th>\n",
              "      <th>Fare</th>\n",
              "      <th>Cabin</th>\n",
              "      <th>Embarked</th>\n",
              "    </tr>\n",
              "  </thead>\n",
              "  <tbody>\n",
              "    <tr>\n",
              "      <th>0</th>\n",
              "      <td>3</td>\n",
              "      <td>Braund, Mr. Owen Harris</td>\n",
              "      <td>male</td>\n",
              "      <td>22.0</td>\n",
              "      <td>1</td>\n",
              "      <td>0</td>\n",
              "      <td>A/5 21171</td>\n",
              "      <td>7.2500</td>\n",
              "      <td>NaN</td>\n",
              "      <td>S</td>\n",
              "    </tr>\n",
              "    <tr>\n",
              "      <th>1</th>\n",
              "      <td>1</td>\n",
              "      <td>Cumings, Mrs. John Bradley (Florence Briggs Th...</td>\n",
              "      <td>female</td>\n",
              "      <td>38.0</td>\n",
              "      <td>1</td>\n",
              "      <td>0</td>\n",
              "      <td>PC 17599</td>\n",
              "      <td>71.2833</td>\n",
              "      <td>C85</td>\n",
              "      <td>C</td>\n",
              "    </tr>\n",
              "    <tr>\n",
              "      <th>2</th>\n",
              "      <td>3</td>\n",
              "      <td>Heikkinen, Miss. Laina</td>\n",
              "      <td>female</td>\n",
              "      <td>26.0</td>\n",
              "      <td>0</td>\n",
              "      <td>0</td>\n",
              "      <td>STON/O2. 3101282</td>\n",
              "      <td>7.9250</td>\n",
              "      <td>NaN</td>\n",
              "      <td>S</td>\n",
              "    </tr>\n",
              "    <tr>\n",
              "      <th>3</th>\n",
              "      <td>1</td>\n",
              "      <td>Futrelle, Mrs. Jacques Heath (Lily May Peel)</td>\n",
              "      <td>female</td>\n",
              "      <td>35.0</td>\n",
              "      <td>1</td>\n",
              "      <td>0</td>\n",
              "      <td>113803</td>\n",
              "      <td>53.1000</td>\n",
              "      <td>C123</td>\n",
              "      <td>S</td>\n",
              "    </tr>\n",
              "    <tr>\n",
              "      <th>4</th>\n",
              "      <td>3</td>\n",
              "      <td>Allen, Mr. William Henry</td>\n",
              "      <td>male</td>\n",
              "      <td>35.0</td>\n",
              "      <td>0</td>\n",
              "      <td>0</td>\n",
              "      <td>373450</td>\n",
              "      <td>8.0500</td>\n",
              "      <td>NaN</td>\n",
              "      <td>S</td>\n",
              "    </tr>\n",
              "  </tbody>\n",
              "</table>\n",
              "</div>"
            ],
            "text/plain": [
              "   Pclass                                               Name  ... Cabin  Embarked\n",
              "0       3                            Braund, Mr. Owen Harris  ...   NaN         S\n",
              "1       1  Cumings, Mrs. John Bradley (Florence Briggs Th...  ...   C85         C\n",
              "2       3                             Heikkinen, Miss. Laina  ...   NaN         S\n",
              "3       1       Futrelle, Mrs. Jacques Heath (Lily May Peel)  ...  C123         S\n",
              "4       3                           Allen, Mr. William Henry  ...   NaN         S\n",
              "\n",
              "[5 rows x 10 columns]"
            ]
          },
          "metadata": {
            "tags": []
          },
          "execution_count": 3
        }
      ]
    },
    {
      "cell_type": "markdown",
      "metadata": {
        "id": "VE0EwICwdiDm",
        "colab_type": "text"
      },
      "source": [
        "目標是要產生三個 type 計數，\n",
        "\n",
        "計數會想到 groupby('有三種types那一欄').aggreate('count')\n",
        "\n",
        "要有三種 types 的資訊就要有 df.dtype\n",
        "\n",
        "reset_index() 是將 serie 等轉成 dataframe 的一個方法\n",
        "\n"
      ]
    },
    {
      "cell_type": "code",
      "metadata": {
        "id": "C2uD2nasBSr5",
        "colab_type": "code",
        "outputId": "11f22b20-5377-4ad9-f883-76afb160b8c1",
        "colab": {
          "base_uri": "https://localhost:8080/",
          "height": 143
        }
      },
      "source": [
        "# 秀出資料欄位的類型與數量\n",
        "dtype_df = df.dtypes.reset_index()\n",
        "dtype_df.columns = [\"Count\", \"Column Type\"]\n",
        "dtype_df = dtype_df.groupby(\"Column Type\").aggregate('count').reset_index()\n",
        "dtype_df"
      ],
      "execution_count": 4,
      "outputs": [
        {
          "output_type": "execute_result",
          "data": {
            "text/html": [
              "<div>\n",
              "<style scoped>\n",
              "    .dataframe tbody tr th:only-of-type {\n",
              "        vertical-align: middle;\n",
              "    }\n",
              "\n",
              "    .dataframe tbody tr th {\n",
              "        vertical-align: top;\n",
              "    }\n",
              "\n",
              "    .dataframe thead th {\n",
              "        text-align: right;\n",
              "    }\n",
              "</style>\n",
              "<table border=\"1\" class=\"dataframe\">\n",
              "  <thead>\n",
              "    <tr style=\"text-align: right;\">\n",
              "      <th></th>\n",
              "      <th>Column Type</th>\n",
              "      <th>Count</th>\n",
              "    </tr>\n",
              "  </thead>\n",
              "  <tbody>\n",
              "    <tr>\n",
              "      <th>0</th>\n",
              "      <td>int64</td>\n",
              "      <td>3</td>\n",
              "    </tr>\n",
              "    <tr>\n",
              "      <th>1</th>\n",
              "      <td>float64</td>\n",
              "      <td>2</td>\n",
              "    </tr>\n",
              "    <tr>\n",
              "      <th>2</th>\n",
              "      <td>object</td>\n",
              "      <td>5</td>\n",
              "    </tr>\n",
              "  </tbody>\n",
              "</table>\n",
              "</div>"
            ],
            "text/plain": [
              "  Column Type  Count\n",
              "0       int64      3\n",
              "1     float64      2\n",
              "2      object      5"
            ]
          },
          "metadata": {
            "tags": []
          },
          "execution_count": 4
        }
      ]
    },
    {
      "cell_type": "code",
      "metadata": {
        "id": "FvSzGVyhBSsD",
        "colab_type": "code",
        "outputId": "1239ed15-5669-4b96-e18b-02d8f5837974",
        "colab": {
          "base_uri": "https://localhost:8080/",
          "height": 103
        }
      },
      "source": [
        "#確定只有 int64, float64, object 三種類型後, 分別將欄位名稱存於三個 list 中\n",
        "int_features = []\n",
        "float_features = []\n",
        "object_features = []\n",
        "for dtype, feature in zip(df.dtypes, df.columns):\n",
        "    if dtype == 'float64':\n",
        "        float_features.append(feature)\n",
        "    elif dtype == 'int64':\n",
        "        int_features.append(feature)\n",
        "    else:\n",
        "        object_features.append(feature)\n",
        "print(f'{len(int_features)} Integer Features : {int_features}\\n')\n",
        "print(f'{len(float_features)} Float Features : {float_features}\\n')\n",
        "print(f'{len(object_features)} Object Features : {object_features}')"
      ],
      "execution_count": 5,
      "outputs": [
        {
          "output_type": "stream",
          "text": [
            "3 Integer Features : ['Pclass', 'SibSp', 'Parch']\n",
            "\n",
            "2 Float Features : ['Age', 'Fare']\n",
            "\n",
            "5 Object Features : ['Name', 'Sex', 'Ticket', 'Cabin', 'Embarked']\n"
          ],
          "name": "stdout"
        }
      ]
    },
    {
      "cell_type": "markdown",
      "metadata": {
        "collapsed": true,
        "id": "-yla-8A_BSsK",
        "colab_type": "text"
      },
      "source": [
        "# 作業1 \n",
        "* 試著執行作業程式，觀察三種類型 (int / float / object) 的欄位分別進行( 平均 mean / 最大值 Max / 相異值 nunique )  \n",
        "中的九次操作會有那些問題? 並試著解釋那些發生Error的程式區塊的原因?  \n",
        "\n",
        "# 作業2\n",
        "* 思考一下，試著舉出今天五種類型以外的一種或多種資料類型，你舉出的新類型是否可以歸在三大類中的某些大類?  \n",
        "所以三大類特徵中，哪一大類處理起來應該最複雜?"
      ]
    },
    {
      "cell_type": "code",
      "metadata": {
        "id": "OE3uH4QJBSsM",
        "colab_type": "code",
        "outputId": "f17ea581-4945-48ca-a1f3-2f9bedb2dc92",
        "colab": {
          "base_uri": "https://localhost:8080/",
          "height": 86
        }
      },
      "source": [
        "# 例 : 整數 (int) 特徵取平均 (mean)\n",
        "df[int_features].mean()"
      ],
      "execution_count": 6,
      "outputs": [
        {
          "output_type": "execute_result",
          "data": {
            "text/plain": [
              "Pclass    2.294882\n",
              "SibSp     0.498854\n",
              "Parch     0.385027\n",
              "dtype: float64"
            ]
          },
          "metadata": {
            "tags": []
          },
          "execution_count": 6
        }
      ]
    },
    {
      "cell_type": "code",
      "metadata": {
        "id": "mxkWmSuwBSsT",
        "colab_type": "code",
        "colab": {
          "base_uri": "https://localhost:8080/",
          "height": 554
        },
        "outputId": "0e9683bf-5f0f-453a-f337-9b7302db174e"
      },
      "source": [
        "# 請依序列出 三種特徵類型 (int / float / object) x 三種方法 (平均 mean / 最大值 Max / 相異值 nunique) 的其餘操作\n",
        "\"\"\"\n",
        "Your Code Here\n",
        "\"\"\"\n",
        "print(f'mean of int features is,\\n{df[int_features].mean()}\\n')\n",
        "print(f'max of int features is, \\n{df[int_features].max()}\\n')\n",
        "#print(f'unique of int features is, \\n{df[int_features].unique()}\\n')\n",
        "print(f'mean of float features is, \\n{df[float_features].mean()}\\n')\n",
        "print(f'max of float features is,\\n{df[float_features].max()}\\n')\n",
        "#print(f'unique of float features is,\\n{df[float_features].unique()}\\n')\n",
        "print(f'mean of object features is,\\n{df[object_features].mean()}\\n')\n",
        "print(f'max of object features is,\\n{df[object_features].max()}\\n')\n",
        "#print(f'unique of object features is, \\n{df[object_features].unique()}\\n')"
      ],
      "execution_count": 24,
      "outputs": [
        {
          "output_type": "stream",
          "text": [
            "mean of int features is,\n",
            "Pclass    2.294882\n",
            "SibSp     0.498854\n",
            "Parch     0.385027\n",
            "dtype: float64\n",
            "\n",
            "max of int features is, \n",
            "Pclass    3\n",
            "SibSp     8\n",
            "Parch     9\n",
            "dtype: int64\n",
            "\n",
            "mean of float features is, \n",
            "Age     29.881138\n",
            "Fare    33.295479\n",
            "dtype: float64\n",
            "\n",
            "max of float features is,\n",
            "Age      80.0000\n",
            "Fare    512.3292\n",
            "dtype: float64\n",
            "\n",
            "mean of object features is,\n",
            "Series([], dtype: float64)\n",
            "\n",
            "max of object features is,\n",
            "Name      van Melkebeke, Mr. Philemon\n",
            "Sex                              male\n",
            "Ticket                      WE/P 5735\n",
            "dtype: object\n",
            "\n"
          ],
          "name": "stdout"
        }
      ]
    },
    {
      "cell_type": "code",
      "metadata": {
        "id": "33vlWWB1h3x2",
        "colab_type": "code",
        "colab": {
          "base_uri": "https://localhost:8080/",
          "height": 537
        },
        "outputId": "18b1a9f2-0658-46b7-a8d3-aa00793ae2c4"
      },
      "source": [
        "for i in int_features:\n",
        "  print(f'unique of {i} is, \\n{df[i].nunique()}\\n')\n",
        "  \n",
        "for i in float_features:\n",
        "  print(f'unique of {i} is, \\n{df[i].nunique()}\\n')\n",
        "    \n",
        "\n",
        "for i in object_features:\n",
        "  print(f'unique of {i} is, \\n{df[i].nunique()}\\n')\n",
        "  "
      ],
      "execution_count": 29,
      "outputs": [
        {
          "output_type": "stream",
          "text": [
            "unique of Pclass is, \n",
            "3\n",
            "\n",
            "unique of SibSp is, \n",
            "7\n",
            "\n",
            "unique of Parch is, \n",
            "8\n",
            "\n",
            "unique of Age is, \n",
            "98\n",
            "\n",
            "unique of Fare is, \n",
            "281\n",
            "\n",
            "unique of Name is, \n",
            "1307\n",
            "\n",
            "unique of Sex is, \n",
            "2\n",
            "\n",
            "unique of Ticket is, \n",
            "929\n",
            "\n",
            "unique of Cabin is, \n",
            "186\n",
            "\n",
            "unique of Embarked is, \n",
            "3\n",
            "\n"
          ],
          "name": "stdout"
        }
      ]
    }
  ]
}