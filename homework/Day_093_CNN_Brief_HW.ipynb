{
  "nbformat": 4,
  "nbformat_minor": 0,
  "metadata": {
    "kernelspec": {
      "display_name": "Python 3",
      "language": "python",
      "name": "python3"
    },
    "language_info": {
      "codemirror_mode": {
        "name": "ipython",
        "version": 3
      },
      "file_extension": ".py",
      "mimetype": "text/x-python",
      "name": "python",
      "nbconvert_exporter": "python",
      "pygments_lexer": "ipython3",
      "version": "3.6.8"
    },
    "colab": {
      "name": "Day93-CNN_Brief_HW.ipynb",
      "provenance": [],
      "collapsed_sections": [],
      "include_colab_link": true
    }
  },
  "cells": [
    {
      "cell_type": "markdown",
      "metadata": {
        "id": "view-in-github",
        "colab_type": "text"
      },
      "source": [
        "<a href=\"https://colab.research.google.com/github/PatrickRuan/3rd-ML100Days/blob/master/homework/Day93_CNN_Brief_HW.ipynb\" target=\"_parent\"><img src=\"https://colab.research.google.com/assets/colab-badge.svg\" alt=\"Open In Colab\"/></a>"
      ]
    },
    {
      "cell_type": "markdown",
      "metadata": {
        "id": "p1_8QG1Y6ecL",
        "colab_type": "text"
      },
      "source": [
        "# 作業目標:\n",
        "    運用 Keras 模組建構CNN, 了解 CNN 的架構\n",
        "    \n",
        "    "
      ]
    },
    {
      "cell_type": "markdown",
      "metadata": {
        "id": "b6ShtzQi6ecN",
        "colab_type": "text"
      },
      "source": [
        "# 作業重點\n",
        "(1)嘗試比對 Dense 與 layers.Conv2D 架構NN 的差異\n",
        "\n",
        "### Ans: Dense is fully connected, but \"real\" Convolution layer is connects to certain notes with input and with same parameters with some neurons.\n",
        "\n",
        "\n",
        "(2) 有沒有Pooling layer, 對於參數量的差異\n",
        "\n",
        "###Ans:  pooling layer is without parameters, but it affects parameters number after flatten action (falatten is without parameters, since it is an action not at training object, so is a pooling layer)\n",
        "\n",
        "### we could find 3/4 parameters is saved after we add one pooling layer @ below example\n",
        "\n",
        "注意: input_shape 請勿修改"
      ]
    },
    {
      "cell_type": "code",
      "metadata": {
        "id": "dKKicS-f6ecO",
        "colab_type": "code",
        "colab": {
          "base_uri": "https://localhost:8080/",
          "height": 99
        },
        "outputId": "8886b5b1-c374-4e2a-d950-925ab982e3a7"
      },
      "source": [
        "#導入相關模組\n",
        "import keras\n",
        "from keras import layers\n",
        "from keras import models\n",
        "from keras.models import Sequential\n",
        "from keras.layers import Conv2D, Activation, MaxPooling2D, Flatten, Dense\n",
        "\n",
        "#確認keras 版本\n",
        "print(keras.__version__)"
      ],
      "execution_count": 1,
      "outputs": [
        {
          "output_type": "stream",
          "text": [
            "Using TensorFlow backend.\n"
          ],
          "name": "stderr"
        },
        {
          "output_type": "display_data",
          "data": {
            "text/html": [
              "<p style=\"color: red;\">\n",
              "The default version of TensorFlow in Colab will soon switch to TensorFlow 2.x.<br>\n",
              "We recommend you <a href=\"https://www.tensorflow.org/guide/migrate\" target=\"_blank\">upgrade</a> now \n",
              "or ensure your notebook will continue to use TensorFlow 1.x via the <code>%tensorflow_version 1.x</code> magic:\n",
              "<a href=\"https://colab.research.google.com/notebooks/tensorflow_version.ipynb\" target=\"_blank\">more info</a>.</p>\n"
            ],
            "text/plain": [
              "<IPython.core.display.HTML object>"
            ]
          },
          "metadata": {
            "tags": []
          }
        },
        {
          "output_type": "stream",
          "text": [
            "2.2.5\n"
          ],
          "name": "stdout"
        }
      ]
    },
    {
      "cell_type": "code",
      "metadata": {
        "id": "Y_k32IFt6ecX",
        "colab_type": "code",
        "colab": {
          "base_uri": "https://localhost:8080/",
          "height": 299
        },
        "outputId": "f3136789-0a8b-4006-d5af-d70778108616"
      },
      "source": [
        "'''\n",
        "model = Sequential([\n",
        "    Dense(xxx),\n",
        "    Activation(xxx),\n",
        "    Dense(xxx),\n",
        "    Activation(xxx),\n",
        "])\n",
        "'''\n",
        "model = Sequential([\n",
        "    Dense(32, input_dim=784, activation='relu'),\n",
        "    Dense(32, activation= 'relu'),\n",
        "    Dense(100, activation= 'relu'),\n",
        "    Dense(10, activation='softmax'),\n",
        "])\n",
        "model.summary()"
      ],
      "execution_count": 12,
      "outputs": [
        {
          "output_type": "stream",
          "text": [
            "Model: \"sequential_10\"\n",
            "_________________________________________________________________\n",
            "Layer (type)                 Output Shape              Param #   \n",
            "=================================================================\n",
            "dense_7 (Dense)              (None, 32)                25120     \n",
            "_________________________________________________________________\n",
            "dense_8 (Dense)              (None, 32)                1056      \n",
            "_________________________________________________________________\n",
            "dense_9 (Dense)              (None, 100)               3300      \n",
            "_________________________________________________________________\n",
            "dense_10 (Dense)             (None, 10)                1010      \n",
            "=================================================================\n",
            "Total params: 30,486\n",
            "Trainable params: 30,486\n",
            "Non-trainable params: 0\n",
            "_________________________________________________________________\n"
          ],
          "name": "stdout"
        }
      ]
    },
    {
      "cell_type": "markdown",
      "metadata": {
        "id": "XGIjkpdf6ecb",
        "colab_type": "text"
      },
      "source": [
        "# layers.Conv2D 模型, 用作比對\n",
        "\n",
        "![CNN_Model.png](attachment:CNN_Model.png)\n",
        "\n"
      ]
    },
    {
      "cell_type": "code",
      "metadata": {
        "id": "NmTl6YbG6ecd",
        "colab_type": "code",
        "colab": {
          "base_uri": "https://localhost:8080/",
          "height": 334
        },
        "outputId": "fdcee477-d14b-4aca-dc47-c3256485c29e"
      },
      "source": [
        "'''\n",
        "#建立一個序列模型\n",
        "model = models.Sequential()\n",
        "#建立兩個卷績層, 32 個內核, 內核大小 3x3, \n",
        "#輸入影像大小 28x28x1\n",
        "\n",
        "#建立一個全連接層\n",
        "model.add(Dense(units=100))\n",
        "model.add(Activation('relu'))\n",
        "\n",
        "#建立一個輸出層, 並採用softmax\n",
        "model.add(Dense(units=10))\n",
        "model.add(Activation('softmax'))\n",
        "'''\n",
        "model = Sequential()\n",
        "model.add(Conv2D(32, (3,3),input_shape= (28,28, 1), activation='relu'))\n",
        "model.add(Conv2D(32, (3,3),input_shape=(28,28,1), activation='relu'))\n",
        "model.add(Flatten())\n",
        "model.add(Dense(100, activation='relu'))\n",
        "model.add(Dense(10, activation='softmax'))\n",
        "\n",
        "model.summary()"
      ],
      "execution_count": 9,
      "outputs": [
        {
          "output_type": "stream",
          "text": [
            "Model: \"sequential_7\"\n",
            "_________________________________________________________________\n",
            "Layer (type)                 Output Shape              Param #   \n",
            "=================================================================\n",
            "conv2d_10 (Conv2D)           (None, 26, 26, 32)        320       \n",
            "_________________________________________________________________\n",
            "conv2d_11 (Conv2D)           (None, 24, 24, 32)        9248      \n",
            "_________________________________________________________________\n",
            "flatten_1 (Flatten)          (None, 18432)             0         \n",
            "_________________________________________________________________\n",
            "dense_3 (Dense)              (None, 100)               1843300   \n",
            "_________________________________________________________________\n",
            "dense_4 (Dense)              (None, 10)                1010      \n",
            "=================================================================\n",
            "Total params: 1,853,878\n",
            "Trainable params: 1,853,878\n",
            "Non-trainable params: 0\n",
            "_________________________________________________________________\n"
          ],
          "name": "stdout"
        }
      ]
    },
    {
      "cell_type": "code",
      "metadata": {
        "id": "-rTdhboD9MDH",
        "colab_type": "code",
        "colab": {
          "base_uri": "https://localhost:8080/",
          "height": 424
        },
        "outputId": "7b409e29-cf4b-4756-d422-ba8dd423f1aa"
      },
      "source": [
        "'''\n",
        "#建立一個序列模型\n",
        "model = models.Sequential()\n",
        "#建立兩個卷績層, 32 個內核, 內核大小 3x3, \n",
        "#輸入影像大小 28x28x1\n",
        "\n",
        "#建立一個全連接層\n",
        "model.add(Dense(units=100))\n",
        "model.add(Activation('relu'))\n",
        "\n",
        "#建立一個輸出層, 並採用softmax\n",
        "model.add(Dense(units=10))\n",
        "model.add(Activation('softmax'))\n",
        "'''\n",
        "model = Sequential()\n",
        "model.add(Conv2D(32, (3,3),input_shape= (28,28, 1), activation='relu'))\n",
        "model.add(Conv2D(32, (3,3),input_shape=(28,28,1), activation='relu'))\n",
        "model.add(MaxPooling2D(2,2))\n",
        "model.add(Flatten())\n",
        "model.add(Dense(100, activation='relu'))\n",
        "model.add(Dense(10, activation='softmax'))\n",
        "\n",
        "model.summary()"
      ],
      "execution_count": 11,
      "outputs": [
        {
          "output_type": "stream",
          "text": [
            "WARNING:tensorflow:From /usr/local/lib/python3.6/dist-packages/keras/backend/tensorflow_backend.py:4267: The name tf.nn.max_pool is deprecated. Please use tf.nn.max_pool2d instead.\n",
            "\n",
            "Model: \"sequential_9\"\n",
            "_________________________________________________________________\n",
            "Layer (type)                 Output Shape              Param #   \n",
            "=================================================================\n",
            "conv2d_14 (Conv2D)           (None, 26, 26, 32)        320       \n",
            "_________________________________________________________________\n",
            "conv2d_15 (Conv2D)           (None, 24, 24, 32)        9248      \n",
            "_________________________________________________________________\n",
            "max_pooling2d_1 (MaxPooling2 (None, 12, 12, 32)        0         \n",
            "_________________________________________________________________\n",
            "flatten_2 (Flatten)          (None, 4608)              0         \n",
            "_________________________________________________________________\n",
            "dense_5 (Dense)              (None, 100)               460900    \n",
            "_________________________________________________________________\n",
            "dense_6 (Dense)              (None, 10)                1010      \n",
            "=================================================================\n",
            "Total params: 471,478\n",
            "Trainable params: 471,478\n",
            "Non-trainable params: 0\n",
            "_________________________________________________________________\n"
          ],
          "name": "stdout"
        }
      ]
    }
  ]
}