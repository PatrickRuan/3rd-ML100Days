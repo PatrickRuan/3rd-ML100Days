{
  "nbformat": 4,
  "nbformat_minor": 0,
  "metadata": {
    "kernelspec": {
      "display_name": "Python 3",
      "language": "python",
      "name": "python3"
    },
    "language_info": {
      "codemirror_mode": {
        "name": "ipython",
        "version": 3
      },
      "file_extension": ".py",
      "mimetype": "text/x-python",
      "name": "python",
      "nbconvert_exporter": "python",
      "pygments_lexer": "ipython3",
      "version": "3.6.1"
    },
    "colab": {
      "name": "Day_014_HW.ipynb",
      "provenance": [],
      "collapsed_sections": [],
      "include_colab_link": true
    }
  },
  "cells": [
    {
      "cell_type": "markdown",
      "metadata": {
        "id": "view-in-github",
        "colab_type": "text"
      },
      "source": [
        "<a href=\"https://colab.research.google.com/github/PatrickRuan/3rd-ML100Days/blob/master/homework/Day_014_HW.ipynb\" target=\"_parent\"><img src=\"https://colab.research.google.com/assets/colab-badge.svg\" alt=\"Open In Colab\"/></a>"
      ]
    },
    {
      "cell_type": "code",
      "metadata": {
        "id": "s_q2PjbyTb8z",
        "colab_type": "code",
        "colab": {}
      },
      "source": [
        "# 作業\n",
        "- 參考範例程式碼，模擬一組負相關的資料，並計算出相關係數以及畫出 scatter plot"
      ],
      "execution_count": 0,
      "outputs": []
    },
    {
      "cell_type": "code",
      "metadata": {
        "id": "Ycye5KaxTb82",
        "colab_type": "code",
        "colab": {}
      },
      "source": [
        "# [作業目標]\n",
        "- 以下程式碼將示範在 python 如何利用 numpy 計算出兩組數據之間的相關係數，並觀察散佈圖\n",
        "- 藉由觀察相關矩陣與散佈圖的關係, 希望同學對 負相關 的變數分布情形也有比較直覺的理解"
      ],
      "execution_count": 0,
      "outputs": []
    },
    {
      "cell_type": "code",
      "metadata": {
        "id": "4jvfCZILTb84",
        "colab_type": "code",
        "colab": {}
      },
      "source": [
        "# [作業重點]\n",
        "- 仿照 In[4], In[5] 的語法, 寫出負相關的變數, 並觀察相關矩陣以及分布圖"
      ],
      "execution_count": 0,
      "outputs": []
    },
    {
      "cell_type": "code",
      "metadata": {
        "id": "vEXuDr3jTb86",
        "colab_type": "code",
        "colab": {}
      },
      "source": [
        "# 載入基礎套件\n",
        "import numpy as np\n",
        "np.random.seed(1)\n",
        "\n",
        "import matplotlib\n",
        "import matplotlib.pyplot as plt\n",
        "%matplotlib inline"
      ],
      "execution_count": 0,
      "outputs": []
    },
    {
      "cell_type": "markdown",
      "metadata": {
        "id": "YJ6yHI9bTb88",
        "colab_type": "text"
      },
      "source": [
        "### 弱相關"
      ]
    },
    {
      "cell_type": "code",
      "metadata": {
        "id": "ujGBJupMTb89",
        "colab_type": "code",
        "colab": {
          "base_uri": "https://localhost:8080/",
          "height": 52
        },
        "outputId": "445299c0-2690-46cb-c3b2-f7c0e0a2ef3e"
      },
      "source": [
        "# 隨機生成兩組 1000 個介於 0~50 的數的整數 x, y, 看看相關矩陣如何\n",
        "x = np.random.randint(0, 50, 1000)\n",
        "y = np.random.randint(0, 50, 1000)\n",
        "\n",
        "# 呼叫 numpy 裡的相關矩陣函數 (corrcoef)\n",
        "np.corrcoef(x, y)"
      ],
      "execution_count": 2,
      "outputs": [
        {
          "output_type": "execute_result",
          "data": {
            "text/plain": [
              "array([[1.        , 0.00404702],\n",
              "       [0.00404702, 1.        ]])"
            ]
          },
          "metadata": {
            "tags": []
          },
          "execution_count": 2
        }
      ]
    },
    {
      "cell_type": "code",
      "metadata": {
        "id": "uoCixODmTb9A",
        "colab_type": "code",
        "colab": {
          "base_uri": "https://localhost:8080/",
          "height": 287
        },
        "outputId": "8a5ff3be-69f9-4a96-a76d-34ca1054f6cd"
      },
      "source": [
        "# 將分布畫出來看看吧\n",
        "plt.scatter(x, y)"
      ],
      "execution_count": 3,
      "outputs": [
        {
          "output_type": "execute_result",
          "data": {
            "text/plain": [
              "<matplotlib.collections.PathCollection at 0x7f2233d84780>"
            ]
          },
          "metadata": {
            "tags": []
          },
          "execution_count": 3
        },
        {
          "output_type": "display_data",
          "data": {
            "image/png": "[encoded data removed]",
            "text/plain": [
              "<Figure size 432x288 with 1 Axes>"
            ]
          },
          "metadata": {
            "tags": []
          }
        }
      ]
    },
    {
      "cell_type": "markdown",
      "metadata": {
        "id": "W0tT4hfVTb9C",
        "colab_type": "text"
      },
      "source": [
        "### 正相關"
      ]
    },
    {
      "cell_type": "code",
      "metadata": {
        "id": "yoFC_MPUTb9C",
        "colab_type": "code",
        "colab": {
          "base_uri": "https://localhost:8080/",
          "height": 52
        },
        "outputId": "4237de02-d824-40b3-e978-3af036d507d6"
      },
      "source": [
        "# 隨機生成 1000 個介於 0~50 的數 x\n",
        "x = np.random.randint(0, 50, 1000)\n",
        "\n",
        "# 這次讓 y 與 x 正相關，再增加一些雜訊\n",
        "y = x + np.random.normal(0, 10, 1000)\n",
        "\n",
        "# 再次用 numpy 裡的函數來計算相關係數\n",
        "np.corrcoef(x, y)\n"
      ],
      "execution_count": 16,
      "outputs": [
        {
          "output_type": "execute_result",
          "data": {
            "text/plain": [
              "array([[1.        , 0.80467064],\n",
              "       [0.80467064, 1.        ]])"
            ]
          },
          "metadata": {
            "tags": []
          },
          "execution_count": 16
        }
      ]
    },
    {
      "cell_type": "code",
      "metadata": {
        "id": "2WR7l5NPTb9G",
        "colab_type": "code",
        "colab": {},
        "outputId": "4c85d83a-4857-4c3d-bbc3-5ebdb2acd046"
      },
      "source": [
        "# 再看看正相關的 x,y 分布\n",
        "plt.scatter(x, y)"
      ],
      "execution_count": 0,
      "outputs": [
        {
          "output_type": "execute_result",
          "data": {
            "text/plain": [
              "<matplotlib.collections.PathCollection at 0x149ed635240>"
            ]
          },
          "metadata": {
            "tags": []
          },
          "execution_count": 5
        },
        {
          "output_type": "display_data",
          "data": {
            "image/png": "[encoded data removed]",
            "text/plain": [
              "<Figure size 432x288 with 1 Axes>"
            ]
          },
          "metadata": {
            "tags": []
          }
        }
      ]
    },
    {
      "cell_type": "code",
      "metadata": {
        "id": "bLOog_ZqTb9I",
        "colab_type": "code",
        "colab": {
          "base_uri": "https://localhost:8080/",
          "height": 52
        },
        "outputId": "82fe9b46-47ca-4a0b-fdf8-d58a62ce88c7"
      },
      "source": [
        "# 隨機生成 1000 個介於 0~50 的數 x\n",
        "x = np.random.randint(0, 50, 1000)\n",
        "\n",
        "# 這次讓 y 與 x 正相關，再增加一些雜訊\n",
        "y = - x + np.random.normal(0, 10, 1000)\n",
        "\n",
        "\n",
        "# 再次用 numpy 裡的函數來計算相關係數\n",
        "print(np.corrcoef(x, y))\n",
        "\n",
        "# 再看看負相關的 x,y 分布\n"
      ],
      "execution_count": 20,
      "outputs": [
        {
          "output_type": "stream",
          "text": [
            "[[ 1.         -0.81152155]\n",
            " [-0.81152155  1.        ]]\n"
          ],
          "name": "stdout"
        }
      ]
    }
  ]
}