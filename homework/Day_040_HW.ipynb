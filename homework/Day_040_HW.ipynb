{
  "nbformat": 4,
  "nbformat_minor": 0,
  "metadata": {
    "kernelspec": {
      "display_name": "Python 3",
      "language": "python",
      "name": "python3"
    },
    "language_info": {
      "codemirror_mode": {
        "name": "ipython",
        "version": 3
      },
      "file_extension": ".py",
      "mimetype": "text/x-python",
      "name": "python",
      "nbconvert_exporter": "python",
      "pygments_lexer": "ipython3",
      "version": "3.6.2"
    },
    "colab": {
      "name": "Day_040_HW.ipynb",
      "provenance": [],
      "collapsed_sections": [],
      "include_colab_link": true
    }
  },
  "cells": [
    {
      "cell_type": "markdown",
      "metadata": {
        "id": "view-in-github",
        "colab_type": "text"
      },
      "source": [
        "<a href=\"https://colab.research.google.com/github/PatrickRuan/3rd-ML100Days/blob/master/homework/Day_040_HW.ipynb\" target=\"_parent\"><img src=\"https://colab.research.google.com/assets/colab-badge.svg\" alt=\"Open In Colab\"/></a>"
      ]
    },
    {
      "cell_type": "markdown",
      "metadata": {
        "id": "KdjZtNh6iMLc",
        "colab_type": "text"
      },
      "source": [
        "## [作業重點]\n",
        "使用 Sklearn 中的 Lasso, Ridge 模型，來訓練各種資料集，務必了解送進去模型訓練的**資料型態**為何，也請了解模型中各項參數的意義。\n",
        "\n",
        "機器學習的模型非常多種，但要訓練的資料多半有固定的格式，確保你了解訓練資料的格式為何，這樣在應用新模型時，就能夠最快的上手開始訓練！"
      ]
    },
    {
      "cell_type": "markdown",
      "metadata": {
        "id": "POzAyyoDiMLf",
        "colab_type": "text"
      },
      "source": [
        "## 練習時間\n",
        "試著使用 sklearn datasets 的其他資料集 (boston, ...)，來訓練自己的線性迴歸模型，並加上適當的正則話來觀察訓練情形。"
      ]
    },
    {
      "cell_type": "code",
      "metadata": {
        "id": "tt1EhJUSiMLg",
        "colab_type": "code",
        "colab": {}
      },
      "source": [
        "from sklearn.datasets import load_boston, load_wine\n",
        "from sklearn.linear_model import Lasso, Ridge, LinearRegression, LogisticRegression\n",
        "import numpy as np\n",
        "import pandas as pd\n",
        "from sklearn.model_selection import train_test_split, KFold, cross_val_score\n",
        "from sklearn.metrics import mean_squared_error, accuracy_score\n",
        "import warnings\n",
        "warnings.filterwarnings('ignore')\n",
        "\n",
        "import matplotlib.pyplot as plt\n",
        "%matplotlib inline\n"
      ],
      "execution_count": 0,
      "outputs": []
    },
    {
      "cell_type": "markdown",
      "metadata": {
        "id": "h_hfc0WukfPe",
        "colab_type": "text"
      },
      "source": [
        "# 讀取糖尿病資料集\n",
        "\n",
        "diabetes_data,diabetes_target = datasets.load_diabetes(return_X_y=True)\n",
        "\n",
        "#diabetes=datasets.load_diabetes() # dosen't work now...?"
      ]
    },
    {
      "cell_type": "code",
      "metadata": {
        "id": "CS-2c1bvjYaH",
        "colab_type": "code",
        "colab": {}
      },
      "source": [
        "boston = load_boston()\n",
        "x_train, x_test, y_train, y_test = train_test_split(boston.data, boston.target, random_state=42, test_size=0.2)"
      ],
      "execution_count": 0,
      "outputs": []
    },
    {
      "cell_type": "code",
      "metadata": {
        "id": "hdQqDp6IjYj2",
        "colab_type": "code",
        "colab": {
          "base_uri": "https://localhost:8080/",
          "height": 34
        },
        "outputId": "a3165c6c-9906-4cc2-943a-89623e4c9981"
      },
      "source": [
        "y_test[:5] # Boston is a regression task"
      ],
      "execution_count": 13,
      "outputs": [
        {
          "output_type": "execute_result",
          "data": {
            "text/plain": [
              "array([23.6, 32.4, 13.6, 22.8, 16.1])"
            ]
          },
          "metadata": {
            "tags": []
          },
          "execution_count": 13
        }
      ]
    },
    {
      "cell_type": "code",
      "metadata": {
        "id": "PZdSBvc_jYmf",
        "colab_type": "code",
        "colab": {
          "base_uri": "https://localhost:8080/",
          "height": 51
        },
        "outputId": "8930ecd2-6df4-41d8-c49f-5ce8c0efc08d"
      },
      "source": [
        "model = LinearRegression()\n",
        "model.fit(x_train, y_train)\n",
        "o_score = cross_val_score(model,x_test,y_test,cv=5).mean()\n",
        "o_pred = model.predict(x_test)\n",
        "print(o_score)\n",
        "o_mse = mean_squared_error(y_test,o_pred)\n",
        "print(o_mse)"
      ],
      "execution_count": 17,
      "outputs": [
        {
          "output_type": "stream",
          "text": [
            "0.5451790940964855\n",
            "24.291119474973616\n"
          ],
          "name": "stdout"
        }
      ]
    },
    {
      "cell_type": "code",
      "metadata": {
        "id": "RePBSr9bjYo7",
        "colab_type": "code",
        "colab": {
          "base_uri": "https://localhost:8080/",
          "height": 51
        },
        "outputId": "f078d760-ef2c-45db-c174-ce71a90741ec"
      },
      "source": [
        "model = Lasso()\n",
        "model.fit(x_train, y_train)\n",
        "l1_score = cross_val_score(model,x_test,y_test,cv=5).mean()\n",
        "l1_pred = model.predict(x_test)\n",
        "print(l1_score)\n",
        "l1_mse = mean_squared_error(y_test,l1_pred)\n",
        "print(l1_mse)"
      ],
      "execution_count": 18,
      "outputs": [
        {
          "output_type": "stream",
          "text": [
            "0.5998557589368013\n",
            "24.4094897612997\n"
          ],
          "name": "stdout"
        }
      ]
    },
    {
      "cell_type": "code",
      "metadata": {
        "id": "Txc0x1KUjYsN",
        "colab_type": "code",
        "colab": {
          "base_uri": "https://localhost:8080/",
          "height": 51
        },
        "outputId": "fdc2c7c7-0869-4204-9603-3cd58bb43483"
      },
      "source": [
        "model = Ridge()\n",
        "model.fit(x_train, y_train)\n",
        "l2_score = cross_val_score(model,x_test,y_test,cv=5).mean()\n",
        "l2_pred = model.predict(x_test)\n",
        "print(l2_score)\n",
        "l2_mse = mean_squared_error(y_test,l2_pred)\n",
        "print(l2_mse)"
      ],
      "execution_count": 20,
      "outputs": [
        {
          "output_type": "stream",
          "text": [
            "0.5634017443183696\n",
            "24.477191227708666\n"
          ],
          "name": "stdout"
        }
      ]
    },
    {
      "cell_type": "code",
      "metadata": {
        "id": "Be5WIz2yjYvQ",
        "colab_type": "code",
        "colab": {}
      },
      "source": [
        ""
      ],
      "execution_count": 0,
      "outputs": []
    },
    {
      "cell_type": "code",
      "metadata": {
        "id": "Lu2HotrrjYhZ",
        "colab_type": "code",
        "colab": {}
      },
      "source": [
        ""
      ],
      "execution_count": 0,
      "outputs": []
    },
    {
      "cell_type": "code",
      "metadata": {
        "id": "rov1_SlPjYfv",
        "colab_type": "code",
        "colab": {}
      },
      "source": [
        ""
      ],
      "execution_count": 0,
      "outputs": []
    }
  ]
}