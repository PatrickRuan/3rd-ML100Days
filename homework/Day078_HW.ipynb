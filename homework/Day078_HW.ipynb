{
  "nbformat": 4,
  "nbformat_minor": 0,
  "metadata": {
    "kernelspec": {
      "name": "python3",
      "display_name": "Python 3"
    },
    "language_info": {
      "codemirror_mode": {
        "name": "ipython",
        "version": 3
      },
      "file_extension": ".py",
      "mimetype": "text/x-python",
      "name": "python",
      "nbconvert_exporter": "python",
      "pygments_lexer": "ipython3",
      "version": "3.6.5"
    },
    "colab": {
      "name": "Day078_HW.ipynb",
      "provenance": [],
      "collapsed_sections": [],
      "include_colab_link": true
    },
    "accelerator": "GPU"
  },
  "cells": [
    {
      "cell_type": "markdown",
      "metadata": {
        "id": "view-in-github",
        "colab_type": "text"
      },
      "source": [
        "<a href=\"https://colab.research.google.com/github/PatrickRuan/3rd-ML100Days/blob/master/homework/Day078_HW.ipynb\" target=\"_parent\"><img src=\"https://colab.research.google.com/assets/colab-badge.svg\" alt=\"Open In Colab\"/></a>"
      ]
    },
    {
      "cell_type": "markdown",
      "metadata": {
        "id": "a_BxOpOyujuQ",
        "colab_type": "text"
      },
      "source": [
        "## Work\n",
        "1. 請嘗試將 preproc_x 替換成以每筆資料的 min/max 進行標準化至 -1 ~ 1 間，再進行訓練\n",
        "2. 請嘗試將 mlp 疊更深 (e.g 5~10 層)，進行訓練後觀察 learning curve 的走勢\n",
        "3. (optional) 請改用 GPU 進行訓練 (如果你有 GPU 的話)，比較使用 CPU 與 GPU 的訓練速度"。
      ]
    },
    {
      "cell_type": "code",
      "metadata": {
        "id": "SORJ2nuqujuT",
        "colab_type": "code",
        "colab": {}
      },
      "source": [
        "## \n",
        "\"\"\"\n",
        "Your code here (optional)\n",
        "確認硬體資源\n",
        "\"\"\"\n"
      ],
      "execution_count": 0,
      "outputs": []
    },
    {
      "cell_type": "code",
      "metadata": {
        "id": "ft5BXxprujuX",
        "colab_type": "code",
        "colab": {
          "base_uri": "https://localhost:8080/",
          "height": 80
        },
        "outputId": "b2eded3e-6b5d-42a4-dd9c-118881af9879"
      },
      "source": [
        "import os\n",
        "import keras\n",
        "\n",
        "# 請嘗試設定 GPU：os.environ\n"
      ],
      "execution_count": 1,
      "outputs": [
        {
          "output_type": "stream",
          "text": [
            "Using TensorFlow backend.\n"
          ],
          "name": "stderr"
        },
        {
          "output_type": "display_data",
          "data": {
            "text/html": [
              "<p style=\"color: red;\">\n",
              "The default version of TensorFlow in Colab will soon switch to TensorFlow 2.x.<br>\n",
              "We recommend you <a href=\"https://www.tensorflow.org/guide/migrate\" target=\"_blank\">upgrade</a> now \n",
              "or ensure your notebook will continue to use TensorFlow 1.x via the <code>%tensorflow_version 1.x</code> magic:\n",
              "<a href=\"https://colab.research.google.com/notebooks/tensorflow_version.ipynb\" target=\"_blank\">more info</a>.</p>\n"
            ],
            "text/plain": [
              "<IPython.core.display.HTML object>"
            ]
          },
          "metadata": {
            "tags": []
          }
        }
      ]
    },
    {
      "cell_type": "code",
      "metadata": {
        "id": "gGNjXAVyujub",
        "colab_type": "code",
        "colab": {}
      },
      "source": [
        "(x_train, y_train), (x_test, y_test) = keras.datasets.cifar10.load_data()"
      ],
      "execution_count": 0,
      "outputs": []
    },
    {
      "cell_type": "code",
      "metadata": {
        "id": "lMuR6PYTujue",
        "colab_type": "code",
        "colab": {}
      },
      "source": [
        "## 資料前處理\n",
        "\"\"\"\n",
        "Your code here\n",
        "\"\"\"\n",
        "def preproc_x(x, flatten=True):\n",
        "    x = 2*x/255-1\n",
        "    if flatten:\n",
        "        x = x.reshape((len(x), -1))\n",
        "    return x\n",
        "\n",
        "def preproc_y(y, num_classes=10):\n",
        "    if y.shape[-1] == 1:\n",
        "        y = keras.utils.to_categorical(y, num_classes)\n",
        "    return y    "
      ],
      "execution_count": 0,
      "outputs": []
    },
    {
      "cell_type": "code",
      "metadata": {
        "id": "e1FMMgmtujug",
        "colab_type": "code",
        "colab": {}
      },
      "source": [
        "\n",
        "\n",
        "# Preproc the inputs\n",
        "x_train = preproc_x(x_train)\n",
        "x_test = preproc_x(x_test)\n",
        "\n",
        "# Preprc the outputs\n",
        "y_train = preproc_y(y_train)\n",
        "y_test = preproc_y(y_test)"
      ],
      "execution_count": 0,
      "outputs": []
    },
    {
      "cell_type": "code",
      "metadata": {
        "id": "hF_baOhPujui",
        "colab_type": "code",
        "colab": {
          "base_uri": "https://localhost:8080/",
          "height": 581
        },
        "outputId": "ec068adb-2a87-474f-d834-84462c248fb5"
      },
      "source": [
        "\"\"\"Code Here\n",
        "建立你的神經網路\n",
        "\"\"\"\n",
        "def build_mlp(input_shape, output_units=10, num_neurons=[256, 128, 128, 64, 64, 32, 32]):\n",
        "    input_layer = keras.layers.Input(input_shape)\n",
        "    \n",
        "    for i, n_units in enumerate(num_neurons):\n",
        "        if i == 0:\n",
        "            x = keras.layers.Dense(units=n_units, activation=\"relu\", name=\"hidden_layer\"+str(i+1))(input_layer)\n",
        "        else:\n",
        "            x = keras.layers.Dense(units=n_units, activation=\"relu\", name=\"hidden_layer\"+str(i+1))(x)\n",
        "    \n",
        "    out = keras.layers.Dense(units=output_units, activation=\"softmax\", name=\"output\")(x)\n",
        "    \n",
        "    model = keras.models.Model(inputs=[input_layer], outputs=[out])\n",
        "    return model\n",
        "model = build_mlp(input_shape=x_train.shape[1:])\n",
        "model.summary()"
      ],
      "execution_count": 11,
      "outputs": [
        {
          "output_type": "stream",
          "text": [
            "WARNING:tensorflow:From /usr/local/lib/python3.6/dist-packages/keras/backend/tensorflow_backend.py:66: The name tf.get_default_graph is deprecated. Please use tf.compat.v1.get_default_graph instead.\n",
            "\n",
            "WARNING:tensorflow:From /usr/local/lib/python3.6/dist-packages/keras/backend/tensorflow_backend.py:541: The name tf.placeholder is deprecated. Please use tf.compat.v1.placeholder instead.\n",
            "\n",
            "WARNING:tensorflow:From /usr/local/lib/python3.6/dist-packages/keras/backend/tensorflow_backend.py:4432: The name tf.random_uniform is deprecated. Please use tf.random.uniform instead.\n",
            "\n",
            "Model: \"model_1\"\n",
            "_________________________________________________________________\n",
            "Layer (type)                 Output Shape              Param #   \n",
            "=================================================================\n",
            "input_1 (InputLayer)         (None, 3072)              0         \n",
            "_________________________________________________________________\n",
            "hidden_layer1 (Dense)        (None, 256)               786688    \n",
            "_________________________________________________________________\n",
            "hidden_layer2 (Dense)        (None, 128)               32896     \n",
            "_________________________________________________________________\n",
            "hidden_layer3 (Dense)        (None, 128)               16512     \n",
            "_________________________________________________________________\n",
            "hidden_layer4 (Dense)        (None, 64)                8256      \n",
            "_________________________________________________________________\n",
            "hidden_layer5 (Dense)        (None, 64)                4160      \n",
            "_________________________________________________________________\n",
            "hidden_layer6 (Dense)        (None, 32)                2080      \n",
            "_________________________________________________________________\n",
            "hidden_layer7 (Dense)        (None, 32)                1056      \n",
            "_________________________________________________________________\n",
            "output (Dense)               (None, 10)                330       \n",
            "=================================================================\n",
            "Total params: 851,978\n",
            "Trainable params: 851,978\n",
            "Non-trainable params: 0\n",
            "_________________________________________________________________\n"
          ],
          "name": "stdout"
        }
      ]
    },
    {
      "cell_type": "code",
      "metadata": {
        "id": "-rE_9n9mujum",
        "colab_type": "code",
        "colab": {}
      },
      "source": [
        "## 超參數設定\n",
        "LEARNING_RATE = 0.001\n",
        "EPOCHS = 100\n",
        "BATCH_SIZE = 256"
      ],
      "execution_count": 0,
      "outputs": []
    },
    {
      "cell_type": "code",
      "metadata": {
        "id": "PaiSdjHzujuo",
        "colab_type": "code",
        "colab": {
          "base_uri": "https://localhost:8080/",
          "height": 105
        },
        "outputId": "c0511c5b-5307-4107-89ac-cab3fe07df06"
      },
      "source": [
        "optimizer = keras.optimizers.Adam(lr=LEARNING_RATE)\n",
        "model.compile(loss=\"categorical_crossentropy\", metrics=[\"accuracy\"], optimizer=optimizer)"
      ],
      "execution_count": 13,
      "outputs": [
        {
          "output_type": "stream",
          "text": [
            "WARNING:tensorflow:From /usr/local/lib/python3.6/dist-packages/keras/optimizers.py:793: The name tf.train.Optimizer is deprecated. Please use tf.compat.v1.train.Optimizer instead.\n",
            "\n",
            "WARNING:tensorflow:From /usr/local/lib/python3.6/dist-packages/keras/backend/tensorflow_backend.py:3576: The name tf.log is deprecated. Please use tf.math.log instead.\n",
            "\n"
          ],
          "name": "stdout"
        }
      ]
    },
    {
      "cell_type": "code",
      "metadata": {
        "id": "4HrOkr4dujur",
        "colab_type": "code",
        "colab": {
          "base_uri": "https://localhost:8080/",
          "height": 1000
        },
        "outputId": "6eed5e45-d4d7-45d8-f16d-3d60f8503a71"
      },
      "source": [
        "model.fit(x_train, y_train, \n",
        "          epochs=EPOCHS, \n",
        "          batch_size=BATCH_SIZE, \n",
        "          validation_data=(x_test, y_test), \n",
        "          shuffle=True)"
      ],
      "execution_count": 14,
      "outputs": [
        {
          "output_type": "stream",
          "text": [
            "WARNING:tensorflow:From /usr/local/lib/python3.6/dist-packages/tensorflow_core/python/ops/math_grad.py:1424: where (from tensorflow.python.ops.array_ops) is deprecated and will be removed in a future version.\n",
            "Instructions for updating:\n",
            "Use tf.where in 2.0, which has the same broadcast rule as np.where\n",
            "WARNING:tensorflow:From /usr/local/lib/python3.6/dist-packages/keras/backend/tensorflow_backend.py:1033: The name tf.assign_add is deprecated. Please use tf.compat.v1.assign_add instead.\n",
            "\n",
            "WARNING:tensorflow:From /usr/local/lib/python3.6/dist-packages/keras/backend/tensorflow_backend.py:1020: The name tf.assign is deprecated. Please use tf.compat.v1.assign instead.\n",
            "\n",
            "WARNING:tensorflow:From /usr/local/lib/python3.6/dist-packages/keras/backend/tensorflow_backend.py:3005: The name tf.Session is deprecated. Please use tf.compat.v1.Session instead.\n",
            "\n",
            "Train on 50000 samples, validate on 10000 samples\n",
            "Epoch 1/100\n",
            "WARNING:tensorflow:From /usr/local/lib/python3.6/dist-packages/keras/backend/tensorflow_backend.py:190: The name tf.get_default_session is deprecated. Please use tf.compat.v1.get_default_session instead.\n",
            "\n",
            "WARNING:tensorflow:From /usr/local/lib/python3.6/dist-packages/keras/backend/tensorflow_backend.py:197: The name tf.ConfigProto is deprecated. Please use tf.compat.v1.ConfigProto instead.\n",
            "\n",
            "WARNING:tensorflow:From /usr/local/lib/python3.6/dist-packages/keras/backend/tensorflow_backend.py:207: The name tf.global_variables is deprecated. Please use tf.compat.v1.global_variables instead.\n",
            "\n",
            "WARNING:tensorflow:From /usr/local/lib/python3.6/dist-packages/keras/backend/tensorflow_backend.py:216: The name tf.is_variable_initialized is deprecated. Please use tf.compat.v1.is_variable_initialized instead.\n",
            "\n",
            "WARNING:tensorflow:From /usr/local/lib/python3.6/dist-packages/keras/backend/tensorflow_backend.py:223: The name tf.variables_initializer is deprecated. Please use tf.compat.v1.variables_initializer instead.\n",
            "\n",
            "50000/50000 [==============================] - 6s 128us/step - loss: 2.2513 - acc: 0.1426 - val_loss: 2.2061 - val_acc: 0.1657\n",
            "Epoch 2/100\n",
            "50000/50000 [==============================] - 2s 37us/step - loss: 2.1632 - acc: 0.1916 - val_loss: 2.1458 - val_acc: 0.2032\n",
            "Epoch 3/100\n",
            "50000/50000 [==============================] - 2s 36us/step - loss: 2.0940 - acc: 0.2264 - val_loss: 2.1008 - val_acc: 0.2245\n",
            "Epoch 4/100\n",
            "50000/50000 [==============================] - 2s 36us/step - loss: 2.0431 - acc: 0.2514 - val_loss: 2.0892 - val_acc: 0.2315\n",
            "Epoch 5/100\n",
            "50000/50000 [==============================] - 2s 36us/step - loss: 2.0037 - acc: 0.2684 - val_loss: 2.0181 - val_acc: 0.2575\n",
            "Epoch 6/100\n",
            "50000/50000 [==============================] - 2s 36us/step - loss: 1.9696 - acc: 0.2843 - val_loss: 2.0164 - val_acc: 0.2676\n",
            "Epoch 7/100\n",
            "50000/50000 [==============================] - 2s 36us/step - loss: 1.9465 - acc: 0.2949 - val_loss: 2.0040 - val_acc: 0.2721\n",
            "Epoch 8/100\n",
            "50000/50000 [==============================] - 2s 36us/step - loss: 1.9249 - acc: 0.3025 - val_loss: 2.0030 - val_acc: 0.2704\n",
            "Epoch 9/100\n",
            "50000/50000 [==============================] - 2s 35us/step - loss: 1.8997 - acc: 0.3118 - val_loss: 1.9850 - val_acc: 0.2798\n",
            "Epoch 10/100\n",
            "50000/50000 [==============================] - 2s 35us/step - loss: 1.8798 - acc: 0.3210 - val_loss: 1.9991 - val_acc: 0.2844\n",
            "Epoch 11/100\n",
            "50000/50000 [==============================] - 2s 36us/step - loss: 1.8499 - acc: 0.3311 - val_loss: 1.9904 - val_acc: 0.2784\n",
            "Epoch 12/100\n",
            "50000/50000 [==============================] - 2s 37us/step - loss: 1.8233 - acc: 0.3430 - val_loss: 2.0039 - val_acc: 0.2842\n",
            "Epoch 13/100\n",
            "50000/50000 [==============================] - 2s 37us/step - loss: 1.7981 - acc: 0.3516 - val_loss: 1.9685 - val_acc: 0.2901\n",
            "Epoch 14/100\n",
            "50000/50000 [==============================] - 2s 37us/step - loss: 1.7743 - acc: 0.3602 - val_loss: 1.9768 - val_acc: 0.2944\n",
            "Epoch 15/100\n",
            "50000/50000 [==============================] - 2s 37us/step - loss: 1.7598 - acc: 0.3658 - val_loss: 2.0221 - val_acc: 0.2763\n",
            "Epoch 16/100\n",
            "50000/50000 [==============================] - 2s 37us/step - loss: 1.7417 - acc: 0.3751 - val_loss: 1.9903 - val_acc: 0.2974\n",
            "Epoch 17/100\n",
            "50000/50000 [==============================] - 2s 36us/step - loss: 1.7008 - acc: 0.3883 - val_loss: 1.9988 - val_acc: 0.2894\n",
            "Epoch 18/100\n",
            "50000/50000 [==============================] - 2s 37us/step - loss: 1.6832 - acc: 0.3946 - val_loss: 2.0369 - val_acc: 0.2938\n",
            "Epoch 19/100\n",
            "50000/50000 [==============================] - 2s 37us/step - loss: 1.6612 - acc: 0.4018 - val_loss: 2.0363 - val_acc: 0.2993\n",
            "Epoch 20/100\n",
            "50000/50000 [==============================] - 2s 37us/step - loss: 1.6288 - acc: 0.4136 - val_loss: 2.0172 - val_acc: 0.3014\n",
            "Epoch 21/100\n",
            "50000/50000 [==============================] - 2s 37us/step - loss: 1.6168 - acc: 0.4195 - val_loss: 2.0317 - val_acc: 0.3035\n",
            "Epoch 22/100\n",
            "50000/50000 [==============================] - 2s 37us/step - loss: 1.5697 - acc: 0.4366 - val_loss: 2.0883 - val_acc: 0.3011\n",
            "Epoch 23/100\n",
            "50000/50000 [==============================] - 2s 38us/step - loss: 1.5521 - acc: 0.4421 - val_loss: 2.0685 - val_acc: 0.2936\n",
            "Epoch 24/100\n",
            "50000/50000 [==============================] - 2s 37us/step - loss: 1.5405 - acc: 0.4475 - val_loss: 2.1256 - val_acc: 0.2864\n",
            "Epoch 25/100\n",
            "50000/50000 [==============================] - 2s 38us/step - loss: 1.5053 - acc: 0.4581 - val_loss: 2.1515 - val_acc: 0.2885\n",
            "Epoch 26/100\n",
            "50000/50000 [==============================] - 2s 38us/step - loss: 1.4825 - acc: 0.4705 - val_loss: 2.1272 - val_acc: 0.3030\n",
            "Epoch 27/100\n",
            "50000/50000 [==============================] - 2s 37us/step - loss: 1.4533 - acc: 0.4773 - val_loss: 2.1782 - val_acc: 0.2907\n",
            "Epoch 28/100\n",
            "50000/50000 [==============================] - 2s 38us/step - loss: 1.4225 - acc: 0.4878 - val_loss: 2.2192 - val_acc: 0.2963\n",
            "Epoch 29/100\n",
            "50000/50000 [==============================] - 2s 38us/step - loss: 1.4024 - acc: 0.4953 - val_loss: 2.2737 - val_acc: 0.2810\n",
            "Epoch 30/100\n",
            "50000/50000 [==============================] - 2s 37us/step - loss: 1.3959 - acc: 0.4988 - val_loss: 2.2933 - val_acc: 0.2805\n",
            "Epoch 31/100\n",
            "50000/50000 [==============================] - 2s 37us/step - loss: 1.3674 - acc: 0.5087 - val_loss: 2.2830 - val_acc: 0.2850\n",
            "Epoch 32/100\n",
            "50000/50000 [==============================] - 2s 37us/step - loss: 1.3453 - acc: 0.5161 - val_loss: 2.3525 - val_acc: 0.2880\n",
            "Epoch 33/100\n",
            "50000/50000 [==============================] - 2s 37us/step - loss: 1.3176 - acc: 0.5246 - val_loss: 2.3915 - val_acc: 0.2804\n",
            "Epoch 34/100\n",
            "50000/50000 [==============================] - 2s 39us/step - loss: 1.2947 - acc: 0.5336 - val_loss: 2.3182 - val_acc: 0.2882\n",
            "Epoch 35/100\n",
            "50000/50000 [==============================] - 2s 38us/step - loss: 1.2754 - acc: 0.5384 - val_loss: 2.4529 - val_acc: 0.2782\n",
            "Epoch 36/100\n",
            "50000/50000 [==============================] - 2s 38us/step - loss: 1.2678 - acc: 0.5431 - val_loss: 2.5825 - val_acc: 0.2791\n",
            "Epoch 37/100\n",
            "50000/50000 [==============================] - 2s 38us/step - loss: 1.2315 - acc: 0.5565 - val_loss: 2.4571 - val_acc: 0.2853\n",
            "Epoch 38/100\n",
            "50000/50000 [==============================] - 2s 38us/step - loss: 1.2137 - acc: 0.5640 - val_loss: 2.5216 - val_acc: 0.2870\n",
            "Epoch 39/100\n",
            "50000/50000 [==============================] - 2s 38us/step - loss: 1.1818 - acc: 0.5747 - val_loss: 2.5621 - val_acc: 0.2750\n",
            "Epoch 40/100\n",
            "50000/50000 [==============================] - 2s 38us/step - loss: 1.1683 - acc: 0.5787 - val_loss: 2.5945 - val_acc: 0.2761\n",
            "Epoch 41/100\n",
            "50000/50000 [==============================] - 2s 37us/step - loss: 1.1360 - acc: 0.5924 - val_loss: 2.6265 - val_acc: 0.2804\n",
            "Epoch 42/100\n",
            "50000/50000 [==============================] - 2s 37us/step - loss: 1.1195 - acc: 0.5957 - val_loss: 2.7620 - val_acc: 0.2774\n",
            "Epoch 43/100\n",
            "50000/50000 [==============================] - 2s 38us/step - loss: 1.1186 - acc: 0.5961 - val_loss: 2.6947 - val_acc: 0.2741\n",
            "Epoch 44/100\n",
            "50000/50000 [==============================] - 2s 38us/step - loss: 1.0834 - acc: 0.6090 - val_loss: 2.7420 - val_acc: 0.2782\n",
            "Epoch 45/100\n",
            "50000/50000 [==============================] - 2s 37us/step - loss: 1.0866 - acc: 0.6073 - val_loss: 2.7549 - val_acc: 0.2773\n",
            "Epoch 46/100\n",
            "50000/50000 [==============================] - 2s 38us/step - loss: 1.0593 - acc: 0.6176 - val_loss: 2.7972 - val_acc: 0.2771\n",
            "Epoch 47/100\n",
            "50000/50000 [==============================] - 2s 37us/step - loss: 1.0585 - acc: 0.6184 - val_loss: 2.8536 - val_acc: 0.2794\n",
            "Epoch 48/100\n",
            "50000/50000 [==============================] - 2s 37us/step - loss: 1.0142 - acc: 0.6340 - val_loss: 2.9349 - val_acc: 0.2712\n",
            "Epoch 49/100\n",
            "50000/50000 [==============================] - 2s 38us/step - loss: 1.0354 - acc: 0.6255 - val_loss: 2.8913 - val_acc: 0.2744\n",
            "Epoch 50/100\n",
            "50000/50000 [==============================] - 2s 38us/step - loss: 0.9883 - acc: 0.6439 - val_loss: 2.9770 - val_acc: 0.2636\n",
            "Epoch 51/100\n",
            "50000/50000 [==============================] - 2s 38us/step - loss: 1.0094 - acc: 0.6353 - val_loss: 2.9285 - val_acc: 0.2721\n",
            "Epoch 52/100\n",
            "50000/50000 [==============================] - 2s 38us/step - loss: 0.9838 - acc: 0.6436 - val_loss: 3.2204 - val_acc: 0.2681\n",
            "Epoch 53/100\n",
            "50000/50000 [==============================] - 2s 38us/step - loss: 0.9390 - acc: 0.6605 - val_loss: 3.1023 - val_acc: 0.2691\n",
            "Epoch 54/100\n",
            "50000/50000 [==============================] - 2s 37us/step - loss: 0.9233 - acc: 0.6651 - val_loss: 3.2173 - val_acc: 0.2785\n",
            "Epoch 55/100\n",
            "50000/50000 [==============================] - 2s 38us/step - loss: 0.9164 - acc: 0.6670 - val_loss: 3.2058 - val_acc: 0.2718\n",
            "Epoch 56/100\n",
            "50000/50000 [==============================] - 2s 37us/step - loss: 0.9115 - acc: 0.6713 - val_loss: 3.3015 - val_acc: 0.2714\n",
            "Epoch 57/100\n",
            "50000/50000 [==============================] - 2s 38us/step - loss: 0.8989 - acc: 0.6766 - val_loss: 3.2217 - val_acc: 0.2673\n",
            "Epoch 58/100\n",
            "50000/50000 [==============================] - 2s 38us/step - loss: 0.8582 - acc: 0.6888 - val_loss: 3.4876 - val_acc: 0.2654\n",
            "Epoch 59/100\n",
            "50000/50000 [==============================] - 2s 38us/step - loss: 0.8800 - acc: 0.6809 - val_loss: 3.5635 - val_acc: 0.2708\n",
            "Epoch 60/100\n",
            "50000/50000 [==============================] - 2s 37us/step - loss: 0.8542 - acc: 0.6923 - val_loss: 3.4448 - val_acc: 0.2754\n",
            "Epoch 61/100\n",
            "50000/50000 [==============================] - 2s 38us/step - loss: 0.8227 - acc: 0.7015 - val_loss: 3.6071 - val_acc: 0.2706\n",
            "Epoch 62/100\n",
            "50000/50000 [==============================] - 2s 37us/step - loss: 0.8554 - acc: 0.6915 - val_loss: 3.5025 - val_acc: 0.2710\n",
            "Epoch 63/100\n",
            "50000/50000 [==============================] - 2s 37us/step - loss: 0.8009 - acc: 0.7114 - val_loss: 3.6343 - val_acc: 0.2710\n",
            "Epoch 64/100\n",
            "50000/50000 [==============================] - 2s 38us/step - loss: 0.8121 - acc: 0.7083 - val_loss: 3.8024 - val_acc: 0.2657\n",
            "Epoch 65/100\n",
            "50000/50000 [==============================] - 2s 37us/step - loss: 0.7920 - acc: 0.7113 - val_loss: 3.7629 - val_acc: 0.2629\n",
            "Epoch 66/100\n",
            "50000/50000 [==============================] - 2s 37us/step - loss: 0.7796 - acc: 0.7179 - val_loss: 3.6475 - val_acc: 0.2623\n",
            "Epoch 67/100\n",
            "50000/50000 [==============================] - 2s 38us/step - loss: 0.7649 - acc: 0.7234 - val_loss: 3.5896 - val_acc: 0.2691\n",
            "Epoch 68/100\n",
            "50000/50000 [==============================] - 2s 37us/step - loss: 0.7487 - acc: 0.7314 - val_loss: 3.6876 - val_acc: 0.2624\n",
            "Epoch 69/100\n",
            "50000/50000 [==============================] - 2s 38us/step - loss: 0.7563 - acc: 0.7278 - val_loss: 3.8581 - val_acc: 0.2701\n",
            "Epoch 70/100\n",
            "50000/50000 [==============================] - 2s 38us/step - loss: 0.7452 - acc: 0.7295 - val_loss: 3.7838 - val_acc: 0.2715\n",
            "Epoch 71/100\n",
            "50000/50000 [==============================] - 2s 38us/step - loss: 0.7093 - acc: 0.7439 - val_loss: 3.8373 - val_acc: 0.2699\n",
            "Epoch 72/100\n",
            "50000/50000 [==============================] - 2s 37us/step - loss: 0.7348 - acc: 0.7335 - val_loss: 3.9631 - val_acc: 0.2705\n",
            "Epoch 73/100\n",
            "50000/50000 [==============================] - 2s 38us/step - loss: 0.7144 - acc: 0.7431 - val_loss: 3.9854 - val_acc: 0.2651\n",
            "Epoch 74/100\n",
            "50000/50000 [==============================] - 2s 38us/step - loss: 0.7009 - acc: 0.7487 - val_loss: 4.1893 - val_acc: 0.2613\n",
            "Epoch 75/100\n",
            "50000/50000 [==============================] - 2s 38us/step - loss: 0.7007 - acc: 0.7491 - val_loss: 4.1193 - val_acc: 0.2680\n",
            "Epoch 76/100\n",
            "50000/50000 [==============================] - 2s 39us/step - loss: 0.6852 - acc: 0.7530 - val_loss: 4.0509 - val_acc: 0.2705\n",
            "Epoch 77/100\n",
            "50000/50000 [==============================] - 2s 38us/step - loss: 0.6672 - acc: 0.7603 - val_loss: 4.1438 - val_acc: 0.2675\n",
            "Epoch 78/100\n",
            "50000/50000 [==============================] - 2s 37us/step - loss: 0.6662 - acc: 0.7616 - val_loss: 4.1159 - val_acc: 0.2683\n",
            "Epoch 79/100\n",
            "50000/50000 [==============================] - 2s 37us/step - loss: 0.7119 - acc: 0.7459 - val_loss: 3.9397 - val_acc: 0.2626\n",
            "Epoch 80/100\n",
            "50000/50000 [==============================] - 2s 38us/step - loss: 0.6625 - acc: 0.7627 - val_loss: 4.1695 - val_acc: 0.2631\n",
            "Epoch 81/100\n",
            "50000/50000 [==============================] - 2s 39us/step - loss: 0.6589 - acc: 0.7652 - val_loss: 4.3111 - val_acc: 0.2659\n",
            "Epoch 82/100\n",
            "50000/50000 [==============================] - 2s 39us/step - loss: 0.6262 - acc: 0.7742 - val_loss: 4.3748 - val_acc: 0.2700\n",
            "Epoch 83/100\n",
            "50000/50000 [==============================] - 2s 38us/step - loss: 0.6297 - acc: 0.7739 - val_loss: 4.2469 - val_acc: 0.2622\n",
            "Epoch 84/100\n",
            "50000/50000 [==============================] - 2s 37us/step - loss: 0.6356 - acc: 0.7721 - val_loss: 4.5745 - val_acc: 0.2723\n",
            "Epoch 85/100\n",
            "50000/50000 [==============================] - 2s 37us/step - loss: 0.5835 - acc: 0.7911 - val_loss: 4.3213 - val_acc: 0.2589\n",
            "Epoch 86/100\n",
            "50000/50000 [==============================] - 2s 38us/step - loss: 0.6316 - acc: 0.7733 - val_loss: 4.5464 - val_acc: 0.2535\n",
            "Epoch 87/100\n",
            "50000/50000 [==============================] - 2s 38us/step - loss: 0.6391 - acc: 0.7719 - val_loss: 4.3921 - val_acc: 0.2658\n",
            "Epoch 88/100\n",
            "50000/50000 [==============================] - 2s 37us/step - loss: 0.5740 - acc: 0.7963 - val_loss: 4.5511 - val_acc: 0.2634\n",
            "Epoch 89/100\n",
            "50000/50000 [==============================] - 2s 39us/step - loss: 0.6253 - acc: 0.7756 - val_loss: 4.2839 - val_acc: 0.2632\n",
            "Epoch 90/100\n",
            "50000/50000 [==============================] - 2s 39us/step - loss: 0.5862 - acc: 0.7912 - val_loss: 4.3866 - val_acc: 0.2595\n",
            "Epoch 91/100\n",
            "50000/50000 [==============================] - 2s 38us/step - loss: 0.5689 - acc: 0.7964 - val_loss: 4.4903 - val_acc: 0.2608\n",
            "Epoch 92/100\n",
            "50000/50000 [==============================] - 2s 39us/step - loss: 0.5181 - acc: 0.8146 - val_loss: 4.7196 - val_acc: 0.2690\n",
            "Epoch 93/100\n",
            "50000/50000 [==============================] - 2s 38us/step - loss: 0.5756 - acc: 0.7957 - val_loss: 4.5549 - val_acc: 0.2653\n",
            "Epoch 94/100\n",
            "50000/50000 [==============================] - 2s 38us/step - loss: 0.5123 - acc: 0.8179 - val_loss: 4.7011 - val_acc: 0.2696\n",
            "Epoch 95/100\n",
            "50000/50000 [==============================] - 2s 38us/step - loss: 0.6117 - acc: 0.7823 - val_loss: 4.4585 - val_acc: 0.2641\n",
            "Epoch 96/100\n",
            "50000/50000 [==============================] - 2s 38us/step - loss: 0.5341 - acc: 0.8110 - val_loss: 4.5370 - val_acc: 0.2570\n",
            "Epoch 97/100\n",
            "50000/50000 [==============================] - 2s 37us/step - loss: 0.5261 - acc: 0.8140 - val_loss: 4.7367 - val_acc: 0.2629\n",
            "Epoch 98/100\n",
            "50000/50000 [==============================] - 2s 38us/step - loss: 0.5561 - acc: 0.8029 - val_loss: 4.8779 - val_acc: 0.2579\n",
            "Epoch 99/100\n",
            "50000/50000 [==============================] - 2s 37us/step - loss: 0.5178 - acc: 0.8170 - val_loss: 5.0087 - val_acc: 0.2637\n",
            "Epoch 100/100\n",
            "50000/50000 [==============================] - 2s 37us/step - loss: 0.5138 - acc: 0.8192 - val_loss: 5.0767 - val_acc: 0.2682\n"
          ],
          "name": "stdout"
        },
        {
          "output_type": "execute_result",
          "data": {
            "text/plain": [
              "<keras.callbacks.History at 0x7f8b9f2cbba8>"
            ]
          },
          "metadata": {
            "tags": []
          },
          "execution_count": 14
        }
      ]
    },
    {
      "cell_type": "code",
      "metadata": {
        "id": "B2MNHZCYujut",
        "colab_type": "code",
        "colab": {
          "base_uri": "https://localhost:8080/",
          "height": 545
        },
        "outputId": "c9b6bda9-deef-48b1-a5bc-91d752c43b21"
      },
      "source": [
        "import matplotlib.pyplot as plt\n",
        "\n",
        "\n",
        "train_loss = model.history.history[\"loss\"]\n",
        "valid_loss = model.history.history[\"val_loss\"]\n",
        "\n",
        "train_acc = model.history.history[\"acc\"]\n",
        "valid_acc = model.history.history[\"val_acc\"]\n",
        "\n",
        "plt.plot(range(len(train_loss)), train_loss, label=\"train loss\")\n",
        "plt.plot(range(len(valid_loss)), valid_loss, label=\"valid loss\")\n",
        "plt.legend()\n",
        "plt.title(\"Loss\")\n",
        "plt.show()\n",
        "\n",
        "plt.plot(range(len(train_acc)), train_acc, label=\"train accuracy\")\n",
        "plt.plot(range(len(valid_acc)), valid_acc, label=\"valid accuracy\")\n",
        "plt.legend()\n",
        "plt.title(\"Accuracy\")\n",
        "plt.show()"
      ],
      "execution_count": 15,
      "outputs": [
        {
          "output_type": "display_data",
          "data": {
            "image/png": "iVBORw0KGgoAAAANSUhEUgAAAWoAAAEICAYAAAB25L6yAAAABHNCSVQICAgIfAhkiAAAAAlwSFlz\nAAALEgAACxIB0t1+/AAAADh0RVh0U29mdHdhcmUAbWF0cGxvdGxpYiB2ZXJzaW9uMy4xLjEsIGh0\ndHA6Ly9tYXRwbG90bGliLm9yZy8QZhcZAAAgAElEQVR4nO3dd3xUVdrA8d9J74UkhBRCQocUAoQm\nVUGk2LCh4tpWXd1dXbf46vq+6rqrq+66q6JYV6yIi6iogCBI79IJNSEQkgBppJM6c94/TmhCIJBM\nZjJ5vp9PPsncuffOc3P5PDmce85zlNYaIYQQjsvF3gEIIYQ4P0nUQgjh4CRRCyGEg5NELYQQDk4S\ntRBCODhJ1EII4eAkUQshhIOTRC1aNaXUQaXUGHvHIYQtSaIWQggHJ4laOCWl1P1KqXSl1DGl1LdK\nqcj67Uop9YpSKk8pVaqU2qGUSqh/b4JSapdSqkwplaOU+pN9r0IIQxK1cDpKqSuAF4BbgAggE/i8\n/u2xwAigOxBYv09h/XvvA7/SWvsDCcCSFgxbiAa52TsAIWxgCjBda70ZQCn1Z6BIKRUL1AL+QE9g\ng9Z692nH1QK9lVLbtNZFQFGLRi1EA6RFLZxRJKYVDYDWuhzTao7SWi8B3gCmAXlKqXeVUgH1u94I\nTAAylVLLlVJDWjhuIc5JErVwRoeBTideKKV8gRAgB0BrPVVr3R/ojekCeax++09a6+uA9sAcYFYL\nxy3EOUmiFs7AXSnldeILmAnco5RKVkp5An8H1mutDyqlBiilBiml3IEKoAqwKqU8lFJTlFKBWuta\noBSw2u2KhDiNJGrhDOYDlad9jQKeAr4EjgBdgFvr9w0A3sP0P2diukT+Wf/eL4CDSqlS4EFMX7cQ\ndqdk4QAhhHBs0qIWQggHJ4laCCEcnCRqIYRwcJKohRDCwdlkZmJoaKiOjY21xamFEMIpbdq0qUBr\nHXau92ySqGNjY9m4caMtTi2EEE5JKZXZ0HvS9SGEEA5OErUQQjg4SdRCCOHgWqzMaW1tLdnZ2VRV\nVbXURzodLy8voqOjcXd3t3coQogW1GKJOjs7G39/f2JjY1FKtdTHOg2tNYWFhWRnZxMXF2fvcIQQ\nLajFuj6qqqoICQmRJH2JlFKEhITI/0iEaINatI9aknTTyO9PiLZJHiYKIURzyNoAq6fa5NSNStRK\nqYP1qzVvVUq1ypksxcXFvPnmm5d07IQJEyguLm70/n/5y194+eWXL+mzhBCt0IGV8PH1sOkDqC5r\n9tNfTIv6cq11stY6pdmjaAHnS9R1dXXnPXb+/PkEBQXZIiwhRGuXthhm3ARBHeGe78HTv9k/os10\nfTzxxBPs37+f5ORkHnvsMZYtW8bw4cO59tpr6d27NwDXX389/fv3Jz4+nnfffffksbGxsRQUFHDw\n4EF69erF/fffT3x8PGPHjqWysvK8n7t161YGDx5MUlISkyZNoqjILGw9depUevfuTVJSErfeahYf\nWb58OcnJySQnJ9O3b1/Kypr/L7MQohntWwgzb4XQbnD3PPDvYJOPaezwPA38oJTSwDta63cvdMD5\nPPvdTnYdLm3KKc7SOzKAZ66Jb/D9F198kdTUVLZu3QrAsmXL2Lx5M6mpqSeHu02fPp127dpRWVnJ\ngAEDuPHGGwkJCTnjPGlpacycOZP33nuPW265hS+//JI77rijwc+98847ef311xk5ciRPP/00zz77\nLK+++iovvvgiBw4cwNPT82S3yssvv8y0adMYOnQo5eXleHl5NfXXIoSwlZoK+PZhCOsJd30H3sE2\n+6jGtqiHaa37AeOB3yilRvx8B6XUA0qpjUqpjfn5+c0apK0MHDjwjDHJU6dOpU+fPgwePJisrCzS\n0tLOOiYuLo7k5GQA+vfvz8GDBxs8f0lJCcXFxYwcORKAu+66ixUrVgCQlJTElClT+PTTT3FzM38v\nhw4dyh/+8AemTp1KcXHxye1CCAe0dhqU58LEf9k0SUMjW9Ra65z673lKqa+BgcCKn+3zLvAuQEpK\nynkXYjxfy7cl+fr6nvx52bJlLF68mLVr1+Lj48OoUaPOOWbZ09Pz5M+urq4X7PpoyLx581ixYgXf\nffcdzz//PDt27OCJJ55g4sSJzJ8/n6FDh7Jw4UJ69ux5SecXQthQeT6sfg16Xg0xg2z+cRdsUSul\nfJVS/id+BsYCqbYOrLn5+/uft8+3pKSE4OBgfHx82LNnD+vWrWvyZwYGBhIcHMzKlSsB+OSTTxg5\nciRWq5WsrCwuv/xyXnrpJUpKSigvL2f//v0kJiby+OOPM2DAAPbs2dPkGIQQNrDiH1BbCWP+0iIf\n15gWdTjwdf1kCzfgM631AptGZQMhISEMHTqUhIQExo8fz8SJE894f9y4cbz99tv06tWLHj16MHjw\n4Gb53I8++ogHH3yQ48eP07lzZz744AMsFgt33HEHJSUlaK155JFHCAoK4qmnnmLp0qW4uLgQHx/P\n+PHjmyUGIUQzOpYBG6dDvzvNQ8QWoLQ+by/FJUlJSdE/Xzhg9+7d9OrVq9k/q62R36MQdjb7Xtj7\nPTyypVlHeSilNjU0/LnNDM8TQogmy9sNqV/BoAdtNhTvXCRRCyFEYy17ETz84LKHW/RjJVELIURj\n5O6EXXNg0K/Ap12LfrQkaiGEaIzlL4GHPwz5TYt/tCRqIYS4kKOpsOsbGPxgi7emQRK1EEJc2Ip/\ngmcADP61XT5eEvV5+Pn5AXD48GFuuummc+4zatQofj4U8XzbhRB2cCwDXoyBAyvOfq/4EFhqGz62\nohD2zDXjpu3QmgZJ1I0SGRnJ7Nmz7R2GEOJS7fwaqkpg1atnbj+WAVP7wdo3Gj5219dgrYOkybaN\n8TzaTKJ+4oknmDZt2snXJ4r7l5eXM3r0aPr160diYiLffPPNWccePHiQhIQEACorK7n11lvp1asX\nkyZNalStj5kzZ5KYmEhCQgKPP/44ABaLhbvvvpuEhAQSExN55ZVXgHOXPxVCNNGe+eb7/h8hf9+p\n7Sv/DdZa2D234WO3f2Eq5HVItG2M52Gf8mzfPwFHdzTvOTskwvgXG3x78uTJPProo/zmN+aJ7axZ\ns1i4cCFeXl58/fXXBAQEUFBQwODBg7n22msbXJ/wrbfewsfHh927d7N9+3b69et33rAOHz7M448/\nzqZNmwgODmbs2LHMmTOHjh07kpOTQ2qqKZtyotTpucqfCiGaoOwo5Gw0k1Q2TocN75iKd8VZsG0m\neAVCziaoKADf0DOPLcqErHVwxVNgxzVL20yLum/fvuTl5XH48GG2bdtGcHAwHTt2RGvNk08+SVJS\nEmPGjCEnJ4fc3NwGz7NixYqT9aeTkpJISko67+f+9NNPjBo1irCwMNzc3JgyZQorVqygc+fOZGRk\n8PDDD7NgwQICAgJOnvPn5U+FEE2wt7413e8uSLgJts6EymJT/Q4F170JaEhbdPaxO74w3xNvbqlo\nz8k+meA8LV9buvnmm5k9ezZHjx5l8mTT3zRjxgzy8/PZtGkT7u7uxMbGnrO8aXMLDg5m27ZtLFy4\nkLfffptZs2Yxffr0c5Y/lYQtRBPsmQ/BsdC+l5mssu0zWPkv2PwxJN8GPSaAXzikLTSvT9DaJOqO\ngyG4k93ChzbUogbT/fH5558ze/Zsbr7Z/IUsKSmhffv2uLu7s3TpUjIzM897jhEjRvDZZ58BkJqa\nyvbt28+7/8CBA1m+fDkFBQVYLBZmzpzJyJEjKSgowGq1cuONN/Lcc8+xefPmBsufCuH01r8Dmz9p\n/vNWl8GB5aZutFIQmQwxQ2DNVPOAcNgfwMUFul0J6UvOHP1xdAfk74GkW5o/rovUpppq8fHxlJWV\nERUVRUREBABTpkzhmmuuITExkZSUlAsW6n/ooYe455576NWrF7169aJ///7n3T8iIoIXX3yRyy+/\nHK01EydO5LrrrmPbtm3cc889WK1WAF544YUGy58K4dS0huX/ADdP6HvHmX3Bh7dCSTb0uvrMYw6t\nM63dCS+fv+84/Uew1JhW8wmDHoRDa013Rrv6FZ66XQVbPoWs9RA7zGzbMQtc3CB+UvNcZxNImdNW\nRn6PwukUHYTX+piff70e2p/WWHp/LORshkd3QIBpXKE1/Ge0eQD463WmS6MhX94P6YvhT2ngWt8u\ntdTBmtegz20QEGm2VZfBS3Ew+CEY+zco3G8+o+NguP3zZr/kc5Eyp0IIx5V9WqMuffGpn8tyIWuD\nGT63/q1T27M2mCQNkLGs4fNaak2/c/dxp5I0mJ+H//FUkgbw9IdOl0HaD+ZzP5kEygXGPtekS2su\nkqiFEPaVvRHcfSCk25mJeu98QEOHJNj4AVSVmu1rXzdD6oJizp+od31jJrn0nNjwPqfrfpXpk/5w\nIlTkw+1fQGjXS72qZtWiidoW3Sxtifz+hFPK/gki+5pEmbkaairM9j1zzWiNa16D6lLY9KGZSbh7\nLqTcC12vhIOrzj39uywX5j8Gkf1Mi7oxul1lvhcdgFs+gejzP39qSS2WqL28vCgsLJRkc4m01hQW\nFuLl5WXvUIRoPnXVcHQ7RPWHrqPNg7+Dq01LOKN+tEZUP4gbAevehDWvmwd8A38FnUdBTfmpbpAT\ntIbvHoHa4zDpnTO7Pc4ntCtc9gjc/CF0G9PMF9o0LTbqIzo6muzsbPLz81vqI52Ol5cX0dHR9g5D\niOZzdIdJztEDIOYycPM207yrS03fdM/60R5Dfwef3mhmFibdah4sxg0HlOn+iDltMeotn8K+BXDV\nCxDW/eLiGfu35rqyZtViidrd3Z24uLiW+jghhCOqqwFX91ND6k48SIxOAXcvMzQufTGU54JvGHQc\naN7vMhrCEyA39VThfu9g02WSsQxGPWG2FR+CBX+G2OFmGJ6TkIeJQoiWcWg9/KsHLHji1Lbsn8A/\n8tQIjK5joDDdzCbsMQFcXM12peDqV2Ds8xBxWtmGzqPMOarLwGqFrx8y26+bZiayOAnnuRIhhOPa\nMx8+vtYk1A3vmtW8wRRLij5t6HDX+r5hS/Wpbo8TOg6Ey3575rbOo8wMw8w1sG4aZK4yJSrsPOW7\nuUmiFkLY1qaP4L9ToH1veGiNWXdw0dOmWl3RwTMTdUgXCOpk9uk88sLn7jgI3LxM8v/xr9BjIiRP\nsdml2EubmkIuhGhh+ftg7qPQ+XKY/Al4+MKIP8Gip0xhJDAPEk9QCkY/bVrebp4XPr+7l6ndkb7Y\n9Glf85pdy5HairSohRC2s/wlM5LjhndNkgYY+ICZrLLuTVCuEJF85jGJN0HKPY3/jK6jzfdrpoJf\nWPPE7WAkUQshbCN/L6R+CQPvP7Mgv7sXjH7G/BweDx4+TfucAffD/Uug54QL79tKSdeHEMI2lr9k\npoZf9sjZ7yXcaNYxPH3886Vy9zITZpyYJGohhKG1+WqOYW15eyD1Kxj2KPiGnP2+UnDrjKZ/Thsh\nXR9CCGPdm/DvnnBkW9PPteIfpk96yMNNP5eQRC2EwLSkN7xnZgR+dA0c3tLwvieKJjWkJMe0pgfe\nf+7WtLhokqiFEKY4f9EBGPE/poToR9dB9qaz99v8Cfw9Cj6YCNtnQW3l2fucKE/a53abh91WSKIW\nQkDqbHD1MHU07p4HPsHwyfVm2vcJR7bBvD9Ch0QozYGv7odX4qEg7cxz7ZkHIV0vviCSaJAkaiHa\nOqvFdFV0vRK8g8wY57vnmwkkn0yCAyuhshhm3QU+IfCLr+HhzXDnN6YbZN1pq69UlZga0T2cd6ic\nPUiiFqKty1wN5UfNRJMTAqPgnu9N0p5xE8y4GUqy4OYPzJhoFxdTZyN+kukCqS43x6Utqi9P2shV\nVUSjNDpRK6VclVJblFJzbRmQEKKF7fgCPPzOXgnFP9x0g4R2g+wNMObZs8c9978HaspM1wmYbg+f\n0DOnhYsmu5gW9e+A3bYKRAhhB3U1sOtb01VxrhmCviEmWd/231N1oE/XcaAptrTxA3Ou9MXQY/yp\n8qSiWTQqUSulooGJwH9sG44QokWl/QBVxWd2e/ycVyD0GHfuYkdKmVb1ka1m0dnqUun2sIHGtqhf\nBf4HsDa0g1LqAaXURqXURlluSwgHVlEIq6fC+1fBf+8A3/amut2lSrrFFF5a+nczZbzzqOaKVNS7\nYKJWSl0N5GmtzzGo8hSt9bta6xStdUpYmHNWsBKi1bNa4dMbTJnR2goY9We4bxG4eVz6Ob2DIPFG\nU8C/yxXg7t188QqgcbU+hgLXKqUmAF5AgFLqU631HbYNTQjR7LZ/broprn8bkm9rvvOm/BK2zIDe\n1zffOcVJSmvd+J2VGgX8SWt99fn2S0lJ0Rs3bmxiaEKIZlVTAa/3N+sT/nJx868pWHTQrM7ihIX7\nW4JSapPWOuVc70n1PCHaitVToewI3PyhbRZ+DY5t/nMK4CInvGitl12oNS2EsKPl/4Qds8/eXpID\nq18zE1Saowa0aFHSohbCWeTthqXPAcpMC+8z2WyvLoPvfgfaAmP+YscAxaWSRC2EI9Easn+CyL7g\n6n5xx/70H3D1NKudzHnIjL5o1xm+uAuOZcD4f0j3RCsliVoIR7L9v/D1r0z1uSv/amYMNubhXHUZ\nbPscEm6ACS+bYkqz7zUzBL2C4K7vIHaY7eMXNiFFmYRwJOvfgcAYQMHnt5si/uWNmEC27XOoKTcL\nvXr6wZQvIDoF4kbAgyslSbdykqiFcBTZm+DwZhj6CPx6LUz8F2RtgAWPn/84rU23R0QyRPUz27yD\n4N4FJmH7tbd97MKmJFEL4Sg2vAse/tDnVtM/PeA+GP4HSP0S9i9p+LjM1ZC/xyx9JWOYnZIkaiEc\nQXk+7PwKkm8HT/9T24c+Cu26mJVVaqvOfeyG90w/dMKNLROraHGSqIVwBJs/BEuNaUWfzt3LdIEc\ny4BVr5x9XOYa2P0t9LtTamw4MUnUQtibpQ5+mm4q2J1rncEul0PCTbDq33Bk+6ntlUXw5f1myN3I\n/2mxcEXLk0QthL3tmgNlh2HgAw3vc9XfwbsdfDAeds81DxC/fQTKc+HG98/sLhFORxK1EC0lbRF8\nPsUURzrBUgtLnoP28dD9qoaP9Q+HB5ZCaHf47xSYeavp8hj99KmRHsJpSaIWoiVoDT/8H+yZC4ue\nObV904dQdADGPHPh5asCIuGe+ZA0GfYtMLWfh/zWpmELxyAzE4VoTlaLqatRmgNTZp9KvhlLzRC6\n9r3hp/eg19UQlQLLX4JOQ6Hb2Mad390bJr1jknV0im2q4AmHI3dZiOaiNcz7A2z5xIx73jj91Hvr\n3jJLXt3zPYR0gzm/gWUvQEW+Wd37YsY/KwVdR5u1DEWbIIlaiOagNSx62nRlDPs9xI2EJX+DigIo\nSDOLyA64z8wYnPS2eXi49g3odQ10HGDv6IWDk0QtRHNY/w6smWqWpBr9DEz4p3louPgvsP5tcPWA\nlHvNvtEpMOIxsyDsFU/bNWzROkgftRDNYf1bpq95wsumayKsBwx+CNa8bkqPJt4Cfqct+nz5k3DZ\nwzKsTjSKtKiFaKpjB8x6gb2vO/Ph3sjHwT8CLNUw+MGzj5MkLRpJWtRCNNWB5eZ751Fnbvf0hxve\ng5yN0CGxpaMSTkQStRBNtX+paTmHnmP6d9xw8yVEE0jXhxBNYbWaFnXny6XEqLAZSdRCNMXR7aY4\nUudR9o5EODFJ1EI0RcZS873zKHtGIZycJGohLsbGDyD9x1OvM5aZaeH+4XYLSTg/SdRCNFbqVzD3\nUVO57sAKqK2EzLXSmhY2J6M+hGiMYxmm2FJUfzPj8PMpMOoJM0a68+X2jk44OUnUom2rrbzwElZ1\nNTD7XjOq46YPQLnA+1fCwifBxR06XdYysYo2SxK1aLuKDsIbA+Da183K3yccPwb/GQPWWgjraYr7\nH94Ck2dAcCezz5TZZrWVyGTw9LNL+KLtkEQt2q79S82CsgufNKureAeb7Yv/YpJ4r2ugcD8UppkC\n/b2uPnVshwT49TpwdbdH5KKNkUQt2q7MNeDhb8ZBL3nOrPZ9aD1s/sgk5queN/tpfe7JLIFRLRuv\naLMkUYu2SWvIXA3dxpiC/hvehT63wdzfQ0AUjPrzqX1lxqGwM0nUom0qzjTLZXUaCok3w86v4ePr\noabM9EVLv7NwIDKOWrRNmWvM905DzaorY/9mknT38dBzon1jE+JnpEUt2qbM1ebhYVhP8zppMri4\nmZW9patDOJgLJmqllBewAvCs33+21vqZ8x8lhIPLXAMxl50q9K8UJN5k35iEaEBjuj6qgSu01n2A\nZGCcUmqwbcMSwoZKj5iZhjJRRbQSF2xRa601UF7/0r3+S9syKCFsKnO1+S6JWrQSjXqYqJRyVUpt\nBfKARVrr9efY5wGl1Eal1Mb8/PzmjlOIS1eeDyv+CeV55vWJ8dMdkuwblxCN1KhErbW2aK2TgWhg\noFIq4Rz7vKu1TtFap4SFhZ19EiHsobYKPr/NTGh5czDs+sa0qGMGgas8Sxetw0UNz9NaFwNLgXG2\nCUeIJti/BGb/EvL2mNdam4p32T/B2OchsCPMuhPy90i3h2hVGjPqIwyo1VoXK6W8gSuBl2wemRAX\n4/AW+PwOqK2AXXPgsofBzRu2fw6X/x9c9lsY9CtY+S/Y8B70mGDviIVotMb83y8C+Egp5Yppgc/S\nWs+1bVhCXITiQ/DZZPBpB7f9AGunwapXzHsJN8KIP5mfXd1NDelRT9gvViEuQWNGfWwH+rZALEJc\nvMpimHGz6Yu+8xto3wsmvQV9p0DaIhj5uExgEa2ePE0RrVfhfrPSSuF++MVXJkmfEDvMfAnhBCRR\ni9Zp30L48n5wcYU7ZkPcCHtHJITNSKIWrUt1OSx/Cda8Dh0S4dYZEBRj76iEsClJ1ML+Sg+DZ8D5\nS4tqDalfwg9PQdlh6HcXjH/pwusdCuEEJFEL+zp+zExE8QuHX8w5c9WUnE2wdwHk7oSj26EkCyL6\nwC0fQ8cB9otZiBYmiVrY1+pXoaoUrBb4YBzc+a1J2kv+BuveMiM2QrpC9AAzgiP5dtMvLUQbIola\n2E/pEVj/jqkFPehX8OkNMH0cePjCsf0w4H4Y/TR4Bdg7UiHsSlZ4Efaz4p9grTMTUKL6wd3zzXZr\nHdz1HUx8WZK0EEiLWtjLsQNmte9+d0G7OLMtvDc8vAlcPcDNw77xCeFAJFGLlmephR+fNUtfjXjs\nzPdkUVkhziKJWrScqlLTil73NpRmw/A/QkCEvaMSwuFJohaXprrMzA6Mn3ThURglObD+Ldj0EVSX\nQqdhMPFf0G1sy8QqRCsniVpcmh+egk0fQE059L/73PsUH4KlL8COWWbCSvz1MOS35sGhEKLRJFGL\ni5e/FzZ/bPqYlzwH8TecOTqjutyUGV37hnk94D4Y/GsI7mSfeIVo5WR4nrh4i58Fdx+4dSZU5MOq\nf596L3sjvJECK1+GXtfAbzeaqd6SpIW4ZNKiFhcncw3snQdXPAXdx5rJKmvfhP73QEEazPoF+LWH\nXy6CjgPtHa0QTkEStWg8rU3ftH+k6coAGP0M7PrW1IXO321qQk/5EvzD7RurEE5Euj5E4+36BnI2\nwhX/Cx4+ZltgFAx9BHJ3QMwQM7tQkrQQzUpa1KJxLHXmwWFYT+hz25nvDf8TtO8N3ceBu5d94hPC\niUmiFmerqTDjpP07nNq27TMoTIPJM84eN+3mYYbeCSFsQro+xCmWWvjpP/BaH5jaFzLXmu21VbDs\nRYhKgZ4T7RujEG2QtKiFcWAlzP29aTXHXAYVeWZ17zu/gax1UJoD178lK3oLYQeSqIVZRWXWLyCw\noxkb3WM8lB2BD8bDp5NAuUDnUdB5pL0jFaJNkq6Ptm73XPjvHeZh4H2LoecE02oOiDQ1oT0DoLLI\nFPAXQtiFtKjbgqpSyFgG+3+E/UuhrhpCukBAFOz8CiKS4Y4vwTvozOOCYuDehWZ8dFR/u4QuhHCw\nRJ2WW0ZkkDe+ng4VVuu2fwl8eR8cLwQPf9N94RUIhfshYynEjYSbP2x4JZXAqDMXnBVCtDiHyYhF\nFTXc8OYahncPZdrt/VDy0KpprFaz1NWyF8xswZs/gpjB4Opu78iEEBfJYfqog309+GtKJUt2ZPLm\nsv32Dqd1K0g3DwGX/d3U4rhvMcQNlyQtRCvlMC1qjh/j+h2/pV9QFDf98Ai9Ivy5oqdMRb4olcWm\nFb3+bVPd7prXzJqE8r8TIVo1h2lR49MOdcM7xFgOMc/7GabN/Ib0vHJ7R9V6pC2GNwbA2mmQfLtZ\nJLb/3ZKkhXACjpOoAXpORN3zPSHernysnmL6u69woKDC3lE5jqJMWP5PmD4OFjxpaj/XVsGCP8OM\nG8E3FB5YCte+bkqNCiGcgtJaN/tJU1JS9MaNGy/9BKWHqfxkMt7521mmBtLpF28S17lb8wXY2uTt\ngXl/hMxV5nV4IhTsBUsNuHlDXSUM/BVc+VcpiiREK6WU2qS1Tjnnew6ZqAEsteQv+jf+616mDldq\nEm+nXVxfU72tQ6LzJiRLHbie9uhg91z4+lfg7g2DfmUeDgbFmP7oPfPgwApIuAG6X2W/mIUQTdY6\nE3W9g2mpZH32CAOs2/FStWZjSFczay4gslk+wyHUVplW87bPoEMSdB1tiiStmWomm0z+1LmuVwhx\nhvMl6gv2USulOiqlliqldimldiqlftf8ITYstlsC3X8/n/uiv2FE9Su83/5/0aVH4MOrofRIS4Zi\nOyXZ8ME42PqpaTG7e8OqV02STp5iivFLkhaizbpgi1opFQFEaK03K6X8gU3A9VrrXQ0d05wt6hOs\nVs17KzN4+Ye9DPXcz3vq77gFRqDunGOWhnJxbdkRDhUF4OYJnv7nfr8gHZY+D4e3mKJGysU87Isb\nCV2uMIu9Htlu3t/wrpnWPelt6HW1Ob6qBEpyzGQVGbkhhNNr1q4PpdQ3wBta60UN7WOLRH3CrsOl\n/HXuTmoOrONTzxfxoepEZOAdbBJb+14QHAeuHiaBewZAzCDTt3tCVQkcO2BGR/h1ABcXUxMjN9VM\nr+5yxbmnTtdWmbHKq181D/L63wWDHoSgjqbgftFB2PAebP4Y3LzMArDKFbTVvHd4C3D671xBVD9T\nQjSsh01+Z0IIx9dsiVopFQCuKTIAABQmSURBVAusABK01qU/e+8B4AGAmJiY/pmZmZca7wVprflx\ndx4z5y6gW8kaIvxcGNwpgG6+lbgU7IG83VBdevaBQZ0gPB7y98CxjFPbXdzBJwTKj57a5uphJosM\n+z34hZuyn7mp8MP/QWE6JN5iku/Or83+XvVV5k6cL+UeGPHY2cPkjh8zDwDLjpi+6IikhlvlQog2\no1kStVLKD1gOPK+1/up8+9qyRX26OouVuduPMG1pOml55UQGejE+MYLx8eH0C3fBRVvBWmeK4B9c\nDQdXQv5e03KNTIbQ7qYLo/gQlOdBu84mcfpHwMb3YcunZuVttEnKYFrlV79qHvYBFGfBxukmSQd1\nhMCYs1vvQghxAU1O1Eopd2AusFBr/e8L7d9SifoEq1Xzw65cZm3MYlVaATUWK2H+nozp1Z4re4dz\nWZdQvNxdL3yinyvKhE0fmu6TwI4QGG1W2j6xArcQQjSTJiVqZcrYfQQc01o/2pgPbOlEfbqyqlqW\n7Mnjh525LN+XT3l1HT4erlwV34FrkyMZ3jUUN1fHmpAphBBNTdTDgJXADqD+//88qbWe39Ax9kzU\np6uus7A+4xjfpx5h3vYjlFbV0c7XgxHdQhnZI4zh3cII9fO0d5hCCNG6J7w0l+o6C8v25vP9jiOs\nSCvgWEUNLgpG9wrnriGxDO0aIjWwhRB2c75E7ThlTm3M0810f1wV3wGrVbPzcCnzU4/w35+yWLQr\nly5hvkwe0JHrk6NoH+Ck09OFEK1Sm2lRN6Sq1sL8HUf4dF0mmw8V4+qiGNEtlEn9ormyVzjeHpfw\nEFIIIS6SdH000v78cr7anM1Xm3M4UlJ16iFkn0iGdg3Fw00eQgohbEMS9UWyWjXrDxzjm605zN9h\nHkIGeLkxNr4Dw7qGkhgdSFyILy4u0qcthGgekqiboKbOyqr0fOZtP8oPu45SVlUHgL+nG307BTOk\ncwhDuoSQGBWIqyRuIcQlkkTdTOosVtLzy9meXcK2rGI2HDhGWv1yYV3b+/HU1b0Z2T3MzlEKIVoj\nSdQ2lFdWxcp9Bby+JI2Dhce5omd7Hr6iK4lRgTKxRgjRaJKoW0B1nYUPVx/k9SXplFfX4e/pRkps\nMEO7hnJl73A6hfjaO0QhhAOTRN2CiipqWJlewLqMQtZlFJKRbxbn7RHuz8SkCKYMiiFEZkMKIX5G\nErUdHSo8zqLdufyw8yjrDxzD082Fm/pHc8fgTnRr7yfdI0IIQBK1w0jPK+O9FQf4eksONRYrHm4u\ndAnzo19MEI+O6U6Yv7S0hWirJFE7mLyyKlbsKyAtt4y9uWWsSS/E19OVZ69L4JqkCKk5IkQbJLU+\nHEx7fy9u6h998nVabhmPzd7OIzO38PXmbCYmRTK4czuig6XutRBCErVD6Bbuz5cPXcb7qzJ4a9l+\nlu7NByAy0IueEQF0be9Hzw7+jEvogI+H3DIh2hrp+nAwVqtmX14Z6/YXsjGziPS8cjLyK6ixWGnn\n68H9wztz55BO+HpKwhbCmUgfdStXZ7GyJauY15eks2JfPsE+7lydFMm4hA4MimsnI0eEcAKSqJ3I\nlkNFvLcyg6V78qmstRDs4851yVHcMTiGru1lNXMhWitJ1E6ossbC8n35zN1+mIU7j1Jr0Qzu3I67\nhsRyZe9waWUL0cpIonZyBeXVzNqYxYx1h8gpriQqyJs7h3RiUr8o2vvLajVCtAaSqNsIi1WzaFcu\nH6w+wPoDxwCIjwxgZPcw4iMDCfXzIMzfk+hgH1kEQQgHI+Oo2whXF8W4hA6MS+jA3qNlLN6dy/J9\n+byzIgOL9dQf5Ha+HtzcP5rbBsYQGyrFooRwdNKibgPKq+vILjpOflk1uaXVLNp1lMW787BYNQNi\ng7kqvgNje3cgJkQm2AhhL9L1Ic6SV1rFrI1ZzN1+hD1HywDTTTJ5QEeu6xNFoI+7nSMUom2RRC3O\nK+vYcRbuPMqcrTmk5pTi6ebCVfEdmJDYgRHdw2Q2pBAtQBK1aLTUnBI+/+kQ87Yfoeh4LV7uLozo\nFsaI7mGM6BYm3SNC2IgkanHR6ixWNhw8xoLUo/y4O4+c4koAIgK9iA72JjzAi9gQX24fFENkkLed\noxWi9ZNELZpEa82BggpWpRew5VAxR0oqOVpSRVZRJa5KcfugGH49qgvtA2TMthCXShK1sInsouO8\nsSSdLzZl46oUfWOCGNw5hCFdQhgY2w4XF6mrLURjSaIWNpVZWMGM9YdYu7+Q1MMlaA1xob7cOyyO\nm/pF4+3hau8QhXB4kqhFiymprGXZ3jymrzrAtuwSgnzcGRTXjvjIQOIjAxjaNRQvd0ncQvyczEwU\nLSbQ21Tzu7ZPJD8dLOKz9Zlsyy5h4c5cwMyK/MXgTtw5pJOsxi5EI0mLWrSI8uo6NmcW8fHagyze\nnYenmwvDuobSPzaYlE7tiAj0wsVF4eaiCPH1kOp/os2RFrWwOz9PNzMWu3sY6XllfLw2k9XpBfy4\nJ++sfaOCvPnN5V25qX+0FI8SAmlRCzsrLK9my6Fiio7XYLFqquusfLUlh21ZxUQGejGyRxiVNRYq\naix0CPDixv7R9IkOlJXahdORh4miVdFasyKtgGlL0skoKMfHww0fD1cOFlZQVWule7gfl/doj4eb\nCy5KERXszQ19o6S7RLRqTUrUSqnpwNVAntY6oTEfKIla2EJpVS1ztx1h1sYsUnNKsGjNiX++vSMC\neOGGRPp0DKKmzsqGA8fILjrOdclRMjxQtApNTdQjgHLgY0nUwtForVm48yjPfLuTvLJqBseFsCOn\nhPLqOsCM5/7HTUkMiG0HQG5pFduzS+jfKZh2vh72DF2IMzTpYaLWeoVSKra5gxKiOSilGJcQwdCu\nofzrh32sSMvnmj6RjO7ZHnc3F/5vzg5ueWctExMjOFhYQWpOKQBuLopRPcK4vm8U4+I7SLeJcGiN\n6qOuT9Rzz9eiVko9ADwAEBMT0z8zM7OZQhTi0lVU1/GPBXuY+VMWSVGBXNGrPX2ig1ixL585W3PI\nLa0mPjKAF29IIjE60N7hijasyQ8TG5OoTyddH8LRaK3PGilisWq+Tz3Cs9/torC8mnuGxjFlUAxx\nob4yqkS0OBlHLdq8cyVeVxfF1UmRDO8Wxj8W7OH9VQd4f9UBgnzcSe4YRGyIL2H+nrT39yTEz4NA\nbw+CfNyJDPSWB5SiRUmiFm1eoLc7z09K5L7hndlwoJDNmcVszSpm08EiyuofSp5OKYgN8aVHuD9j\neoczqW8UrlIpUNhQY0Z9zARGAaFALvCM1vr98x0jXR/CWVTWWMgrq6LoeC3Fx2soqazlQEEFe46U\nkXq4hOyiSuIjA3jmmngSowJZlV7A4l25VNVZuDopkpHdw2R2pWgUmfAihA1orfl222Fe+n4Ph0uq\n8HBzoabOir+nG+5uLhyrqCHYxxSpuvuyWGJDfQGoqrUwZ0sO27KL+f2V3WnvLwsuCEnUQthUZY2F\nD9ccJL+smit6tmdgXDuUghX78vlqSw4/7DxKnVUzplc48ZEBzFh/iPyyapSCMD9PXr+tL4M6h9j7\nMoSdSaIWwo7ySqv4ZF0mn67LpOh4LcO7hfLgyC6E+Hnw0KebOXTsOPcP74yrC+zPqyC3rIrkjkGM\n6tGeQXHtpH53GyGJWggHUFVr4VhFzRmLAZdV1fL4l9uZv+Mori6KTiE+hPp6si27mOo6Kx5uLvQI\n96dHB396hPuTEBVIYnQgfp4yDsDZSKIWwoFprcktraadr8fJB49VtRbWZRSyOr2APUfL2HO0jPyy\nasCMOuka5kffmCBSOrWjb0wQSimOllSRW1qFn5cbXcL86BTig7vMuGw1JFEL4QQKy6vZnlPC9qwS\ntmYVsSWrmOLjtQ3u7+aiuKxrKI+O6Ua/mGAAqussLN+bT2lVHcO7hRIuK8c7DEnUQjghrTUZBRVs\nPVSMm6uiQ4AX4QFelFbVkp5Xzt6jZXyxKZtjFTWM6hFGZJA387YfoaTyVHLvHRHAsG6hxEcGEB8Z\nQGyIL64u6qJnZlZU1/HN1sOM6d1eRrFcIknUQrRRFdV1fLw2k3dW7Ke61spV8eFc3zeKMH9Plu/L\nZ9mefLZmFVNjsZ51rI+HK4lRgfSNCaZfTBAD49oR5HN2xcHl+/J58qsd5BRXEuzjzgs3JDIuIaIl\nLs+pSKIWoo2rrrOgNeccQVJTZyU9r5ydh0vIKa48WeO7+HgNW7NL2HW4hFqLRino1SGAlNhgfDzc\ncHNRHCioYN6OI3QJ8+V3Y7rz3ooMduSUcGO/aMYndMDH05UAL3e6h/vLxJ8LkEQthLhkVbUWtmeX\nsC6jkLX7C0nNKaHaYsVi1bi7Kh4Y3pnfXNEVTzdXai1WXv8xjTeWpmM9LbV0CPDi3mGx3DYwBn8v\n95PbtdaUVddxrLyG8ACvc9ZQKa+uO/mgNMTPg54dAlrislucJGohRIvKK60it7SasupaCspr+HzD\nIdbsL8Tf042YEB8qqusor7ZQWll7stulQ4AXr92afHLyT3bRcf781Q5WphWcPK+LgucnJXLbwJiT\n2xbvyuW77Yf55bA4kqKDmhT38Zo6vN1d7VI9URK1EMLudmSX8OGagxQfr8HX0w1fT1cCvT0I8fXA\nz8uNd1dkkFlYwSOju9EhwIvn5u1Ga80vh8URF+ZLuL8X767MYNnefB67qge/HBbH3+fv5uO1mbgo\nsGq4tk8kj13Vg47tfC46vuyi41zz+ioGxrVj2u39WnwxCUnUQgiHV15dx9NzUvlqSw4AQzqH8I+b\nks5IurUWK499sY05Ww8T6udJQXk19w2L49eXd2X6qgO8tzKDWouV+MhABsW147KuIYzq3h6X06ob\nllfX8dGag0xMjDhZf6XOYuW299axLbuEmjort6RE89KNSS3aspZELYRoNeZuP0xFdR039+94RoI9\nwWrVvPD9bubvOMrzkxIY1aP9yfeOlFQyc0MW6zMK2ZJVTE2dleHdQnn55j6EB3iRWVjB/R9vZF9u\nOe18PZh+9wCSOwYx9cc0/r1oH69OTiYjv5ypS9J5cGQXnhjf84zPTsstY8b6Q3i6uXD/iM6E+nk2\n23VLohZCtDlVtRZmb8rmuXm78HZ35f4RnXlneQYA/zuxF28sSSe/rJrfXtGVfy/axzVJEbx6a1+0\n1vzfnFRmrD/EkM4hdArxITzAi58OHmPN/kI8XF2waI2XmwsPjOjCnUM6Eejtfs4/KhdDErUQos1K\nzyvnd59vYefhUnqE+/PenSnEhPiQX1bNvR/+xI6cEqKDvZn/u+EE1I9IsVg1/1iwhzX7CzlSUklB\neQ1RQd5MGRzD5JSOFB2v5eWFe1mw8yhgpvX7ebgRFezNgkdHXFKckqiFEG1adZ2FH3fnMbJ7GL6n\nFbSqqK5j6pI0ru0TSXxkw4sbV9dZcHdxOavVvDWrmA0HCimvqqOsug53VxeenNDrkmKURC2EEA7u\nfIlapgoJIYSDk0QthBAOThK1EEI4OEnUQgjh4CRRCyGEg5NELYQQDk4StRBCODhJ1EII4eBsMuFF\nKZUPZF7i4aFAwQX3ci5t8ZqhbV53W7xmaJvXfbHX3ElrHXauN2ySqJtCKbWxodk5zqotXjO0zetu\ni9cMbfO6m/OapetDCCEcnCRqIYRwcI6YqN+1dwB20BavGdrmdbfFa4a2ed3Nds0O10cthBDiTI7Y\nohZCCHEaSdRCCOHgHCZRK6XGKaX2KqXSlVJP2DseW1FKdVRKLVVK7VJK7VRK/a5+ezul1CKlVFr9\n92B7x9rclFKuSqktSqm59a/jlFLr6+/5f5VSHvaOsbkppYKUUrOVUnuUUruVUkOc/V4rpX5f/287\nVSk1Uynl5Yz3Wik1XSmVp5RKPW3bOe+tMqbWX/92pVS/i/ksh0jUSilXYBowHugN3KaU6m3fqGym\nDvij1ro3MBj4Tf21PgH8qLXuBvxY/9rZ/A7Yfdrrl4BXtNZdgSLgl3aJyrZeAxZorXsCfTDX77T3\nWikVBTwCpGitEwBX4Fac815/CIz72baG7u14oFv91wPAWxf1SVpru38BQ4CFp73+M/Bne8fVQtf+\nDXAlsBeIqN8WAey1d2zNfJ3R9f9wrwDmAgoza8vtXP8GnOELCAQOUP/Q/rTtTnuvgSggC2gHuNXf\n66uc9V4DsUDqhe4t8A5w27n2a8yXQ7SoOXVzT8iu3+bUlFKxQF9gPRCutT5S/9ZRINxOYdnKq8D/\nANb61yFAsda6rv61M97zOCAf+KC+y+c/SilfnPhea61zgJeBQ8ARoATYhPPf6xMaurdNynGOkqjb\nHKWUH/Al8KjWuvT097T5k+s04yaVUlcDeVrrTfaOpYW5Af2At7TWfYEKftbN4YT3Ohi4DvNHKhLw\n5ezugTahOe+toyTqHKDjaa+j67c5JaWUOyZJz9Baf1W/OVcpFVH/fgSQZ6/4bGAocK1S6iDwOab7\n4zUgSCnlVr+PM97zbCBba72+/vVsTOJ25ns9Bjigtc7XWtcCX2Huv7Pf6xMaurdNynGOkqh/ArrV\nPxn2wDx8+NbOMdmEUkoB7wO7tdb/Pu2tb4G76n++C9N37RS01n/WWkdrrWMx93aJ1noKsBS4qX43\np7pmAK31USBLKdWjftNoYBdOfK8xXR6DlVI+9f/WT1yzU9/r0zR0b78F7qwf/TEYKDmti+TC7N0Z\nf1rn+gRgH7Af+F97x2PD6xyG+e/QdmBr/dcETJ/tj0AasBhoZ+9YbXT9o4C59T93BjYA6cAXgKe9\n47PB9SYDG+vv9xwg2NnvNfAssAdIBT4BPJ3xXgMzMf3wtZj/Pf2yoXuLeXg+rT6/7cCMimn0Z8kU\nciGEcHCO0vUhhBCiAZKohRDCwUmiFkIIByeJWgghHJwkaiGEcHCSqIUQwsFJohZCCAf3/7kEq8mL\nAiCUAAAAAElFTkSuQmCC\n",
            "text/plain": [
              "<Figure size 432x288 with 1 Axes>"
            ]
          },
          "metadata": {
            "tags": []
          }
        },
        {
          "output_type": "display_data",
          "data": {
            "image/png": "iVBORw0KGgoAAAANSUhEUgAAAXQAAAEICAYAAABPgw/pAAAABHNCSVQICAgIfAhkiAAAAAlwSFlz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\nRU5ErkJggg==\n",
            "text/plain": [
              "<Figure size 432x288 with 1 Axes>"
            ]
          },
          "metadata": {
            "tags": []
          }
        }
      ]
    }
  ]
}
