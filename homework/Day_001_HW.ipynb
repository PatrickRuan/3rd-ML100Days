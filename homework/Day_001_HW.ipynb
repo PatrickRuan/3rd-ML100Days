{
 "cells": [
  {
   "cell_type": "markdown",
   "metadata": {},
   "source": [
    "# 請完成\n",
    "\n",
    "1.)\n",
    "建立一個 y = w * x + b\n",
    "w =3, b =5\n",
    "x 具有 amplitude 5 的 Guassian Noice\n",
    "\n",
    "2.) def mae, and mse 2 functions\n",
    "\n",
    "3.) 學習 文字區編寫 $ MSE = \\frac{1}{n}\\sum_{i=1}^{n}{(Y_i - \\hat{Y}_i)^2} $"
   ]
  },
  {
   "cell_type": "markdown",
   "metadata": {},
   "source": [
    "# 作業1：\n",
    "\n",
    "#### 請上 Kaggle, 在 Competitions 或 Dataset 中找一組競賽或資料並寫下：\n",
    "\n",
    "\n",
    "\n",
    "    1. 你選的這組資料為何重要\n",
    "\n",
    "    2. 資料從何而來 (tips: 譬如提供者是誰、以什麼方式蒐集)\n",
    "\n",
    "    3. 蒐集而來的資料型態為何\n",
    "\n",
    "    4. 這組資料想解決的問題如何評估\n"
   ]
  },
  {
   "cell_type": "markdown",
   "metadata": {},
   "source": [
    "## My Homework，\n",
    "### 我挑選的是 [Spooky Author Identification](https://www.kaggle.com/c/spooky-author-identification)\n",
    "\n",
    "    1. 有許多個原因讓我挑選這個題目:\n",
    "        有趣、我正好想要學習語義分析等。\n",
    "\n",
    "    2. 資料從何而來 (tips: 譬如提供者是誰、以什麼方式蒐集)\n",
    "        這個是根據公領域的挑選三個作家 (Edgar Allan Poe, Mary Shelley, and HP Lovecraft的詩句、經過 Stanford lab. API 處理短句 \n",
    "\n",
    "    3. 蒐集而來的資料型態為何\n",
    "        \n",
    "\n",
    "    4. 要解決的問題是一個分類問題，所以這組資料的評估方式 CrossEntropy，題目的 submission log 如下，\n",
    "$ logloss=−\\frac{1}{N}\\sum_{i=1}^{N}sum_{j=1}^{M}y_{ij}log(p_{ij}) $\n",
    "\n",
    "where N is the number of observations in the test set, M is the number of class labels (3 classes), log is the natural logarithm, yij is 1 if observation i belongs to class j and 0 otherwise, and pij is the predicted probability that observation i belongs to class j.\n",
    "\n",
    "The submitted probabilities for a given sentences are not required to sum to one because they are rescaled prior to being scored (each row is divided by the row sum). In order to avoid the extremes of the log function, predicted probabilities are replaced with $  max(min(p,1−10^{−15}),10^{−15}) $.\n",
    "    \n"
   ]
  },
  {
   "cell_type": "markdown",
   "metadata": {},
   "source": [
    "# 作業2：\n",
    "\n",
    "### 想像你經營一個自由載客車隊，你希望能透過數據分析以提升業績，請你思考並描述你如何規劃整體的分析/解決方案：\n",
    "    1. 核心問題為何 (tips：如何定義 「提升業績 & 你的假設」)\n",
    "\n",
    "    2. 資料從何而來 (tips：哪些資料可能會對你想問的問題產生影響 & 資料如何蒐集)\n",
    "\n",
    "    3. 蒐集而來的資料型態為何\n",
    "\n",
    "    4. 你要回答的問題，其如何評估 (tips：你的假設如何驗證)"
   ]
  },
  {
   "cell_type": "markdown",
   "metadata": {},
   "source": [
    "# 作業3：\n",
    "\n",
    "## 練習時間\n",
    "#### 請寫一個函式用來計算 Mean Square Error\n",
    "$ MSE = \\frac{1}{n}\\sum_{i=1}^{n}{(Y_i - \\hat{Y}_i)^2} $\n",
    "\n",
    "### Hint: [如何取平方](https://googoodesign.gitbooks.io/-ezpython/unit-1.html)"
   ]
  },
  {
   "cell_type": "markdown",
   "metadata": {},
   "source": [
    "## 練習時間\n",
    "#### 請寫一個函式用來計算 Mean Square Error\n",
    "$ MSE = \\frac{1}{n}\\sum_{i=1}^{n}{(Y_i - \\hat{Y}_i)^2} $\n",
    "\n",
    "### Hint: [如何取平方](https://googoodesign.gitbooks.io/-ezpython/unit-1.html)"
   ]
  },
  {
   "cell_type": "code",
   "execution_count": 2,
   "metadata": {},
   "outputs": [],
   "source": [
    "import numpy as np\n",
    "import matplotlib.pyplot as plt"
   ]
  },
  {
   "cell_type": "code",
   "execution_count": 23,
   "metadata": {},
   "outputs": [],
   "source": [
    "def mean_squared_error(y, y_hat):\n",
    "    sumup=0\n",
    "    \"\"\"\n",
    "    請完成這個 Function 後往下執行\n",
    "    sumup = 0\n",
    "    for i in range(len(y)):\n",
    "        sumup = sumup+(y[i]-y_hat[i])**2\n",
    "        \n",
    "    sumup =(1/len(y))*sumup\n",
    "    \"\"\"\n",
    "    sumup = sum((y-y_hat)**2)/len(y)\n",
    "    return sumup\n"
   ]
  },
  {
   "cell_type": "code",
   "execution_count": 25,
   "metadata": {},
   "outputs": [],
   "source": [
    "def mean_absolute_error(y, y_hat):\n",
    "    sumup =0\n",
    "    '''\n",
    "     for i in range(len(y)):\n",
    "        sumup = sumup + abs(y[i]-y_hat[i])\n",
    "    \n",
    "    sumup =(1/len(y))*sumup\n",
    "    '''\n",
    "    sumup = sum(abs(y-y_hat))/len(y)\n",
    "    return sumup"
   ]
  },
  {
   "cell_type": "code",
   "execution_count": 16,
   "metadata": {
    "scrolled": true
   },
   "outputs": [
    {
     "data": {
      "image/png": "[encoded data removed]",
      "text/plain": [
       "<Figure size 432x288 with 1 Axes>"
      ]
     },
     "metadata": {
      "needs_background": "light"
     },
     "output_type": "display_data"
    },
    {
     "data": {
      "text/plain": [
       "\"\\n'best'         : 0, (only implemented for axes legends)(自适应方式)\\n'upper right'  : 1,\\n'upper left'   : 2,\\n'lower left'   : 3,\\n'lower right'  : 4,\\n'right'        : 5,\\n'center left'  : 6,\\n'center right' : 7,\\n'lower center' : 8,\\n'upper center' : 9,\\n'center'       : 10,\\n\\n\""
      ]
     },
     "execution_count": 16,
     "metadata": {},
     "output_type": "execute_result"
    }
   ],
   "source": [
    "w = 3\n",
    "b = 0.5\n",
    "\n",
    "x_lin = np.linspace(0, 100, 101)\n",
    "\n",
    "y = (x_lin + np.random.randn(101) * 5) * w + b\n",
    "\n",
    "plt.plot(x_lin, y, 'b.', label = 'data points')\n",
    "plt.title(\"Assume we have data points\")\n",
    "plt.legend(loc = 2)\n",
    "plt.show()\n",
    "\n",
    "# plt.legend(loc = n)\n",
    "'''\n",
    "'best'         : 0, (only implemented for axes legends)(自适应方式)\n",
    "'upper right'  : 1,\n",
    "'upper left'   : 2,\n",
    "'lower left'   : 3,\n",
    "'lower right'  : 4,\n",
    "'right'        : 5,\n",
    "'center left'  : 6,\n",
    "'center right' : 7,\n",
    "'lower center' : 8,\n",
    "'upper center' : 9,\n",
    "'center'       : 10,\n",
    "\n",
    "'''"
   ]
  },
  {
   "cell_type": "code",
   "execution_count": 17,
   "metadata": {},
   "outputs": [
    {
     "data": {
      "image/png": "[encoded data removed]",
      "text/plain": [
       "<Figure size 432x288 with 1 Axes>"
      ]
     },
     "metadata": {
      "needs_background": "light"
     },
     "output_type": "display_data"
    }
   ],
   "source": [
    "plt.scatter(x=x_lin, y=y ,label = 'data points')\n",
    "plt.title(\"Assume we have data points\")\n",
    "plt.legend(loc = 2)\n",
    "plt.show()"
   ]
  },
  {
   "cell_type": "code",
   "execution_count": 18,
   "metadata": {},
   "outputs": [
    {
     "data": {
      "image/png": "[encoded data removed]",
      "text/plain": [
       "<Figure size 432x288 with 1 Axes>"
      ]
     },
     "metadata": {
      "needs_background": "light"
     },
     "output_type": "display_data"
    }
   ],
   "source": [
    "y_hat = x_lin * w + b\n",
    "plt.plot(x_lin, y, 'b.', label = 'data')\n",
    "plt.plot(x_lin, y_hat, 'r-', label = 'prediction')\n",
    "plt.title(\"Assume we have data points (And the prediction)\")\n",
    "plt.legend(loc = 2)\n",
    "plt.show()"
   ]
  },
  {
   "cell_type": "code",
   "execution_count": 26,
   "metadata": {},
   "outputs": [
    {
     "name": "stdout",
     "output_type": "stream",
     "text": [
      "The Mean squared error is 235.778\n",
      "The Mean absolute error is 12.737\n"
     ]
    }
   ],
   "source": [
    "# 執行 Function, 確認有沒有正常執行\n",
    "MSE = mean_squared_error(y, y_hat)\n",
    "MAE = mean_absolute_error(y, y_hat)\n",
    "print(\"The Mean squared error is %.3f\" % (MSE))\n",
    "print(\"The Mean absolute error is %.3f\" % (MAE))"
   ]
  }
 ],
 "metadata": {
  "anaconda-cloud": {},
  "kernelspec": {
   "display_name": "Python 3",
   "language": "python",
   "name": "python3"
  },
  "language_info": {
   "codemirror_mode": {
    "name": "ipython",
    "version": 3
   },
   "file_extension": ".py",
   "mimetype": "text/x-python",
   "name": "python",
   "nbconvert_exporter": "python",
   "pygments_lexer": "ipython3",
   "version": "3.6.7"
  }
 },
 "nbformat": 4,
 "nbformat_minor": 1
}
