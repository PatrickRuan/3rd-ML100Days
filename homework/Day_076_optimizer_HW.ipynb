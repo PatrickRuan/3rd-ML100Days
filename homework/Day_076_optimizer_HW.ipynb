{
  "nbformat": 4,
  "nbformat_minor": 0,
  "metadata": {
    "kernelspec": {
      "name": "python3",
      "display_name": "Python 3"
    },
    "language_info": {
      "codemirror_mode": {
        "name": "ipython",
        "version": 3
      },
      "file_extension": ".py",
      "mimetype": "text/x-python",
      "name": "python",
      "nbconvert_exporter": "python",
      "pygments_lexer": "ipython3",
      "version": "3.6.8"
    },
    "colab": {
      "name": "D76-optimizer_HW.ipynb",
      "provenance": [],
      "collapsed_sections": [],
      "include_colab_link": true
    },
    "accelerator": "GPU"
  },
  "cells": [
    {
      "cell_type": "markdown",
      "metadata": {
        "id": "view-in-github",
        "colab_type": "text"
      },
      "source": [
        "<a href=\"https://colab.research.google.com/github/PatrickRuan/3rd-ML100Days/blob/master/homework/D76_optimizer_HW.ipynb\" target=\"_parent\"><img src=\"https://colab.research.google.com/assets/colab-badge.svg\" alt=\"Open In Colab\"/></a>"
      ]
    },
    {
      "cell_type": "markdown",
      "metadata": {
        "id": "E7BP5GG7VO0l",
        "colab_type": "text"
      },
      "source": [
        "# 作業重點:\n",
        "\n",
        "(1)以, Adam, 為例, 調整 batch_size, epoch , 觀察accurancy, loss 的變化\n",
        "\n",
        "(2)以同一模型, 分別驗證 SGD, Adam, Rmsprop 的 accurancy"。
      ]
    },
    {
      "cell_type": "markdown",
      "metadata": {
        "id": "zWoxGv2WVO0q",
        "colab_type": "text"
      },
      "source": [
        "# 作業目標:\n",
        "    \n",
        "    取得各種優化器的運算結果"
      ]
    },
    {
      "cell_type": "code",
      "metadata": {
        "id": "F0bh3Ap5VO0t",
        "colab_type": "code",
        "colab": {
          "base_uri": "https://localhost:8080/",
          "height": 80
        },
        "outputId": "ffac68dd-a42a-40bc-fbe8-87f401aec4e3"
      },
      "source": [
        "from __future__ import print_function\n",
        "import keras\n",
        "from keras.datasets import cifar10\n",
        "from keras.preprocessing.image import ImageDataGenerator\n",
        "from keras.models import Sequential\n",
        "from keras.layers import Dense, Dropout, Activation, Flatten\n",
        "from keras.layers import Conv2D, MaxPooling2D\n",
        "import os\n",
        "from keras import optimizers\n"
      ],
      "execution_count": 1,
      "outputs": [
        {
          "output_type": "stream",
          "text": [
            "Using TensorFlow backend.\n"
          ],
          "name": "stderr"
        },
        {
          "output_type": "display_data",
          "data": {
            "text/html": [
              "<p style=\"color: red;\">\n",
              "The default version of TensorFlow in Colab will soon switch to TensorFlow 2.x.<br>\n",
              "We recommend you <a href=\"https://www.tensorflow.org/guide/migrate\" target=\"_blank\">upgrade</a> now \n",
              "or ensure your notebook will continue to use TensorFlow 1.x via the <code>%tensorflow_version 1.x</code> magic:\n",
              "<a href=\"https://colab.research.google.com/notebooks/tensorflow_version.ipynb\" target=\"_blank\">more info</a>.</p>\n"
            ],
            "text/plain": [
              "<IPython.core.display.HTML object>"
            ]
          },
          "metadata": {
            "tags": []
          }
        }
      ]
    },
    {
      "cell_type": "code",
      "metadata": {
        "id": "ELHzVESsVO05",
        "colab_type": "code",
        "colab": {}
      },
      "source": [
        "#Blas GEMM launch failed , 避免動態分配GPU / CPU, 出現問題\n",
        "import tensorflow as tf\n",
        "gpu_options = tf.GPUOptions(per_process_gpu_memory_fraction=0.333)\n",
        "sess = tf.Session(config=tf.ConfigProto(gpu_options=gpu_options))\n"
      ],
      "execution_count": 0,
      "outputs": []
    },
    {
      "cell_type": "code",
      "metadata": {
        "id": "ckG_DDUtVO0-",
        "colab_type": "code",
        "colab": {}
      },
      "source": [
        "\n",
        "'''\n",
        "   宣告並設定\n",
        "   batch_size：對總的樣本數進行分組，每組包含的樣本數量\n",
        "   epochs ：訓練次數\n",
        "   \n",
        "''' \n",
        "\n",
        "batch_size = 32\n",
        "num_classes = 10\n",
        "epochs = 20\n",
        "data_augmentation = True\n",
        "num_predictions = 20\n",
        "save_dir = os.path.join(os.getcwd(), 'saved_models')\n",
        "model_name = 'keras_cifar10_trained_model.h5'\n"
      ],
      "execution_count": 0,
      "outputs": []
    },
    {
      "cell_type": "code",
      "metadata": {
        "id": "LklkaJ4MVO1D",
        "colab_type": "code",
        "colab": {
          "base_uri": "https://localhost:8080/",
          "height": 102
        },
        "outputId": "47b16b29-c0f5-41cf-8529-9b136188cf5e"
      },
      "source": [
        "\n",
        "# The data, split between train and test sets:\n",
        "(x_train, y_train), (x_test, y_test) = cifar10.load_data()\n",
        "print('x_train shape:', x_train.shape)\n",
        "print(x_train.shape[0], 'train samples')\n",
        "print(x_test.shape[0], 'test samples')\n",
        "\n",
        "# Convert class vectors to binary class matrices.\n",
        "y_train = keras.utils.to_categorical(y_train, num_classes)\n",
        "y_test = keras.utils.to_categorical(y_test, num_classes)"
      ],
      "execution_count": 4,
      "outputs": [
        {
          "output_type": "stream",
          "text": [
            "Downloading data from https://www.cs.toronto.edu/~kriz/cifar-10-python.tar.gz\n",
            "170500096/170498071 [==============================] - 11s 0us/step\n",
            "x_train shape: (50000, 32, 32, 3)\n",
            "50000 train samples\n",
            "10000 test samples\n"
          ],
          "name": "stdout"
        }
      ]
    },
    {
      "cell_type": "code",
      "metadata": {
        "id": "DRvZhz8LVp29",
        "colab_type": "code",
        "colab": {
          "base_uri": "https://localhost:8080/",
          "height": 266
        },
        "outputId": "6d8c6c38-6525-4059-e4e2-1cac67991d3b"
      },
      "source": [
        "import matplotlib.pyplot as plt\n",
        "plt.imshow(x_train[0])\n",
        "plt.show()"
      ],
      "execution_count": 5,
      "outputs": [
        {
          "output_type": "display_data",
          "data": {
            "image/png": "iVBORw0KGgoAAAANSUhEUgAAAPsAAAD5CAYAAADhukOtAAAABHNCSVQICAgIfAhkiAAAAAlwSFlz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\n",
            "text/plain": [
              "<Figure size 432x288 with 1 Axes>"
            ]
          },
          "metadata": {
            "tags": []
          }
        }
      ]
    },
    {
      "cell_type": "code",
      "metadata": {
        "id": "AHJRVDUJVO1J",
        "colab_type": "code",
        "colab": {
          "base_uri": "https://localhost:8080/",
          "height": 258
        },
        "outputId": "1840e7bf-c184-4e63-a03f-dd08cace9da6"
      },
      "source": [
        "#    第一步：選擇模型, 順序模型是多個網絡層的線性堆疊\n",
        " \n",
        "model = Sequential()\n",
        "\n",
        "#   第二步：構建網絡層\n",
        "model.add(Conv2D(32, (3, 3), padding='same',\n",
        "                 input_shape=x_train.shape[1:]))\n",
        "model.add(Activation('relu'))\n",
        "model.add(Conv2D(32, (3, 3)))\n",
        "model.add(Activation('relu'))\n",
        "model.add(MaxPooling2D(pool_size=(2, 2)))\n",
        "model.add(Dropout(0.25))\n",
        "\n",
        "model.add(Conv2D(64, (3, 3), padding='same'))\n",
        "model.add(Activation('relu'))\n",
        "model.add(Conv2D(64, (3, 3)))\n",
        "model.add(Activation('relu'))\n",
        "model.add(MaxPooling2D(pool_size=(2, 2)))\n",
        "model.add(Dropout(0.25))\n",
        "\n",
        "model.add(Flatten())\n",
        "model.add(Dense(512))\n",
        "model.add(Activation('relu'))\n",
        "model.add(Dropout(0.5))\n",
        "\n",
        "model.add(Dense( 10)) # 輸出結果是10個類別，所以維度是10   \n",
        "model.add(Activation('softmax')) # 最後一層用softmax作為激活函數"
      ],
      "execution_count": 6,
      "outputs": [
        {
          "output_type": "stream",
          "text": [
            "WARNING:tensorflow:From /usr/local/lib/python3.6/dist-packages/keras/backend/tensorflow_backend.py:66: The name tf.get_default_graph is deprecated. Please use tf.compat.v1.get_default_graph instead.\n",
            "\n",
            "WARNING:tensorflow:From /usr/local/lib/python3.6/dist-packages/keras/backend/tensorflow_backend.py:541: The name tf.placeholder is deprecated. Please use tf.compat.v1.placeholder instead.\n",
            "\n",
            "WARNING:tensorflow:From /usr/local/lib/python3.6/dist-packages/keras/backend/tensorflow_backend.py:4432: The name tf.random_uniform is deprecated. Please use tf.random.uniform instead.\n",
            "\n",
            "WARNING:tensorflow:From /usr/local/lib/python3.6/dist-packages/keras/backend/tensorflow_backend.py:4267: The name tf.nn.max_pool is deprecated. Please use tf.nn.max_pool2d instead.\n",
            "\n",
            "WARNING:tensorflow:From /usr/local/lib/python3.6/dist-packages/keras/backend/tensorflow_backend.py:148: The name tf.placeholder_with_default is deprecated. Please use tf.compat.v1.placeholder_with_default instead.\n",
            "\n",
            "WARNING:tensorflow:From /usr/local/lib/python3.6/dist-packages/keras/backend/tensorflow_backend.py:3733: calling dropout (from tensorflow.python.ops.nn_ops) with keep_prob is deprecated and will be removed in a future version.\n",
            "Instructions for updating:\n",
            "Please use `rate` instead of `keep_prob`. Rate should be set to `rate = 1 - keep_prob`.\n"
          ],
          "name": "stdout"
        }
      ]
    },
    {
      "cell_type": "code",
      "metadata": {
        "id": "3rGSELc8VO1O",
        "colab_type": "code",
        "colab": {
          "base_uri": "https://localhost:8080/",
          "height": 34
        },
        "outputId": "6c8bce9a-000a-417a-b98a-7a877c9f9063"
      },
      "source": [
        "# 模型建立完成後，統計參數總量\n",
        "print(\"Total Parameters：%d\" % model.count_params())"
      ],
      "execution_count": 7,
      "outputs": [
        {
          "output_type": "stream",
          "text": [
            "Total Parameters：1250858\n"
          ],
          "name": "stdout"
        }
      ]
    },
    {
      "cell_type": "code",
      "metadata": {
        "id": "zLSNeQvCVO1U",
        "colab_type": "code",
        "colab": {
          "base_uri": "https://localhost:8080/",
          "height": 765
        },
        "outputId": "c05c5eae-0086-4d49-c2e4-98ab5c765594"
      },
      "source": [
        "# 輸出模型摘要資訊\n",
        "model.summary()"
      ],
      "execution_count": 8,
      "outputs": [
        {
          "output_type": "stream",
          "text": [
            "Model: \"sequential_1\"\n",
            "_________________________________________________________________\n",
            "Layer (type)                 Output Shape              Param #   \n",
            "=================================================================\n",
            "conv2d_1 (Conv2D)            (None, 32, 32, 32)        896       \n",
            "_________________________________________________________________\n",
            "activation_1 (Activation)    (None, 32, 32, 32)        0         \n",
            "_________________________________________________________________\n",
            "conv2d_2 (Conv2D)            (None, 30, 30, 32)        9248      \n",
            "_________________________________________________________________\n",
            "activation_2 (Activation)    (None, 30, 30, 32)        0         \n",
            "_________________________________________________________________\n",
            "max_pooling2d_1 (MaxPooling2 (None, 15, 15, 32)        0         \n",
            "_________________________________________________________________\n",
            "dropout_1 (Dropout)          (None, 15, 15, 32)        0         \n",
            "_________________________________________________________________\n",
            "conv2d_3 (Conv2D)            (None, 15, 15, 64)        18496     \n",
            "_________________________________________________________________\n",
            "activation_3 (Activation)    (None, 15, 15, 64)        0         \n",
            "_________________________________________________________________\n",
            "conv2d_4 (Conv2D)            (None, 13, 13, 64)        36928     \n",
            "_________________________________________________________________\n",
            "activation_4 (Activation)    (None, 13, 13, 64)        0         \n",
            "_________________________________________________________________\n",
            "max_pooling2d_2 (MaxPooling2 (None, 6, 6, 64)          0         \n",
            "_________________________________________________________________\n",
            "dropout_2 (Dropout)          (None, 6, 6, 64)          0         \n",
            "_________________________________________________________________\n",
            "flatten_1 (Flatten)          (None, 2304)              0         \n",
            "_________________________________________________________________\n",
            "dense_1 (Dense)              (None, 512)               1180160   \n",
            "_________________________________________________________________\n",
            "activation_5 (Activation)    (None, 512)               0         \n",
            "_________________________________________________________________\n",
            "dropout_3 (Dropout)          (None, 512)               0         \n",
            "_________________________________________________________________\n",
            "dense_2 (Dense)              (None, 10)                5130      \n",
            "_________________________________________________________________\n",
            "activation_6 (Activation)    (None, 10)                0         \n",
            "=================================================================\n",
            "Total params: 1,250,858\n",
            "Trainable params: 1,250,858\n",
            "Non-trainable params: 0\n",
            "_________________________________________________________________\n"
          ],
          "name": "stdout"
        }
      ]
    },
    {
      "cell_type": "code",
      "metadata": {
        "id": "2mWHvcAXVO1Z",
        "colab_type": "code",
        "colab": {
          "base_uri": "https://localhost:8080/",
          "height": 105
        },
        "outputId": "5fee3a59-98b9-46dc-88c3-d4b38dba7242"
      },
      "source": [
        "#第三步編譯\n",
        " '''\n",
        " SGD(隨機梯度下降) - Arguments\n",
        "lr: float >= 0. Learning rate.\n",
        "momentum: float >= 0. Parameter that accelerates SGD in the relevant direction and dampens oscillations.\n",
        "decay: float >= 0. Learning rate decay over each update.\n",
        "nesterov: boolean. Whether to apply Nesterov momentum.\n",
        "'''\n",
        "\n",
        "'''\n",
        "RMSprop- Arguments\n",
        "lr: float >= 0. Learning rate.\n",
        "rho: float >= 0.\n",
        "epsilon: float >= 0. Fuzz factor. If None, defaults to K.epsilon().\n",
        "decay: float >= 0. Learning rate decay over each update.\n",
        "'''\n",
        "\n",
        "'''\n",
        "Example:\n",
        "opt = optimizers.SGD(lr=0.01, decay=1e-6, momentum=0.9, nesterov=True)\n",
        "\n",
        "'''\n",
        "opt = optimizers.SGD(lr=0.01, decay=1e-6, momentum=0.9, nesterov=True)\n",
        "model.compile(optimizer = opt, loss = 'categorical_crossentropy', metrics = ['accuracy'])\n"
      ],
      "execution_count": 9,
      "outputs": [
        {
          "output_type": "stream",
          "text": [
            "WARNING:tensorflow:From /usr/local/lib/python3.6/dist-packages/keras/optimizers.py:793: The name tf.train.Optimizer is deprecated. Please use tf.compat.v1.train.Optimizer instead.\n",
            "\n",
            "WARNING:tensorflow:From /usr/local/lib/python3.6/dist-packages/keras/backend/tensorflow_backend.py:3576: The name tf.log is deprecated. Please use tf.math.log instead.\n",
            "\n"
          ],
          "name": "stdout"
        }
      ]
    },
    {
      "cell_type": "code",
      "metadata": {
        "id": "4eApaXbkVO1d",
        "colab_type": "code",
        "colab": {}
      },
      "source": [
        "# 資料正規化\n",
        "x_train = x_train.astype('float32')\n",
        "x_test = x_test.astype('float32')\n",
        "x_train /= 255\n",
        "x_test /= 255\n"
      ],
      "execution_count": 0,
      "outputs": []
    },
    {
      "cell_type": "code",
      "metadata": {
        "id": "1IfZguh-VO1g",
        "colab_type": "code",
        "colab": {
          "base_uri": "https://localhost:8080/",
          "height": 1000
        },
        "outputId": "d3deea41-15cc-4e3c-8c96-b2c5ce6726bf"
      },
      "source": [
        "# 是否要做資料處理\n",
        "if not data_augmentation:\n",
        "    print('Not using data augmentation.')\n",
        "    history=model.fit(x_train, y_train,\n",
        "              batch_size=batch_size,\n",
        "              epochs=epochs,\n",
        "              validation_data=(x_test, y_test),\n",
        "              shuffle=True)\n",
        "else:\n",
        "    print('Using real-time data augmentation.')\n",
        "    print('')\n",
        "        \n",
        "    # This will do preprocessing and realtime data augmentation:\n",
        "    datagen = ImageDataGenerator(\n",
        "        featurewise_center=False,  # set input mean to 0 over the dataset\n",
        "        samplewise_center=False,  # set each sample mean to 0\n",
        "        featurewise_std_normalization=False,  # divide inputs by std of the dataset\n",
        "        samplewise_std_normalization=False,  # divide each input by its std\n",
        "        zca_whitening=False,  # apply ZCA whitening\n",
        "        zca_epsilon=1e-06,  # epsilon for ZCA whitening\n",
        "        rotation_range=0,  # randomly rotate images in the range (degrees, 0 to 180)\n",
        "        # randomly shift images horizontally (fraction of total width)\n",
        "        width_shift_range=0.1,\n",
        "        # randomly shift images vertically (fraction of total height)\n",
        "        height_shift_range=0.1,\n",
        "        shear_range=0.,  # set range for random shear\n",
        "        zoom_range=0.,  # set range for random zoom\n",
        "        channel_shift_range=0.,  # set range for random channel shifts\n",
        "        # set mode for filling points outside the input boundaries\n",
        "        fill_mode='nearest',\n",
        "        cval=0.,  # value used for fill_mode = \"constant\"\n",
        "        horizontal_flip=True,  # randomly flip images\n",
        "        vertical_flip=False,  # randomly flip images\n",
        "        # set rescaling factor (applied before any other transformation)\n",
        "        rescale=None,\n",
        "        # set function that will be applied on each input\n",
        "        preprocessing_function=None,\n",
        "        # image data format, either \"channels_first\" or \"channels_last\"\n",
        "        data_format=None,\n",
        "        # fraction of images reserved for validation (strictly between 0 and 1)\n",
        "        validation_split=0.0)\n",
        "\n",
        "    # Compute quantities required for feature-wise normalization\n",
        "    # (std, mean, and principal components if ZCA whitening is applied).\n",
        "    datagen.fit(x_train)\n",
        "    history=model.fit(x_train, y_train,\n",
        "              batch_size=batch_size,\n",
        "              epochs=epochs,\n",
        "              validation_data=(x_test, y_test),\n",
        "              shuffle=True)   \n",
        "\n",
        "'''\n",
        "   第四步：訓練\n",
        "   .fit的一些參數\n",
        "   batch_size：對總的樣本數進行分組，每組包含的樣本數量\n",
        "   epochs ：訓練次數\n",
        "   shuffle：是否把數據隨機打亂之後再進行訓練\n",
        "   validation_split：拿出百分之多少用來做交叉驗證\n",
        "   verbose：屏顯模式 - 0：不輸出, 1：輸出進度, 2：輸出每次的訓練結果\n",
        "''' \n",
        "    "
      ],
      "execution_count": 11,
      "outputs": [
        {
          "output_type": "stream",
          "text": [
            "Using real-time data augmentation.\n",
            "\n",
            "WARNING:tensorflow:From /usr/local/lib/python3.6/dist-packages/tensorflow_core/python/ops/math_grad.py:1424: where (from tensorflow.python.ops.array_ops) is deprecated and will be removed in a future version.\n",
            "Instructions for updating:\n",
            "Use tf.where in 2.0, which has the same broadcast rule as np.where\n",
            "WARNING:tensorflow:From /usr/local/lib/python3.6/dist-packages/keras/backend/tensorflow_backend.py:1033: The name tf.assign_add is deprecated. Please use tf.compat.v1.assign_add instead.\n",
            "\n",
            "WARNING:tensorflow:From /usr/local/lib/python3.6/dist-packages/keras/backend/tensorflow_backend.py:1020: The name tf.assign is deprecated. Please use tf.compat.v1.assign instead.\n",
            "\n",
            "Train on 50000 samples, validate on 10000 samples\n",
            "Epoch 1/20\n",
            "WARNING:tensorflow:From /usr/local/lib/python3.6/dist-packages/keras/backend/tensorflow_backend.py:190: The name tf.get_default_session is deprecated. Please use tf.compat.v1.get_default_session instead.\n",
            "\n",
            "WARNING:tensorflow:From /usr/local/lib/python3.6/dist-packages/keras/backend/tensorflow_backend.py:207: The name tf.global_variables is deprecated. Please use tf.compat.v1.global_variables instead.\n",
            "\n",
            "WARNING:tensorflow:From /usr/local/lib/python3.6/dist-packages/keras/backend/tensorflow_backend.py:216: The name tf.is_variable_initialized is deprecated. Please use tf.compat.v1.is_variable_initialized instead.\n",
            "\n",
            "WARNING:tensorflow:From /usr/local/lib/python3.6/dist-packages/keras/backend/tensorflow_backend.py:223: The name tf.variables_initializer is deprecated. Please use tf.compat.v1.variables_initializer instead.\n",
            "\n",
            "50000/50000 [==============================] - 25s 499us/step - loss: 1.7284 - acc: 0.3604 - val_loss: 1.3063 - val_acc: 0.5319\n",
            "Epoch 2/20\n",
            "50000/50000 [==============================] - 18s 367us/step - loss: 1.3140 - acc: 0.5257 - val_loss: 1.2437 - val_acc: 0.5542\n",
            "Epoch 3/20\n",
            "50000/50000 [==============================] - 18s 368us/step - loss: 1.1491 - acc: 0.5889 - val_loss: 0.9821 - val_acc: 0.6547\n",
            "Epoch 4/20\n",
            "50000/50000 [==============================] - 18s 368us/step - loss: 1.0392 - acc: 0.6307 - val_loss: 0.9951 - val_acc: 0.6565\n",
            "Epoch 5/20\n",
            "50000/50000 [==============================] - 18s 367us/step - loss: 0.9604 - acc: 0.6626 - val_loss: 0.8270 - val_acc: 0.7137\n",
            "Epoch 6/20\n",
            "50000/50000 [==============================] - 18s 367us/step - loss: 0.9003 - acc: 0.6856 - val_loss: 0.8309 - val_acc: 0.7119\n",
            "Epoch 7/20\n",
            "50000/50000 [==============================] - 18s 370us/step - loss: 0.8553 - acc: 0.6985 - val_loss: 0.8045 - val_acc: 0.7206\n",
            "Epoch 8/20\n",
            "50000/50000 [==============================] - 19s 377us/step - loss: 0.8235 - acc: 0.7101 - val_loss: 0.7828 - val_acc: 0.7266\n",
            "Epoch 9/20\n",
            "50000/50000 [==============================] - 18s 369us/step - loss: 0.7944 - acc: 0.7215 - val_loss: 0.7427 - val_acc: 0.7442\n",
            "Epoch 10/20\n",
            "50000/50000 [==============================] - 18s 366us/step - loss: 0.7685 - acc: 0.7308 - val_loss: 0.7306 - val_acc: 0.7524\n",
            "Epoch 11/20\n",
            "50000/50000 [==============================] - 18s 364us/step - loss: 0.7574 - acc: 0.7340 - val_loss: 0.7152 - val_acc: 0.7540\n",
            "Epoch 12/20\n",
            "50000/50000 [==============================] - 18s 364us/step - loss: 0.7307 - acc: 0.7439 - val_loss: 0.7332 - val_acc: 0.7451\n",
            "Epoch 13/20\n",
            "50000/50000 [==============================] - 18s 361us/step - loss: 0.7132 - acc: 0.7495 - val_loss: 0.7421 - val_acc: 0.7460\n",
            "Epoch 14/20\n",
            "50000/50000 [==============================] - 18s 363us/step - loss: 0.7074 - acc: 0.7524 - val_loss: 0.7101 - val_acc: 0.7601\n",
            "Epoch 15/20\n",
            "50000/50000 [==============================] - 18s 359us/step - loss: 0.6904 - acc: 0.7588 - val_loss: 0.6900 - val_acc: 0.7651\n",
            "Epoch 16/20\n",
            "50000/50000 [==============================] - 18s 360us/step - loss: 0.6748 - acc: 0.7660 - val_loss: 0.7382 - val_acc: 0.7509\n",
            "Epoch 17/20\n",
            "50000/50000 [==============================] - 18s 359us/step - loss: 0.6640 - acc: 0.7689 - val_loss: 0.7326 - val_acc: 0.7519\n",
            "Epoch 18/20\n",
            "50000/50000 [==============================] - 18s 363us/step - loss: 0.6589 - acc: 0.7698 - val_loss: 0.7344 - val_acc: 0.7536\n",
            "Epoch 19/20\n",
            "50000/50000 [==============================] - 18s 361us/step - loss: 0.6532 - acc: 0.7727 - val_loss: 0.7709 - val_acc: 0.7393\n",
            "Epoch 20/20\n",
            "50000/50000 [==============================] - 18s 361us/step - loss: 0.6508 - acc: 0.7761 - val_loss: 0.7096 - val_acc: 0.7555\n"
          ],
          "name": "stdout"
        },
        {
          "output_type": "execute_result",
          "data": {
            "text/plain": [
              "'\\n   第四步：訓練\\n   .fit的一些參數\\n   batch_size：對總的樣本數進行分組，每組包含的樣本數量\\n   epochs ：訓練次數\\n   shuffle：是否把數據隨機打亂之後再進行訓練\\n   validation_split：拿出百分之多少用來做交叉驗證\\n   verbose：屏顯模式 - 0：不輸出, 1：輸出進度, 2：輸出每次的訓練結果\\n'"
            ]
          },
          "metadata": {
            "tags": []
          },
          "execution_count": 11
        }
      ]
    },
    {
      "cell_type": "code",
      "metadata": {
        "id": "OnamQC_RVO1k",
        "colab_type": "code",
        "colab": {
          "base_uri": "https://localhost:8080/",
          "height": 85
        },
        "outputId": "43f70ed7-892f-4748-c0f0-0724d69a1f52"
      },
      "source": [
        "# Save model and weights\n",
        "if not os.path.isdir(save_dir):\n",
        "    os.makedirs(save_dir)\n",
        "model_path = os.path.join(save_dir, model_name)\n",
        "model.save(model_path)\n",
        "print('Saved trained model at %s ' % model_path)\n",
        "\n",
        "# Score trained model.\n",
        "scores = model.evaluate(x_test, y_test, verbose=1)\n",
        "print('Test loss:', scores[0])\n",
        "print('Test accuracy:', scores[1])"
      ],
      "execution_count": 15,
      "outputs": [
        {
          "output_type": "stream",
          "text": [
            "Saved trained model at /content/saved_models/keras_cifar10_trained_model.h5 \n",
            "10000/10000 [==============================] - 1s 146us/step\n",
            "Test loss: 0.7095714996337891\n",
            "Test accuracy: 0.7555\n"
          ],
          "name": "stdout"
        }
      ]
    },
    {
      "cell_type": "code",
      "metadata": {
        "id": "syA2H6BcVO1p",
        "colab_type": "code",
        "colab": {
          "base_uri": "https://localhost:8080/",
          "height": 68
        },
        "outputId": "87434aff-5c48-4036-d663-9848b1422cad"
      },
      "source": [
        "#    第六步：輸出\n",
        "import numpy \n",
        "\n",
        "print ( \" test set \" )\n",
        "scores = model.evaluate(x_test,y_test,batch_size=200,verbose= 0)\n",
        "print ( \"\" )\n",
        "#print ( \" The test loss is %f \" % scores)\n",
        "print ( \" The test loss is %f \", scores)\n",
        "\n",
        "\n",
        "result = model.predict(x_test,batch_size=200,verbose= 0)\n",
        "\n",
        "result_max = numpy.argmax(result, axis = 1 )\n",
        "test_max = numpy.argmax(y_test, axis = 1 )\n",
        "\n",
        "result_bool = numpy.equal(result_max, test_max)\n",
        "true_num = numpy.sum(result_bool)\n"
      ],
      "execution_count": 16,
      "outputs": [
        {
          "output_type": "stream",
          "text": [
            " test set \n",
            "\n",
            " The test loss is %f  [0.7095715081691742, 0.7555000007152557]\n"
          ],
          "name": "stdout"
        }
      ]
    },
    {
      "cell_type": "code",
      "metadata": {
        "id": "yOLU-gyNVO1t",
        "colab_type": "code",
        "colab": {
          "base_uri": "https://localhost:8080/",
          "height": 573
        },
        "outputId": "198e6d75-4e17-4609-a30f-7d82281db26f"
      },
      "source": [
        "import matplotlib.pyplot as plt\n",
        "%matplotlib inline\n",
        "\n",
        "# Plot training & validation accuracy values\n",
        "plt.plot(history.history['acc'])\n",
        "plt.plot(history.history['val_acc'])\n",
        "plt.title('Model accuracy')\n",
        "plt.ylabel('Accuracy')\n",
        "plt.xlabel('Epoch')\n",
        "plt.legend(['Train', 'Valiidation'], loc='upper left')\n",
        "plt.show()\n",
        "\n",
        "# Plot training & validation loss values\n",
        "plt.plot(history.history['loss'])\n",
        "plt.plot(history.history['val_loss'])\n",
        "plt.title('Model loss')\n",
        "plt.ylabel('Loss')\n",
        "plt.xlabel('Epoch')\n",
        "plt.legend(['Train', 'Valiidation'], loc='upper left')\n",
        "plt.show()"
      ],
      "execution_count": 17,
      "outputs": [
        {
          "output_type": "display_data",
          "data": {
            "image/png": "iVBORw0KGgoAAAANSUhEUgAAAYIAAAEWCAYAAABrDZDcAAAABHNCSVQICAgIfAhkiAAAAAlwSFlz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\nnCYCpZQKcpoIlFIqyP0/mVXaH3wdDGUAAAAASUVORK5CYII=\n",
            "text/plain": [
              "<Figure size 432x288 with 1 Axes>"
            ]
          },
          "metadata": {
            "tags": []
          }
        },
        {
          "output_type": "display_data",
          "data": {
            "image/png": "iVBORw0KGgoAAAANSUhEUgAAAYIAAAEWCAYAAABrDZDcAAAABHNCSVQICAgIfAhkiAAAAAlwSFlz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\nAAAAAElFTkSuQmCC\n",
            "text/plain": [
              "<Figure size 432x288 with 1 Axes>"
            ]
          },
          "metadata": {
            "tags": []
          }
        }
      ]
    },
    {
      "cell_type": "code",
      "metadata": {
        "id": "eqhNcFNjVO1x",
        "colab_type": "code",
        "colab": {
          "base_uri": "https://localhost:8080/",
          "height": 390
        },
        "outputId": "79d29fdc-df58-4e95-c43f-366d14c5d561"
      },
      "source": [
        "import pandas as pd\n",
        "import numpy as np\n",
        "Prediction2 = model.predict_classes(x_test)\n",
        "y_test_classes = np.argmax(y_test, axis=1)\n",
        "\n",
        "pd.crosstab(y_test_classes, Prediction2, rownames=['label'], colnames=['predcict'])"
      ],
      "execution_count": 22,
      "outputs": [
        {
          "output_type": "execute_result",
          "data": {
            "text/html": [
              "<div>\n",
              "<style scoped>\n",
              "    .dataframe tbody tr th:only-of-type {\n",
              "        vertical-align: middle;\n",
              "    }\n",
              "\n",
              "    .dataframe tbody tr th {\n",
              "        vertical-align: top;\n",
              "    }\n",
              "\n",
              "    .dataframe thead th {\n",
              "        text-align: right;\n",
              "    }\n",
              "</style>\n",
              "<table border=\"1\" class=\"dataframe\">\n",
              "  <thead>\n",
              "    <tr style=\"text-align: right;\">\n",
              "      <th>predcict</th>\n",
              "      <th>0</th>\n",
              "      <th>1</th>\n",
              "      <th>2</th>\n",
              "      <th>3</th>\n",
              "      <th>4</th>\n",
              "      <th>5</th>\n",
              "      <th>6</th>\n",
              "      <th>7</th>\n",
              "      <th>8</th>\n",
              "      <th>9</th>\n",
              "    </tr>\n",
              "    <tr>\n",
              "      <th>label</th>\n",
              "      <th></th>\n",
              "      <th></th>\n",
              "      <th></th>\n",
              "      <th></th>\n",
              "      <th></th>\n",
              "      <th></th>\n",
              "      <th></th>\n",
              "      <th></th>\n",
              "      <th></th>\n",
              "      <th></th>\n",
              "    </tr>\n",
              "  </thead>\n",
              "  <tbody>\n",
              "    <tr>\n",
              "      <th>0</th>\n",
              "      <td>774</td>\n",
              "      <td>7</td>\n",
              "      <td>24</td>\n",
              "      <td>47</td>\n",
              "      <td>36</td>\n",
              "      <td>5</td>\n",
              "      <td>8</td>\n",
              "      <td>14</td>\n",
              "      <td>47</td>\n",
              "      <td>38</td>\n",
              "    </tr>\n",
              "    <tr>\n",
              "      <th>1</th>\n",
              "      <td>15</td>\n",
              "      <td>872</td>\n",
              "      <td>1</td>\n",
              "      <td>15</td>\n",
              "      <td>4</td>\n",
              "      <td>2</td>\n",
              "      <td>11</td>\n",
              "      <td>4</td>\n",
              "      <td>10</td>\n",
              "      <td>66</td>\n",
              "    </tr>\n",
              "    <tr>\n",
              "      <th>2</th>\n",
              "      <td>64</td>\n",
              "      <td>0</td>\n",
              "      <td>564</td>\n",
              "      <td>91</td>\n",
              "      <td>133</td>\n",
              "      <td>37</td>\n",
              "      <td>76</td>\n",
              "      <td>23</td>\n",
              "      <td>9</td>\n",
              "      <td>3</td>\n",
              "    </tr>\n",
              "    <tr>\n",
              "      <th>3</th>\n",
              "      <td>20</td>\n",
              "      <td>1</td>\n",
              "      <td>47</td>\n",
              "      <td>678</td>\n",
              "      <td>65</td>\n",
              "      <td>63</td>\n",
              "      <td>85</td>\n",
              "      <td>26</td>\n",
              "      <td>6</td>\n",
              "      <td>9</td>\n",
              "    </tr>\n",
              "    <tr>\n",
              "      <th>4</th>\n",
              "      <td>9</td>\n",
              "      <td>0</td>\n",
              "      <td>33</td>\n",
              "      <td>70</td>\n",
              "      <td>772</td>\n",
              "      <td>13</td>\n",
              "      <td>51</td>\n",
              "      <td>44</td>\n",
              "      <td>6</td>\n",
              "      <td>2</td>\n",
              "    </tr>\n",
              "    <tr>\n",
              "      <th>5</th>\n",
              "      <td>6</td>\n",
              "      <td>0</td>\n",
              "      <td>35</td>\n",
              "      <td>254</td>\n",
              "      <td>47</td>\n",
              "      <td>570</td>\n",
              "      <td>30</td>\n",
              "      <td>45</td>\n",
              "      <td>8</td>\n",
              "      <td>5</td>\n",
              "    </tr>\n",
              "    <tr>\n",
              "      <th>6</th>\n",
              "      <td>3</td>\n",
              "      <td>2</td>\n",
              "      <td>24</td>\n",
              "      <td>47</td>\n",
              "      <td>48</td>\n",
              "      <td>6</td>\n",
              "      <td>861</td>\n",
              "      <td>5</td>\n",
              "      <td>3</td>\n",
              "      <td>1</td>\n",
              "    </tr>\n",
              "    <tr>\n",
              "      <th>7</th>\n",
              "      <td>6</td>\n",
              "      <td>0</td>\n",
              "      <td>22</td>\n",
              "      <td>70</td>\n",
              "      <td>44</td>\n",
              "      <td>28</td>\n",
              "      <td>9</td>\n",
              "      <td>807</td>\n",
              "      <td>2</td>\n",
              "      <td>12</td>\n",
              "    </tr>\n",
              "    <tr>\n",
              "      <th>8</th>\n",
              "      <td>59</td>\n",
              "      <td>28</td>\n",
              "      <td>8</td>\n",
              "      <td>34</td>\n",
              "      <td>7</td>\n",
              "      <td>2</td>\n",
              "      <td>7</td>\n",
              "      <td>4</td>\n",
              "      <td>814</td>\n",
              "      <td>37</td>\n",
              "    </tr>\n",
              "    <tr>\n",
              "      <th>9</th>\n",
              "      <td>19</td>\n",
              "      <td>47</td>\n",
              "      <td>5</td>\n",
              "      <td>31</td>\n",
              "      <td>7</td>\n",
              "      <td>3</td>\n",
              "      <td>10</td>\n",
              "      <td>14</td>\n",
              "      <td>21</td>\n",
              "      <td>843</td>\n",
              "    </tr>\n",
              "  </tbody>\n",
              "</table>\n",
              "</div>"
            ],
            "text/plain": [
              "predcict    0    1    2    3    4    5    6    7    8    9\n",
              "label                                                     \n",
              "0         774    7   24   47   36    5    8   14   47   38\n",
              "1          15  872    1   15    4    2   11    4   10   66\n",
              "2          64    0  564   91  133   37   76   23    9    3\n",
              "3          20    1   47  678   65   63   85   26    6    9\n",
              "4           9    0   33   70  772   13   51   44    6    2\n",
              "5           6    0   35  254   47  570   30   45    8    5\n",
              "6           3    2   24   47   48    6  861    5    3    1\n",
              "7           6    0   22   70   44   28    9  807    2   12\n",
              "8          59   28    8   34    7    2    7    4  814   37\n",
              "9          19   47    5   31    7    3   10   14   21  843"
            ]
          },
          "metadata": {
            "tags": []
          },
          "execution_count": 22
        }
      ]
    },
    {
      "cell_type": "code",
      "metadata": {
        "id": "ajLvewuyVO13",
        "colab_type": "code",
        "colab": {}
      },
      "source": [
        ""
      ],
      "execution_count": 0,
      "outputs": []
    }
  ]
}
