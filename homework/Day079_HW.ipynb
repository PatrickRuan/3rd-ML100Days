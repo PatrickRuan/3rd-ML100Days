{
  "nbformat": 4,
  "nbformat_minor": 0,
  "metadata": {
    "kernelspec": {
      "name": "python3",
      "display_name": "Python 3"
    },
    "language_info": {
      "codemirror_mode": {
        "name": "ipython",
        "version": 3
      },
      "file_extension": ".py",
      "mimetype": "text/x-python",
      "name": "python",
      "nbconvert_exporter": "python",
      "pygments_lexer": "ipython3",
      "version": "3.6.5"
    },
    "colab": {
      "name": "Day079_HW.ipynb",
      "provenance": [],
      "collapsed_sections": [],
      "include_colab_link": true
    },
    "accelerator": "GPU"
  },
  "cells": [
    {
      "cell_type": "markdown",
      "metadata": {
        "id": "view-in-github",
        "colab_type": "text"
      },
      "source": [
        "<a href=\"https://colab.research.google.com/github/PatrickRuan/3rd-ML100Days/blob/master/homework/Day079_HW.ipynb\" target=\"_parent\"><img src=\"https://colab.research.google.com/assets/colab-badge.svg\" alt=\"Open In Colab\"/></a>"
      ]
    },
    {
      "cell_type": "markdown",
      "metadata": {
        "id": "oCatTEwVxvpF",
        "colab_type": "text"
      },
      "source": [
        "## Work\n",
        "1. 請比較 SGD optimizer 不同的 momentum 及使用 nesterov 與否的表現"。
      ]
    },
    {
      "cell_type": "code",
      "metadata": {
        "id": "Qm4SM6cKxvpN",
        "colab_type": "code",
        "colab": {
          "base_uri": "https://localhost:8080/",
          "height": 79
        },
        "outputId": "a78528b3-a658-47ae-da7d-c6022de8a61d"
      },
      "source": [
        "import os\n",
        "import keras\n",
        "\n",
        "# 本作業可以不需使用 GPU, 將 GPU 設定為 \"無\" (若想使用可自行開啟)\n",
        "#os.environ[\"CUDA_VISIBLE_DEVICES\"] = \"\""
      ],
      "execution_count": 1,
      "outputs": [
        {
          "output_type": "stream",
          "text": [
            "Using TensorFlow backend.\n"
          ],
          "name": "stderr"
        },
        {
          "output_type": "display_data",
          "data": {
            "text/html": [
              "<p style=\"color: red;\">\n",
              "The default version of TensorFlow in Colab will soon switch to TensorFlow 2.x.<br>\n",
              "We recommend you <a href=\"https://www.tensorflow.org/guide/migrate\" target=\"_blank\">upgrade</a> now \n",
              "or ensure your notebook will continue to use TensorFlow 1.x via the <code>%tensorflow_version 1.x</code> magic:\n",
              "<a href=\"https://colab.research.google.com/notebooks/tensorflow_version.ipynb\" target=\"_blank\">more info</a>.</p>\n"
            ],
            "text/plain": [
              "<IPython.core.display.HTML object>"
            ]
          },
          "metadata": {
            "tags": []
          }
        }
      ]
    },
    {
      "cell_type": "code",
      "metadata": {
        "id": "ESZkUc-kxvpR",
        "colab_type": "code",
        "colab": {
          "base_uri": "https://localhost:8080/",
          "height": 50
        },
        "outputId": "567dc3d8-a0ef-4bc4-a83d-032e5b8da03d"
      },
      "source": [
        "train, test = keras.datasets.cifar10.load_data()"
      ],
      "execution_count": 2,
      "outputs": [
        {
          "output_type": "stream",
          "text": [
            "Downloading data from https://www.cs.toronto.edu/~kriz/cifar-10-python.tar.gz\n",
            "170500096/170498071 [==============================] - 2s 0us/step\n"
          ],
          "name": "stdout"
        }
      ]
    },
    {
      "cell_type": "code",
      "metadata": {
        "id": "i6h8ABxvxvpU",
        "colab_type": "code",
        "colab": {}
      },
      "source": [
        "## 資料前處理\n",
        "def preproc_x(x, flatten=True):\n",
        "    x = x / 255.\n",
        "    if flatten:\n",
        "        x = x.reshape((len(x), -1))\n",
        "    return x\n",
        "\n",
        "def preproc_y(y, num_classes=10):\n",
        "    if y.shape[-1] == 1:\n",
        "        y = keras.utils.to_categorical(y, num_classes)\n",
        "    return y    "
      ],
      "execution_count": 0,
      "outputs": []
    },
    {
      "cell_type": "code",
      "metadata": {
        "id": "UU828ddSxvpg",
        "colab_type": "code",
        "colab": {}
      },
      "source": [
        "x_train, y_train = train\n",
        "x_test, y_test = test\n",
        "\n",
        "# 資料前處理 - X 標準化\n",
        "x_train = preproc_x(x_train)\n",
        "x_test = preproc_x(x_test)\n",
        "\n",
        "# 資料前處理 -Y 轉成 onehot\n",
        "y_train = preproc_y(y_train)\n",
        "y_test = preproc_y(y_test)"
      ],
      "execution_count": 0,
      "outputs": []
    },
    {
      "cell_type": "code",
      "metadata": {
        "id": "lUXQq8QBx_Qu",
        "colab_type": "code",
        "colab": {
          "base_uri": "https://localhost:8080/",
          "height": 34
        },
        "outputId": "2884d0d4-c05d-4394-f59a-eac70dcb00fc"
      },
      "source": [
        "y_train.shape"
      ],
      "execution_count": 5,
      "outputs": [
        {
          "output_type": "execute_result",
          "data": {
            "text/plain": [
              "(50000, 10)"
            ]
          },
          "metadata": {
            "tags": []
          },
          "execution_count": 5
        }
      ]
    },
    {
      "cell_type": "code",
      "metadata": {
        "id": "8whr5nj_xvpi",
        "colab_type": "code",
        "colab": {}
      },
      "source": [
        "from keras.models import Sequential\n",
        "from keras.layers import Dense\n",
        "\n",
        "def build_mlp(input,output):\n",
        "    \"\"\"Code Here\n",
        "    建立你的神經網路\n",
        "    \"\"\"\n",
        "    model = Sequential()\n",
        "    model.add(Dense(256,input_dim = input, activation='relu'))\n",
        "    model.add(Dense(128,activation='relu'))\n",
        "    model.add(Dense(64, activation='relu'))\n",
        "    model.add(Dense(output, activation='softmax'))\n",
        "    return model"
      ],
      "execution_count": 0,
      "outputs": []
    },
    {
      "cell_type": "code",
      "metadata": {
        "id": "n4mddSQfxvpl",
        "colab_type": "code",
        "colab": {}
      },
      "source": [
        "\"\"\"Code Here\n",
        "設定超參數\n",
        "\"\"\"\n",
        "LR =[1e-4, 1e-3, 5e-3, 1e-2,5e-2,1e-1,5e-1]\n",
        "epochs = 10\n",
        "batch_size =256\n"
      ],
      "execution_count": 0,
      "outputs": []
    },
    {
      "cell_type": "code",
      "metadata": {
        "scrolled": true,
        "id": "mZCoDj4lxvpv",
        "colab_type": "code",
        "colab": {
          "base_uri": "https://localhost:8080/",
          "height": 1000
        },
        "outputId": "b2e7f6b5-9980-4c78-e84f-4bff51c151c4"
      },
      "source": [
        "results = {}\n",
        "\"\"\"Code Here\n",
        "撰寫你的訓練流程並將結果用 dictionary 紀錄\n",
        "\"\"\"\n",
        "from keras.optimizers import Adam\n",
        "results = {}\n",
        "for lr in LR:\n",
        "    model = build_mlp(x_train.shape[1], y_train.shape[1])\n",
        "    model.summary()\n",
        "    model.compile(loss=\"categorical_crossentropy\", optimizer=Adam(lr=lr), metrics=[\"accuracy\"])\n",
        "    model.fit(x_train, y_train, \n",
        "              epochs=epochs, \n",
        "              batch_size=batch_size, \n",
        "              validation_split=0.2, \n",
        "              shuffle=True)\n",
        "    \n",
        "    # Collect results\n",
        "    train_loss = model.history.history[\"loss\"]\n",
        "    valid_loss = model.history.history[\"val_loss\"]\n",
        "    train_acc = model.history.history[\"acc\"]\n",
        "    valid_acc = model.history.history[\"val_acc\"]\n",
        "    \n",
        "    \n",
        "    results[lr] = {'train-loss': train_loss,'valid-loss': valid_loss, 'train-acc': train_acc, 'valid-acc': valid_acc}\n"
      ],
      "execution_count": 17,
      "outputs": [
        {
          "output_type": "stream",
          "text": [
            "Model: \"sequential_3\"\n",
            "_________________________________________________________________\n",
            "Layer (type)                 Output Shape              Param #   \n",
            "=================================================================\n",
            "dense_5 (Dense)              (None, 256)               786688    \n",
            "_________________________________________________________________\n",
            "dense_6 (Dense)              (None, 128)               32896     \n",
            "_________________________________________________________________\n",
            "dense_7 (Dense)              (None, 64)                8256      \n",
            "_________________________________________________________________\n",
            "dense_8 (Dense)              (None, 10)                650       \n",
            "=================================================================\n",
            "Total params: 828,490\n",
            "Trainable params: 828,490\n",
            "Non-trainable params: 0\n",
            "_________________________________________________________________\n",
            "WARNING:tensorflow:From /usr/local/lib/python3.6/dist-packages/tensorflow_core/python/ops/math_grad.py:1424: where (from tensorflow.python.ops.array_ops) is deprecated and will be removed in a future version.\n",
            "Instructions for updating:\n",
            "Use tf.where in 2.0, which has the same broadcast rule as np.where\n",
            "WARNING:tensorflow:From /usr/local/lib/python3.6/dist-packages/keras/backend/tensorflow_backend.py:1033: The name tf.assign_add is deprecated. Please use tf.compat.v1.assign_add instead.\n",
            "\n",
            "WARNING:tensorflow:From /usr/local/lib/python3.6/dist-packages/keras/backend/tensorflow_backend.py:1020: The name tf.assign is deprecated. Please use tf.compat.v1.assign instead.\n",
            "\n",
            "WARNING:tensorflow:From /usr/local/lib/python3.6/dist-packages/keras/backend/tensorflow_backend.py:3005: The name tf.Session is deprecated. Please use tf.compat.v1.Session instead.\n",
            "\n",
            "Train on 40000 samples, validate on 10000 samples\n",
            "Epoch 1/10\n",
            "WARNING:tensorflow:From /usr/local/lib/python3.6/dist-packages/keras/backend/tensorflow_backend.py:190: The name tf.get_default_session is deprecated. Please use tf.compat.v1.get_default_session instead.\n",
            "\n",
            "WARNING:tensorflow:From /usr/local/lib/python3.6/dist-packages/keras/backend/tensorflow_backend.py:197: The name tf.ConfigProto is deprecated. Please use tf.compat.v1.ConfigProto instead.\n",
            "\n",
            "WARNING:tensorflow:From /usr/local/lib/python3.6/dist-packages/keras/backend/tensorflow_backend.py:207: The name tf.global_variables is deprecated. Please use tf.compat.v1.global_variables instead.\n",
            "\n",
            "WARNING:tensorflow:From /usr/local/lib/python3.6/dist-packages/keras/backend/tensorflow_backend.py:216: The name tf.is_variable_initialized is deprecated. Please use tf.compat.v1.is_variable_initialized instead.\n",
            "\n",
            "WARNING:tensorflow:From /usr/local/lib/python3.6/dist-packages/keras/backend/tensorflow_backend.py:223: The name tf.variables_initializer is deprecated. Please use tf.compat.v1.variables_initializer instead.\n",
            "\n",
            "40000/40000 [==============================] - 7s 171us/step - loss: 2.0054 - acc: 0.2795 - val_loss: 1.8841 - val_acc: 0.3371\n",
            "Epoch 2/10\n",
            "40000/40000 [==============================] - 2s 49us/step - loss: 1.8207 - acc: 0.3599 - val_loss: 1.7849 - val_acc: 0.3789\n",
            "Epoch 3/10\n",
            "40000/40000 [==============================] - 2s 47us/step - loss: 1.7351 - acc: 0.3915 - val_loss: 1.7366 - val_acc: 0.3902\n",
            "Epoch 4/10\n",
            "40000/40000 [==============================] - 2s 47us/step - loss: 1.6778 - acc: 0.4110 - val_loss: 1.7079 - val_acc: 0.3963\n",
            "Epoch 5/10\n",
            "40000/40000 [==============================] - 2s 46us/step - loss: 1.6410 - acc: 0.4194 - val_loss: 1.6636 - val_acc: 0.4132\n",
            "Epoch 6/10\n",
            "40000/40000 [==============================] - 2s 45us/step - loss: 1.5976 - acc: 0.4402 - val_loss: 1.6314 - val_acc: 0.4250\n",
            "Epoch 7/10\n",
            "40000/40000 [==============================] - 2s 47us/step - loss: 1.5725 - acc: 0.4468 - val_loss: 1.6319 - val_acc: 0.4306\n",
            "Epoch 8/10\n",
            "40000/40000 [==============================] - 2s 47us/step - loss: 1.5424 - acc: 0.4586 - val_loss: 1.5989 - val_acc: 0.4348\n",
            "Epoch 9/10\n",
            "40000/40000 [==============================] - 2s 47us/step - loss: 1.5237 - acc: 0.4656 - val_loss: 1.5804 - val_acc: 0.4463\n",
            "Epoch 10/10\n",
            "40000/40000 [==============================] - 2s 47us/step - loss: 1.5013 - acc: 0.4730 - val_loss: 1.5520 - val_acc: 0.4497\n",
            "Model: \"sequential_4\"\n",
            "_________________________________________________________________\n",
            "Layer (type)                 Output Shape              Param #   \n",
            "=================================================================\n",
            "dense_9 (Dense)              (None, 256)               786688    \n",
            "_________________________________________________________________\n",
            "dense_10 (Dense)             (None, 128)               32896     \n",
            "_________________________________________________________________\n",
            "dense_11 (Dense)             (None, 64)                8256      \n",
            "_________________________________________________________________\n",
            "dense_12 (Dense)             (None, 10)                650       \n",
            "=================================================================\n",
            "Total params: 828,490\n",
            "Trainable params: 828,490\n",
            "Non-trainable params: 0\n",
            "_________________________________________________________________\n",
            "Train on 40000 samples, validate on 10000 samples\n",
            "Epoch 1/10\n",
            "40000/40000 [==============================] - 2s 58us/step - loss: 1.9429 - acc: 0.2949 - val_loss: 1.8146 - val_acc: 0.3482\n",
            "Epoch 2/10\n",
            "40000/40000 [==============================] - 2s 48us/step - loss: 1.7444 - acc: 0.3755 - val_loss: 1.8017 - val_acc: 0.3572\n",
            "Epoch 3/10\n",
            "40000/40000 [==============================] - 2s 48us/step - loss: 1.6611 - acc: 0.4083 - val_loss: 1.7128 - val_acc: 0.3886\n",
            "Epoch 4/10\n",
            "40000/40000 [==============================] - 2s 47us/step - loss: 1.6081 - acc: 0.4274 - val_loss: 1.6093 - val_acc: 0.4292\n",
            "Epoch 5/10\n",
            "40000/40000 [==============================] - 2s 47us/step - loss: 1.5612 - acc: 0.4439 - val_loss: 1.6513 - val_acc: 0.4191\n",
            "Epoch 6/10\n",
            "40000/40000 [==============================] - 2s 47us/step - loss: 1.5192 - acc: 0.4596 - val_loss: 1.5696 - val_acc: 0.4487\n",
            "Epoch 7/10\n",
            "40000/40000 [==============================] - 2s 48us/step - loss: 1.4852 - acc: 0.4681 - val_loss: 1.6027 - val_acc: 0.4355\n",
            "Epoch 8/10\n",
            "40000/40000 [==============================] - 2s 48us/step - loss: 1.4642 - acc: 0.4780 - val_loss: 1.5968 - val_acc: 0.4291\n",
            "Epoch 9/10\n",
            "40000/40000 [==============================] - 2s 48us/step - loss: 1.4436 - acc: 0.4836 - val_loss: 1.5445 - val_acc: 0.4616\n",
            "Epoch 10/10\n",
            "40000/40000 [==============================] - 2s 49us/step - loss: 1.4189 - acc: 0.4946 - val_loss: 1.5045 - val_acc: 0.4689\n",
            "Model: \"sequential_5\"\n",
            "_________________________________________________________________\n",
            "Layer (type)                 Output Shape              Param #   \n",
            "=================================================================\n",
            "dense_13 (Dense)             (None, 256)               786688    \n",
            "_________________________________________________________________\n",
            "dense_14 (Dense)             (None, 128)               32896     \n",
            "_________________________________________________________________\n",
            "dense_15 (Dense)             (None, 64)                8256      \n",
            "_________________________________________________________________\n",
            "dense_16 (Dense)             (None, 10)                650       \n",
            "=================================================================\n",
            "Total params: 828,490\n",
            "Trainable params: 828,490\n",
            "Non-trainable params: 0\n",
            "_________________________________________________________________\n",
            "Train on 40000 samples, validate on 10000 samples\n",
            "Epoch 1/10\n",
            "40000/40000 [==============================] - 3s 66us/step - loss: 2.3928 - acc: 0.2255 - val_loss: 1.9511 - val_acc: 0.2908\n",
            "Epoch 2/10\n",
            "40000/40000 [==============================] - 2s 57us/step - loss: 1.8417 - acc: 0.3339 - val_loss: 1.7744 - val_acc: 0.3702\n",
            "Epoch 3/10\n",
            "40000/40000 [==============================] - 2s 58us/step - loss: 1.7451 - acc: 0.3710 - val_loss: 1.7706 - val_acc: 0.3654\n",
            "Epoch 4/10\n",
            "40000/40000 [==============================] - 2s 58us/step - loss: 1.6938 - acc: 0.3904 - val_loss: 1.7064 - val_acc: 0.3975\n",
            "Epoch 5/10\n",
            "40000/40000 [==============================] - 2s 50us/step - loss: 1.6520 - acc: 0.4054 - val_loss: 1.7409 - val_acc: 0.3629\n",
            "Epoch 6/10\n",
            "40000/40000 [==============================] - 2s 50us/step - loss: 1.6286 - acc: 0.4134 - val_loss: 1.6709 - val_acc: 0.3991\n",
            "Epoch 7/10\n",
            "40000/40000 [==============================] - 2s 48us/step - loss: 1.5882 - acc: 0.4276 - val_loss: 1.6497 - val_acc: 0.4101\n",
            "Epoch 8/10\n",
            "40000/40000 [==============================] - 2s 48us/step - loss: 1.5779 - acc: 0.4300 - val_loss: 1.5765 - val_acc: 0.4371\n",
            "Epoch 9/10\n",
            "40000/40000 [==============================] - 2s 50us/step - loss: 1.5552 - acc: 0.4409 - val_loss: 1.6174 - val_acc: 0.4225\n",
            "Epoch 10/10\n",
            "40000/40000 [==============================] - 2s 51us/step - loss: 1.5252 - acc: 0.4520 - val_loss: 1.6836 - val_acc: 0.4014\n",
            "Model: \"sequential_6\"\n",
            "_________________________________________________________________\n",
            "Layer (type)                 Output Shape              Param #   \n",
            "=================================================================\n",
            "dense_17 (Dense)             (None, 256)               786688    \n",
            "_________________________________________________________________\n",
            "dense_18 (Dense)             (None, 128)               32896     \n",
            "_________________________________________________________________\n",
            "dense_19 (Dense)             (None, 64)                8256      \n",
            "_________________________________________________________________\n",
            "dense_20 (Dense)             (None, 10)                650       \n",
            "=================================================================\n",
            "Total params: 828,490\n",
            "Trainable params: 828,490\n",
            "Non-trainable params: 0\n",
            "_________________________________________________________________\n",
            "Train on 40000 samples, validate on 10000 samples\n",
            "Epoch 1/10\n",
            "40000/40000 [==============================] - 3s 74us/step - loss: 14.3840 - acc: 0.0996 - val_loss: 14.4805 - val_acc: 0.1016\n",
            "Epoch 2/10\n",
            "40000/40000 [==============================] - 2s 60us/step - loss: 14.5127 - acc: 0.0996 - val_loss: 14.4805 - val_acc: 0.1016\n",
            "Epoch 3/10\n",
            "40000/40000 [==============================] - 2s 58us/step - loss: 14.5127 - acc: 0.0996 - val_loss: 14.4805 - val_acc: 0.1016\n",
            "Epoch 4/10\n",
            "40000/40000 [==============================] - 2s 52us/step - loss: 14.5127 - acc: 0.0996 - val_loss: 14.4805 - val_acc: 0.1016\n",
            "Epoch 5/10\n",
            "40000/40000 [==============================] - 2s 49us/step - loss: 14.5127 - acc: 0.0996 - val_loss: 14.4805 - val_acc: 0.1016\n",
            "Epoch 6/10\n",
            "40000/40000 [==============================] - 2s 48us/step - loss: 14.5127 - acc: 0.0996 - val_loss: 14.4805 - val_acc: 0.1016\n",
            "Epoch 7/10\n",
            "40000/40000 [==============================] - 2s 48us/step - loss: 14.5127 - acc: 0.0996 - val_loss: 14.4805 - val_acc: 0.1016\n",
            "Epoch 8/10\n",
            "40000/40000 [==============================] - 2s 49us/step - loss: 14.5127 - acc: 0.0996 - val_loss: 14.4805 - val_acc: 0.1016\n",
            "Epoch 9/10\n",
            "40000/40000 [==============================] - 2s 50us/step - loss: 14.5127 - acc: 0.0996 - val_loss: 14.4805 - val_acc: 0.1016\n",
            "Epoch 10/10\n",
            "40000/40000 [==============================] - 2s 49us/step - loss: 14.5127 - acc: 0.0996 - val_loss: 14.4805 - val_acc: 0.1016\n",
            "Model: \"sequential_7\"\n",
            "_________________________________________________________________\n",
            "Layer (type)                 Output Shape              Param #   \n",
            "=================================================================\n",
            "dense_21 (Dense)             (None, 256)               786688    \n",
            "_________________________________________________________________\n",
            "dense_22 (Dense)             (None, 128)               32896     \n",
            "_________________________________________________________________\n",
            "dense_23 (Dense)             (None, 64)                8256      \n",
            "_________________________________________________________________\n",
            "dense_24 (Dense)             (None, 10)                650       \n",
            "=================================================================\n",
            "Total params: 828,490\n",
            "Trainable params: 828,490\n",
            "Non-trainable params: 0\n",
            "_________________________________________________________________\n",
            "Train on 40000 samples, validate on 10000 samples\n",
            "Epoch 1/10\n",
            "40000/40000 [==============================] - 3s 65us/step - loss: 14.4364 - acc: 0.0995 - val_loss: 14.4837 - val_acc: 0.1014\n",
            "Epoch 2/10\n",
            "40000/40000 [==============================] - 2s 49us/step - loss: 14.5119 - acc: 0.0996 - val_loss: 14.4837 - val_acc: 0.1014\n",
            "Epoch 3/10\n",
            "40000/40000 [==============================] - 2s 50us/step - loss: 14.5119 - acc: 0.0996 - val_loss: 14.4837 - val_acc: 0.1014\n",
            "Epoch 4/10\n",
            "40000/40000 [==============================] - 2s 50us/step - loss: 14.5119 - acc: 0.0996 - val_loss: 14.4837 - val_acc: 0.1014\n",
            "Epoch 5/10\n",
            "40000/40000 [==============================] - 2s 50us/step - loss: 14.5119 - acc: 0.0996 - val_loss: 14.4837 - val_acc: 0.1014\n",
            "Epoch 6/10\n",
            "40000/40000 [==============================] - 2s 50us/step - loss: 14.5119 - acc: 0.0996 - val_loss: 14.4837 - val_acc: 0.1014\n",
            "Epoch 7/10\n",
            "40000/40000 [==============================] - 2s 50us/step - loss: 14.5119 - acc: 0.0996 - val_loss: 14.4837 - val_acc: 0.1014\n",
            "Epoch 8/10\n",
            "40000/40000 [==============================] - 2s 50us/step - loss: 14.5119 - acc: 0.0996 - val_loss: 14.4837 - val_acc: 0.1014\n",
            "Epoch 9/10\n",
            "40000/40000 [==============================] - 2s 51us/step - loss: 14.5119 - acc: 0.0996 - val_loss: 14.4837 - val_acc: 0.1014\n",
            "Epoch 10/10\n",
            "40000/40000 [==============================] - 2s 50us/step - loss: 14.5119 - acc: 0.0996 - val_loss: 14.4837 - val_acc: 0.1014\n",
            "Model: \"sequential_8\"\n",
            "_________________________________________________________________\n",
            "Layer (type)                 Output Shape              Param #   \n",
            "=================================================================\n",
            "dense_25 (Dense)             (None, 256)               786688    \n",
            "_________________________________________________________________\n",
            "dense_26 (Dense)             (None, 128)               32896     \n",
            "_________________________________________________________________\n",
            "dense_27 (Dense)             (None, 64)                8256      \n",
            "_________________________________________________________________\n",
            "dense_28 (Dense)             (None, 10)                650       \n",
            "=================================================================\n",
            "Total params: 828,490\n",
            "Trainable params: 828,490\n",
            "Non-trainable params: 0\n",
            "_________________________________________________________________\n",
            "Train on 40000 samples, validate on 10000 samples\n",
            "Epoch 1/10\n",
            "40000/40000 [==============================] - 3s 77us/step - loss: 14.4360 - acc: 0.0997 - val_loss: 14.4837 - val_acc: 0.1014\n",
            "Epoch 2/10\n",
            "40000/40000 [==============================] - 2s 52us/step - loss: 14.5119 - acc: 0.0996 - val_loss: 14.4837 - val_acc: 0.1014\n",
            "Epoch 3/10\n",
            "40000/40000 [==============================] - 2s 52us/step - loss: 14.5119 - acc: 0.0996 - val_loss: 14.4837 - val_acc: 0.1014\n",
            "Epoch 4/10\n",
            "40000/40000 [==============================] - 2s 52us/step - loss: 14.5119 - acc: 0.0996 - val_loss: 14.4837 - val_acc: 0.1014\n",
            "Epoch 5/10\n",
            "40000/40000 [==============================] - 2s 52us/step - loss: 14.5119 - acc: 0.0996 - val_loss: 14.4837 - val_acc: 0.1014\n",
            "Epoch 6/10\n",
            "40000/40000 [==============================] - 2s 51us/step - loss: 14.5119 - acc: 0.0996 - val_loss: 14.4837 - val_acc: 0.1014\n",
            "Epoch 7/10\n",
            "40000/40000 [==============================] - 2s 52us/step - loss: 14.5119 - acc: 0.0996 - val_loss: 14.4837 - val_acc: 0.1014\n",
            "Epoch 8/10\n",
            "40000/40000 [==============================] - 2s 51us/step - loss: 14.5119 - acc: 0.0996 - val_loss: 14.4837 - val_acc: 0.1014\n",
            "Epoch 9/10\n",
            "40000/40000 [==============================] - 2s 51us/step - loss: 14.5119 - acc: 0.0996 - val_loss: 14.4837 - val_acc: 0.1014\n",
            "Epoch 10/10\n",
            "40000/40000 [==============================] - 2s 50us/step - loss: 14.5119 - acc: 0.0996 - val_loss: 14.4837 - val_acc: 0.1014\n",
            "Model: \"sequential_9\"\n",
            "_________________________________________________________________\n",
            "Layer (type)                 Output Shape              Param #   \n",
            "=================================================================\n",
            "dense_29 (Dense)             (None, 256)               786688    \n",
            "_________________________________________________________________\n",
            "dense_30 (Dense)             (None, 128)               32896     \n",
            "_________________________________________________________________\n",
            "dense_31 (Dense)             (None, 64)                8256      \n",
            "_________________________________________________________________\n",
            "dense_32 (Dense)             (None, 10)                650       \n",
            "=================================================================\n",
            "Total params: 828,490\n",
            "Trainable params: 828,490\n",
            "Non-trainable params: 0\n",
            "_________________________________________________________________\n",
            "Train on 40000 samples, validate on 10000 samples\n",
            "Epoch 1/10\n",
            "40000/40000 [==============================] - 3s 74us/step - loss: 14.4198 - acc: 0.1005 - val_loss: 14.5434 - val_acc: 0.0977\n",
            "Epoch 2/10\n",
            "40000/40000 [==============================] - 2s 51us/step - loss: 14.4970 - acc: 0.1006 - val_loss: 14.5434 - val_acc: 0.0977\n",
            "Epoch 3/10\n",
            "40000/40000 [==============================] - 2s 51us/step - loss: 14.4970 - acc: 0.1006 - val_loss: 14.5434 - val_acc: 0.0977\n",
            "Epoch 4/10\n",
            "40000/40000 [==============================] - 2s 52us/step - loss: 14.4970 - acc: 0.1006 - val_loss: 14.5434 - val_acc: 0.0977\n",
            "Epoch 5/10\n",
            "40000/40000 [==============================] - 2s 51us/step - loss: 14.4970 - acc: 0.1006 - val_loss: 14.5434 - val_acc: 0.0977\n",
            "Epoch 6/10\n",
            "40000/40000 [==============================] - 2s 50us/step - loss: 14.4970 - acc: 0.1006 - val_loss: 14.5434 - val_acc: 0.0977\n",
            "Epoch 7/10\n",
            "40000/40000 [==============================] - 2s 50us/step - loss: 14.4970 - acc: 0.1006 - val_loss: 14.5434 - val_acc: 0.0977\n",
            "Epoch 8/10\n",
            "40000/40000 [==============================] - 2s 50us/step - loss: 14.4970 - acc: 0.1006 - val_loss: 14.5434 - val_acc: 0.0977\n",
            "Epoch 9/10\n",
            "40000/40000 [==============================] - 2s 50us/step - loss: 14.4970 - acc: 0.1006 - val_loss: 14.5434 - val_acc: 0.0977\n",
            "Epoch 10/10\n",
            "40000/40000 [==============================] - 2s 51us/step - loss: 14.4970 - acc: 0.1006 - val_loss: 14.5434 - val_acc: 0.0977\n"
          ],
          "name": "stdout"
        }
      ]
    },
    {
      "cell_type": "code",
      "metadata": {
        "id": "aC6jtnpUxvpy",
        "colab_type": "code",
        "colab": {
          "base_uri": "https://localhost:8080/",
          "height": 654
        },
        "outputId": "2aba5662-fa15-4ec7-b020-d0311442e965"
      },
      "source": [
        "import matplotlib.pyplot as plt\n",
        "%matplotlib inline\n",
        "\"\"\"Code Here\n",
        "將結果繪出\n",
        "\"\"\"\n",
        "\n",
        "import matplotlib.pyplot as plt\n",
        "%matplotlib inline \n",
        "    \n",
        "#NUM_COLORS = len(results.keys())\n",
        "#cm = plt.get_cmap('gist_rainbow')\n",
        "#color_bar = [cm(1.*i/NUM_COLORS) for i in range(NUM_COLORS)]\n",
        "\n",
        "#plt.figure(figsize=(8,6))\n",
        "for i, j in enumerate(results.keys()):\n",
        "    plt.plot(range(len(results[j]['train-loss'])),results[j]['train-loss'], '-', label=j)\n",
        "    plt.plot(range(len(results[j]['valid-loss'])),results[j]['valid-loss'], '--', label=j)\n",
        "plt.title(\"Loss vs. Learning Rate\")\n",
        "plt.legend(loc=4)\n",
        "plt.show()\n",
        "\n",
        "plt.figure(figsize=(8,6))\n",
        "for i, j in enumerate(results.keys()):\n",
        "    plt.plot(range(len(results[j]['train-acc'])),results[j]['train-acc'], '-', label=j)\n",
        "    plt.plot(range(len(results[j]['valid-acc'])),results[j]['valid-acc'], '--', label=j)\n",
        "plt.title(\"Accuracy vs. Learning Rate\")\n",
        "plt.legend(loc=4)\n",
        "plt.show()"
      ],
      "execution_count": 49,
      "outputs": [
        {
          "output_type": "display_data",
          "data": {
            "image/png": "iVBORw0KGgoAAAANSUhEUgAAAXAAAAEICAYAAABGaK+TAAAABHNCSVQICAgIfAhkiAAAAAlwSFlz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\nK+DGGJOi/j9Js2cLqHcx6gAAAABJRU5ErkJggg==\n",
            "text/plain": [
              "<Figure size 432x288 with 1 Axes>"
            ]
          },
          "metadata": {
            "tags": []
          }
        },
        {
          "output_type": "display_data",
          "data": {
            "image/png": "iVBORw0KGgoAAAANSUhEUgAAAeoAAAF1CAYAAAAnXamsAAAABHNCSVQICAgIfAhkiAAAAAlwSFlz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\n5kZtZmZWYG7UZmZmBeZGbWZmVmD/AfkLslZCU9U9AAAAAElFTkSuQmCC\n",
            "text/plain": [
              "<Figure size 576x432 with 1 Axes>"
            ]
          },
          "metadata": {
            "tags": []
          }
        }
      ]
    }
  ]
}
