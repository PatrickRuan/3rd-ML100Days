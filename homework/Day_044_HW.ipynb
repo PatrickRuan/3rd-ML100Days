{
  "nbformat": 4,
  "nbformat_minor": 0,
  "metadata": {
    "kernelspec": {
      "display_name": "Python 3",
      "language": "python",
      "name": "python3"
    },
    "language_info": {
      "codemirror_mode": {
        "name": "ipython",
        "version": 3
      },
      "file_extension": ".py",
      "mimetype": "text/x-python",
      "name": "python",
      "nbconvert_exporter": "python",
      "pygments_lexer": "ipython3",
      "version": "3.6.2"
    },
    "colab": {
      "name": "Day_044_HW.ipynb",
      "provenance": [],
      "collapsed_sections": [],
      "include_colab_link": true
    }
  },
  "cells": [
    {
      "cell_type": "markdown",
      "metadata": {
        "id": "view-in-github",
        "colab_type": "text"
      },
      "source": [
        "<a href=\"https://colab.research.google.com/github/PatrickRuan/3rd-ML100Days/blob/master/homework/Day_044_HW.ipynb\" target=\"_parent\"><img src=\"https://colab.research.google.com/assets/colab-badge.svg\" alt=\"Open In Colab\"/></a>"
      ]
    },
    {
      "cell_type": "markdown",
      "metadata": {
        "id": "I7tZXXmImDGG",
        "colab_type": "text"
      },
      "source": [
        "## [作業重點]\n",
        "確保你了解隨機森林模型中每個超參數的意義，並觀察調整超參數對結果的影響"
      ]
    },
    {
      "cell_type": "markdown",
      "metadata": {
        "id": "Jp8FVPCJmDGH",
        "colab_type": "text"
      },
      "source": [
        "## 作業\n",
        "\n",
        "1. 試著調整 RandomForestClassifier(...) 中的參數，並觀察是否會改變結果？\n",
        "2. 改用其他資料集 (boston, wine)，並與回歸模型與決策樹的結果進行比較"
      ]
    },
    {
      "cell_type": "code",
      "metadata": {
        "id": "tn1mJBqnmDGI",
        "colab_type": "code",
        "colab": {}
      },
      "source": [
        "from sklearn.datasets import load_boston, load_wine\n",
        "from sklearn.linear_model import LinearRegression,LogisticRegression\n",
        "from sklearn.model_selection import train_test_split\n",
        "from sklearn.ensemble import RandomForestClassifier, RandomForestRegressor\n",
        "from sklearn.metrics import mean_absolute_error,mean_squared_error,accuracy_score"
      ],
      "execution_count": 0,
      "outputs": []
    },
    {
      "cell_type": "code",
      "metadata": {
        "id": "fG34TRpjmlXv",
        "colab_type": "code",
        "colab": {
          "base_uri": "https://localhost:8080/",
          "height": 34
        },
        "outputId": "8fda8e3e-2f6f-424f-cdb3-7b195c16afcc"
      },
      "source": [
        ""
      ],
      "execution_count": 36,
      "outputs": [
        {
          "output_type": "execute_result",
          "data": {
            "text/plain": [
              "array([25. , 23.2, 20.5, 31.6, 17.6])"
            ]
          },
          "metadata": {
            "tags": []
          },
          "execution_count": 36
        }
      ]
    },
    {
      "cell_type": "code",
      "metadata": {
        "id": "3v7AB9R-nCrU",
        "colab_type": "code",
        "colab": {
          "base_uri": "https://localhost:8080/",
          "height": 51
        },
        "outputId": "9b73658a-c2ba-487d-8618-8c83f7344fc6"
      },
      "source": [
        "data = load_boston()\n",
        "x_train, x_test, y_train, y_test = train_test_split(data.data, data.target, random_state=43, test_size = 0.2)\n",
        "y_train[:5] # array([ 5. , 23.3, 21.7,  8.1, 14.4])  Regression\n",
        "y_test[0:5] # array([25. , 23.2, 20.5, 31.6, 17.6])\n",
        "\n",
        "import warnings\n",
        "warnings.filterwarnings('ignore')\n",
        "model = RandomForestRegressor()\n",
        "model.fit(x_train, y_train)\n",
        "pred = model.predict(x_test)\n",
        "print(f'MSE of RF is, {mean_squared_error(y_test, pred)}')\n",
        "\n",
        "\n",
        "model = LinearRegression()\n",
        "model.fit(x_train, y_train)\n",
        "pred = model.predict(x_test)\n",
        "print(f'MSE of LinearRegression is, {mean_squared_error(y_test, pred)}')\n"
      ],
      "execution_count": 38,
      "outputs": [
        {
          "output_type": "stream",
          "text": [
            "MSE of RF is, 13.828745098039215\n",
            "MSE of LinearRegression is, 22.01861344950045\n"
          ],
          "name": "stdout"
        }
      ]
    },
    {
      "cell_type": "code",
      "metadata": {
        "id": "QoASfzn5ofje",
        "colab_type": "code",
        "colab": {
          "base_uri": "https://localhost:8080/",
          "height": 51
        },
        "outputId": "8f1b75ae-3c29-4dff-b73b-b966eb9fd9b6"
      },
      "source": [
        "data = load_wine()\n",
        "x_train, x_test, y_train, y_test = train_test_split(data.data, data.target, random_state=18, test_size = 0.2)\n",
        "\n",
        "\n",
        "model = RandomForestClassifier()\n",
        "model.fit(x_train, y_train)\n",
        "pred = model.predict(x_test)\n",
        "print(f'accuracy of RF is, {accuracy_score(y_test, pred):8.2%}')\n",
        "\n",
        "\n",
        "model = LogisticRegression()\n",
        "model.fit(x_train, y_train)\n",
        "pred = model.predict(x_test)\n",
        "print(f'accuracy of LogisticRegression is, {accuracy_score(y_test, pred):8.2%}')\n"
      ],
      "execution_count": 39,
      "outputs": [
        {
          "output_type": "stream",
          "text": [
            "accuracy of RF is,   91.67%\n",
            "accuracy of LogisticRegression is,   88.89%\n"
          ],
          "name": "stdout"
        }
      ]
    }
  ]
}