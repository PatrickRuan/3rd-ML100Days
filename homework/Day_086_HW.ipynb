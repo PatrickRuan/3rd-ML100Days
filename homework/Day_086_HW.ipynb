{
  "nbformat": 4,
  "nbformat_minor": 0,
  "metadata": {
    "kernelspec": {
      "name": "python3",
      "display_name": "Python 3"
    },
    "language_info": {
      "codemirror_mode": {
        "name": "ipython",
        "version": 3
      },
      "file_extension": ".py",
      "mimetype": "text/x-python",
      "name": "python",
      "nbconvert_exporter": "python",
      "pygments_lexer": "ipython3",
      "version": "3.6.5"
    },
    "colab": {
      "name": "Day086_HW.ipynb",
      "provenance": [],
      "collapsed_sections": [],
      "include_colab_link": true
    },
    "accelerator": "GPU"
  },
  "cells": [
    {
      "cell_type": "markdown",
      "metadata": {
        "id": "view-in-github",
        "colab_type": "text"
      },
      "source": [
        "<a href=\"https://colab.research.google.com/github/PatrickRuan/3rd-ML100Days/blob/master/homework/Day086_HW.ipynb\" target=\"_parent\"><img src=\"https://colab.research.google.com/assets/colab-badge.svg\" alt=\"Open In Colab\"/></a>"
      ]
    },
    {
      "cell_type": "markdown",
      "metadata": {
        "id": "OdfNgxp2RIM5",
        "colab_type": "text"
      },
      "source": [
        "## Work\n",
        "1. 試比較 save_best_only 與否的差異\n",
        "2. 請僅存入將 save_weights_only 設定為 True, 並嘗試 reset ipynb 並將模型與權重重新建回並預測 x_test"
      ]
    },
    {
      "cell_type": "code",
      "metadata": {
        "id": "Qo8-G_bnRINA",
        "colab_type": "code",
        "colab": {
          "base_uri": "https://localhost:8080/",
          "height": 81
        },
        "outputId": "fb53a424-ff07-45b5-d112-ea14128c4eba"
      },
      "source": [
        "import os\n",
        "import keras\n",
        "\n",
        "# Disable GPU\n",
        "#os.environ[\"CUDA_VISIBLE_DEVICES\"] = \"\""
      ],
      "execution_count": 1,
      "outputs": [
        {
          "output_type": "stream",
          "text": [
            "Using TensorFlow backend.\n"
          ],
          "name": "stderr"
        },
        {
          "output_type": "display_data",
          "data": {
            "text/html": [
              "<p style=\"color: red;\">\n",
              "The default version of TensorFlow in Colab will soon switch to TensorFlow 2.x.<br>\n",
              "We recommend you <a href=\"https://www.tensorflow.org/guide/migrate\" target=\"_blank\">upgrade</a> now \n",
              "or ensure your notebook will continue to use TensorFlow 1.x via the <code>%tensorflow_version 1.x</code> magic:\n",
              "<a href=\"https://colab.research.google.com/notebooks/tensorflow_version.ipynb\" target=\"_blank\">more info</a>.</p>\n"
            ],
            "text/plain": [
              "<IPython.core.display.HTML object>"
            ]
          },
          "metadata": {
            "tags": []
          }
        }
      ]
    },
    {
      "cell_type": "code",
      "metadata": {
        "id": "0iocGC8XRINE",
        "colab_type": "code",
        "colab": {
          "base_uri": "https://localhost:8080/",
          "height": 51
        },
        "outputId": "ba3417b2-cbda-4fc2-86b2-a625fdcb3896"
      },
      "source": [
        "train, test = keras.datasets.cifar10.load_data()"
      ],
      "execution_count": 2,
      "outputs": [
        {
          "output_type": "stream",
          "text": [
            "Downloading data from https://www.cs.toronto.edu/~kriz/cifar-10-python.tar.gz\n",
            "170500096/170498071 [==============================] - 6s 0us/step\n"
          ],
          "name": "stdout"
        }
      ]
    },
    {
      "cell_type": "code",
      "metadata": {
        "id": "0xqXFooXRINJ",
        "colab_type": "code",
        "colab": {}
      },
      "source": [
        "## 資料前處理\n",
        "def preproc_x(x, flatten=True):\n",
        "    x = x / 255.\n",
        "    if flatten:\n",
        "        x = x.reshape((len(x), -1))\n",
        "    return x\n",
        "\n",
        "def preproc_y(y, num_classes=10):\n",
        "    if y.shape[-1] == 1:\n",
        "        y = keras.utils.to_categorical(y, num_classes)\n",
        "    return y    "
      ],
      "execution_count": 0,
      "outputs": []
    },
    {
      "cell_type": "code",
      "metadata": {
        "id": "ECUDYPlERINM",
        "colab_type": "code",
        "colab": {}
      },
      "source": [
        "x_train, y_train = train\n",
        "x_test, y_test = test\n",
        "\n",
        "# Preproc the inputs\n",
        "x_train = preproc_x(x_train)\n",
        "x_test = preproc_x(x_test)\n",
        "\n",
        "# Preprc the outputs\n",
        "y_train = preproc_y(y_train)\n",
        "y_test = preproc_y(y_test)"
      ],
      "execution_count": 0,
      "outputs": []
    },
    {
      "cell_type": "code",
      "metadata": {
        "id": "2JJQ8qj1SDLG",
        "colab_type": "code",
        "colab": {
          "base_uri": "https://localhost:8080/",
          "height": 34
        },
        "outputId": "a3f769f5-c2a6-482b-aed5-a6ea7685fad6"
      },
      "source": [
        "x_train.shape"
      ],
      "execution_count": 5,
      "outputs": [
        {
          "output_type": "execute_result",
          "data": {
            "text/plain": [
              "(50000, 3072)"
            ]
          },
          "metadata": {
            "tags": []
          },
          "execution_count": 5
        }
      ]
    },
    {
      "cell_type": "code",
      "metadata": {
        "id": "zccj6f7gRINP",
        "colab_type": "code",
        "colab": {}
      },
      "source": [
        "\"\"\"Code Here\n",
        "    建立你的神經網路\n",
        "\"\"\"\n",
        "\n",
        "from keras.models import Sequential, Model\n",
        "from keras.layers import Dense\n",
        "def build_mlp(input, output, neurons):\n",
        "  model = Sequential()\n",
        "  j = 0\n",
        "  for n in neurons:\n",
        "    print(n)\n",
        "    j+=1\n",
        "    if j ==1:\n",
        "      model.add(Dense(units=n, input_dim= input.shape[1], activation='relu' ))\n",
        "    else: \n",
        "      model.add(Dense(units=n, activation='relu' ))\n",
        "  model.add(Dense(units=output, activation='softmax'))\n",
        "    \n",
        "  return model"
      ],
      "execution_count": 0,
      "outputs": []
    },
    {
      "cell_type": "code",
      "metadata": {
        "id": "TC1rs4zkRINS",
        "colab_type": "code",
        "colab": {}
      },
      "source": [
        "\"\"\"Code Here\n",
        "設定超參數\n",
        "\"\"\"\n",
        "epochs=100\n",
        "batch_size=256\n"
      ],
      "execution_count": 0,
      "outputs": []
    },
    {
      "cell_type": "code",
      "metadata": {
        "id": "T9CuAAXkRINW",
        "colab_type": "code",
        "colab": {
          "base_uri": "https://localhost:8080/",
          "height": 1000
        },
        "outputId": "cce514eb-580e-4582-e079-b2a71cb4fa12"
      },
      "source": [
        "# 載入 Callbacks\n",
        "\"\"\"Code Here\n",
        "設定 callbacks: model checkpoint\n",
        "\"\"\"\n",
        "from keras.callbacks import ModelCheckpoint\n",
        "mcp = ModelCheckpoint(filepath=\"./tmp.h5\", \n",
        "                             monitor=\"val_loss\", \n",
        "                             save_best_only=True)\n",
        "results = {}\n",
        "\"\"\"Code Here\n",
        "撰寫你的訓練流程並將結果用 dictionary 紀錄\n",
        "\"\"\"\n",
        "model = build_mlp(x_train,len(y_train[0]), [256,128,64])\n",
        "model.compile(loss='categorical_crossentropy', optimizer='adam', metrics=['accuracy'])\n",
        "model.fit(x_train, y_train, epochs = epochs, batch_size= batch_size, validation_data=(x_test, y_test), callbacks=[mcp])\n",
        "\n",
        "\n",
        "# Collect results\n",
        "train_loss = model.history.history[\"loss\"]\n",
        "valid_loss = model.history.history[\"val_loss\"]\n",
        "train_acc = model.history.history[\"acc\"]\n",
        "valid_acc = model.history.history[\"val_acc\"]\n",
        "\n",
        "from keras.models import load_model\n",
        "# Load back\n",
        "cifar = load_model(\"./tmp.h5\")\n",
        "loss_loadback, acc_loadback = cifar.evaluate(x_test, y_test)\n",
        "\n"
      ],
      "execution_count": 29,
      "outputs": [
        {
          "output_type": "stream",
          "text": [
            "256\n",
            "128\n",
            "64\n",
            "Train on 50000 samples, validate on 10000 samples\n",
            "Epoch 1/100\n",
            "50000/50000 [==============================] - 3s 53us/step - loss: 1.9262 - acc: 0.3056 - val_loss: 1.7877 - val_acc: 0.3613\n",
            "Epoch 2/100\n",
            "50000/50000 [==============================] - 2s 42us/step - loss: 1.7417 - acc: 0.3796 - val_loss: 1.7850 - val_acc: 0.3567\n",
            "Epoch 3/100\n",
            "50000/50000 [==============================] - 2s 42us/step - loss: 1.6594 - acc: 0.4072 - val_loss: 1.6010 - val_acc: 0.4321\n",
            "Epoch 4/100\n",
            "50000/50000 [==============================] - 2s 42us/step - loss: 1.6013 - acc: 0.4310 - val_loss: 1.5840 - val_acc: 0.4338\n",
            "Epoch 5/100\n",
            "50000/50000 [==============================] - 2s 42us/step - loss: 1.5550 - acc: 0.4453 - val_loss: 1.5358 - val_acc: 0.4511\n",
            "Epoch 6/100\n",
            "50000/50000 [==============================] - 2s 42us/step - loss: 1.5075 - acc: 0.4630 - val_loss: 1.5516 - val_acc: 0.4443\n",
            "Epoch 7/100\n",
            "50000/50000 [==============================] - 2s 42us/step - loss: 1.4807 - acc: 0.4705 - val_loss: 1.5388 - val_acc: 0.4571\n",
            "Epoch 8/100\n",
            "50000/50000 [==============================] - 2s 41us/step - loss: 1.4579 - acc: 0.4798 - val_loss: 1.4689 - val_acc: 0.4779\n",
            "Epoch 9/100\n",
            "50000/50000 [==============================] - 2s 42us/step - loss: 1.4177 - acc: 0.4948 - val_loss: 1.4759 - val_acc: 0.4730\n",
            "Epoch 10/100\n",
            "50000/50000 [==============================] - 2s 42us/step - loss: 1.4069 - acc: 0.5000 - val_loss: 1.4645 - val_acc: 0.4804\n",
            "Epoch 11/100\n",
            "50000/50000 [==============================] - 2s 42us/step - loss: 1.3807 - acc: 0.5056 - val_loss: 1.4379 - val_acc: 0.4886\n",
            "Epoch 12/100\n",
            "50000/50000 [==============================] - 2s 41us/step - loss: 1.3570 - acc: 0.5161 - val_loss: 1.3994 - val_acc: 0.5027\n",
            "Epoch 13/100\n",
            "50000/50000 [==============================] - 2s 42us/step - loss: 1.3367 - acc: 0.5225 - val_loss: 1.3845 - val_acc: 0.5062\n",
            "Epoch 14/100\n",
            "50000/50000 [==============================] - 2s 41us/step - loss: 1.3182 - acc: 0.5310 - val_loss: 1.4218 - val_acc: 0.4912\n",
            "Epoch 15/100\n",
            "50000/50000 [==============================] - 2s 42us/step - loss: 1.3064 - acc: 0.5355 - val_loss: 1.4156 - val_acc: 0.4958\n",
            "Epoch 16/100\n",
            "50000/50000 [==============================] - 2s 41us/step - loss: 1.2857 - acc: 0.5423 - val_loss: 1.4433 - val_acc: 0.4888\n",
            "Epoch 17/100\n",
            "50000/50000 [==============================] - 2s 41us/step - loss: 1.2676 - acc: 0.5458 - val_loss: 1.3843 - val_acc: 0.5040\n",
            "Epoch 18/100\n",
            "50000/50000 [==============================] - 2s 41us/step - loss: 1.2441 - acc: 0.5576 - val_loss: 1.3515 - val_acc: 0.5208\n",
            "Epoch 19/100\n",
            "50000/50000 [==============================] - 2s 41us/step - loss: 1.2404 - acc: 0.5606 - val_loss: 1.3843 - val_acc: 0.5147\n",
            "Epoch 20/100\n",
            "50000/50000 [==============================] - 2s 40us/step - loss: 1.2328 - acc: 0.5623 - val_loss: 1.3648 - val_acc: 0.5134\n",
            "Epoch 21/100\n",
            "50000/50000 [==============================] - 2s 41us/step - loss: 1.2075 - acc: 0.5692 - val_loss: 1.3695 - val_acc: 0.5186\n",
            "Epoch 22/100\n",
            "50000/50000 [==============================] - 2s 42us/step - loss: 1.2090 - acc: 0.5719 - val_loss: 1.3876 - val_acc: 0.5116\n",
            "Epoch 23/100\n",
            "50000/50000 [==============================] - 2s 41us/step - loss: 1.1815 - acc: 0.5788 - val_loss: 1.3852 - val_acc: 0.5144\n",
            "Epoch 24/100\n",
            "50000/50000 [==============================] - 2s 42us/step - loss: 1.1632 - acc: 0.5845 - val_loss: 1.3647 - val_acc: 0.5211\n",
            "Epoch 25/100\n",
            "50000/50000 [==============================] - 2s 41us/step - loss: 1.1583 - acc: 0.5864 - val_loss: 1.3925 - val_acc: 0.5190\n",
            "Epoch 26/100\n",
            "50000/50000 [==============================] - 2s 41us/step - loss: 1.1454 - acc: 0.5928 - val_loss: 1.3759 - val_acc: 0.5177\n",
            "Epoch 27/100\n",
            "50000/50000 [==============================] - 2s 42us/step - loss: 1.1302 - acc: 0.5986 - val_loss: 1.3697 - val_acc: 0.5191\n",
            "Epoch 28/100\n",
            "50000/50000 [==============================] - 2s 41us/step - loss: 1.1205 - acc: 0.6008 - val_loss: 1.3814 - val_acc: 0.5165\n",
            "Epoch 29/100\n",
            "50000/50000 [==============================] - 2s 41us/step - loss: 1.1190 - acc: 0.6031 - val_loss: 1.3766 - val_acc: 0.5219\n",
            "Epoch 30/100\n",
            "50000/50000 [==============================] - 2s 41us/step - loss: 1.1093 - acc: 0.6045 - val_loss: 1.3808 - val_acc: 0.5205\n",
            "Epoch 31/100\n",
            "50000/50000 [==============================] - 2s 41us/step - loss: 1.0939 - acc: 0.6108 - val_loss: 1.4114 - val_acc: 0.5124\n",
            "Epoch 32/100\n",
            "50000/50000 [==============================] - 2s 41us/step - loss: 1.0856 - acc: 0.6146 - val_loss: 1.3981 - val_acc: 0.5229\n",
            "Epoch 33/100\n",
            "50000/50000 [==============================] - 2s 42us/step - loss: 1.0699 - acc: 0.6186 - val_loss: 1.3984 - val_acc: 0.5178\n",
            "Epoch 34/100\n",
            "50000/50000 [==============================] - 2s 41us/step - loss: 1.0649 - acc: 0.6222 - val_loss: 1.4113 - val_acc: 0.5179\n",
            "Epoch 35/100\n",
            "50000/50000 [==============================] - 2s 42us/step - loss: 1.0578 - acc: 0.6218 - val_loss: 1.4088 - val_acc: 0.5203\n",
            "Epoch 36/100\n",
            "50000/50000 [==============================] - 2s 41us/step - loss: 1.0379 - acc: 0.6299 - val_loss: 1.4197 - val_acc: 0.5139\n",
            "Epoch 37/100\n",
            "50000/50000 [==============================] - 2s 41us/step - loss: 1.0354 - acc: 0.6306 - val_loss: 1.4329 - val_acc: 0.5138\n",
            "Epoch 38/100\n",
            "50000/50000 [==============================] - 2s 41us/step - loss: 1.0219 - acc: 0.6371 - val_loss: 1.4230 - val_acc: 0.5174\n",
            "Epoch 39/100\n",
            "50000/50000 [==============================] - 2s 41us/step - loss: 1.0049 - acc: 0.6401 - val_loss: 1.4052 - val_acc: 0.5166\n",
            "Epoch 40/100\n",
            "50000/50000 [==============================] - 2s 41us/step - loss: 1.0103 - acc: 0.6381 - val_loss: 1.4225 - val_acc: 0.5214\n",
            "Epoch 41/100\n",
            "50000/50000 [==============================] - 2s 40us/step - loss: 1.0007 - acc: 0.6435 - val_loss: 1.4729 - val_acc: 0.5081\n",
            "Epoch 42/100\n",
            "50000/50000 [==============================] - 2s 41us/step - loss: 0.9881 - acc: 0.6464 - val_loss: 1.4259 - val_acc: 0.5178\n",
            "Epoch 43/100\n",
            "50000/50000 [==============================] - 2s 41us/step - loss: 0.9906 - acc: 0.6460 - val_loss: 1.4564 - val_acc: 0.5127\n",
            "Epoch 44/100\n",
            "50000/50000 [==============================] - 2s 41us/step - loss: 0.9808 - acc: 0.6495 - val_loss: 1.4236 - val_acc: 0.5255\n",
            "Epoch 45/100\n",
            "50000/50000 [==============================] - 2s 41us/step - loss: 0.9653 - acc: 0.6565 - val_loss: 1.4564 - val_acc: 0.5162\n",
            "Epoch 46/100\n",
            "50000/50000 [==============================] - 2s 41us/step - loss: 0.9610 - acc: 0.6549 - val_loss: 1.4453 - val_acc: 0.5156\n",
            "Epoch 47/100\n",
            "50000/50000 [==============================] - 2s 41us/step - loss: 0.9472 - acc: 0.6616 - val_loss: 1.4418 - val_acc: 0.5245\n",
            "Epoch 48/100\n",
            "50000/50000 [==============================] - 2s 41us/step - loss: 0.9353 - acc: 0.6645 - val_loss: 1.4644 - val_acc: 0.5191\n",
            "Epoch 49/100\n",
            "50000/50000 [==============================] - 2s 41us/step - loss: 0.9346 - acc: 0.6654 - val_loss: 1.5063 - val_acc: 0.5129\n",
            "Epoch 50/100\n",
            "50000/50000 [==============================] - 2s 40us/step - loss: 0.9290 - acc: 0.6688 - val_loss: 1.4700 - val_acc: 0.5167\n",
            "Epoch 51/100\n",
            "50000/50000 [==============================] - 2s 41us/step - loss: 0.9272 - acc: 0.6667 - val_loss: 1.4996 - val_acc: 0.5103\n",
            "Epoch 52/100\n",
            "50000/50000 [==============================] - 2s 40us/step - loss: 0.9171 - acc: 0.6728 - val_loss: 1.5131 - val_acc: 0.5121\n",
            "Epoch 53/100\n",
            "50000/50000 [==============================] - 2s 41us/step - loss: 0.9045 - acc: 0.6765 - val_loss: 1.5454 - val_acc: 0.5003\n",
            "Epoch 54/100\n",
            "50000/50000 [==============================] - 2s 41us/step - loss: 0.8961 - acc: 0.6820 - val_loss: 1.5354 - val_acc: 0.5070\n",
            "Epoch 55/100\n",
            "50000/50000 [==============================] - 2s 41us/step - loss: 0.8913 - acc: 0.6819 - val_loss: 1.5566 - val_acc: 0.5178\n",
            "Epoch 56/100\n",
            "50000/50000 [==============================] - 2s 41us/step - loss: 0.8856 - acc: 0.6833 - val_loss: 1.5157 - val_acc: 0.5253\n",
            "Epoch 57/100\n",
            "50000/50000 [==============================] - 2s 41us/step - loss: 0.8754 - acc: 0.6868 - val_loss: 1.5335 - val_acc: 0.5136\n",
            "Epoch 58/100\n",
            "50000/50000 [==============================] - 2s 41us/step - loss: 0.8758 - acc: 0.6880 - val_loss: 1.5085 - val_acc: 0.5158\n",
            "Epoch 59/100\n",
            "50000/50000 [==============================] - 2s 41us/step - loss: 0.8725 - acc: 0.6878 - val_loss: 1.5282 - val_acc: 0.5172\n",
            "Epoch 60/100\n",
            "50000/50000 [==============================] - 2s 42us/step - loss: 0.8585 - acc: 0.6926 - val_loss: 1.5497 - val_acc: 0.5114\n",
            "Epoch 61/100\n",
            "50000/50000 [==============================] - 2s 43us/step - loss: 0.8519 - acc: 0.6955 - val_loss: 1.5733 - val_acc: 0.5131\n",
            "Epoch 62/100\n",
            "50000/50000 [==============================] - 2s 43us/step - loss: 0.8539 - acc: 0.6923 - val_loss: 1.5709 - val_acc: 0.5240\n",
            "Epoch 63/100\n",
            "50000/50000 [==============================] - 2s 43us/step - loss: 0.8343 - acc: 0.7018 - val_loss: 1.5591 - val_acc: 0.5134\n",
            "Epoch 64/100\n",
            "50000/50000 [==============================] - 2s 43us/step - loss: 0.8295 - acc: 0.7033 - val_loss: 1.5774 - val_acc: 0.5238\n",
            "Epoch 65/100\n",
            "50000/50000 [==============================] - 2s 41us/step - loss: 0.8316 - acc: 0.7023 - val_loss: 1.6185 - val_acc: 0.5051\n",
            "Epoch 66/100\n",
            "50000/50000 [==============================] - 2s 41us/step - loss: 0.8250 - acc: 0.7033 - val_loss: 1.6011 - val_acc: 0.5068\n",
            "Epoch 67/100\n",
            "50000/50000 [==============================] - 2s 41us/step - loss: 0.8198 - acc: 0.7060 - val_loss: 1.5949 - val_acc: 0.5168\n",
            "Epoch 68/100\n",
            "50000/50000 [==============================] - 2s 41us/step - loss: 0.8197 - acc: 0.7039 - val_loss: 1.6236 - val_acc: 0.5115\n",
            "Epoch 69/100\n",
            "50000/50000 [==============================] - 2s 41us/step - loss: 0.7976 - acc: 0.7151 - val_loss: 1.5834 - val_acc: 0.5142\n",
            "Epoch 70/100\n",
            "50000/50000 [==============================] - 2s 41us/step - loss: 0.7914 - acc: 0.7157 - val_loss: 1.6113 - val_acc: 0.5153\n",
            "Epoch 71/100\n",
            "50000/50000 [==============================] - 2s 41us/step - loss: 0.7912 - acc: 0.7170 - val_loss: 1.6663 - val_acc: 0.5091\n",
            "Epoch 72/100\n",
            "50000/50000 [==============================] - 2s 41us/step - loss: 0.7922 - acc: 0.7162 - val_loss: 1.6360 - val_acc: 0.5094\n",
            "Epoch 73/100\n",
            "50000/50000 [==============================] - 2s 41us/step - loss: 0.7856 - acc: 0.7186 - val_loss: 1.6742 - val_acc: 0.5024\n",
            "Epoch 74/100\n",
            "50000/50000 [==============================] - 2s 41us/step - loss: 0.7716 - acc: 0.7239 - val_loss: 1.6543 - val_acc: 0.5155\n",
            "Epoch 75/100\n",
            "50000/50000 [==============================] - 2s 41us/step - loss: 0.7682 - acc: 0.7260 - val_loss: 1.6683 - val_acc: 0.5148\n",
            "Epoch 76/100\n",
            "50000/50000 [==============================] - 2s 41us/step - loss: 0.7686 - acc: 0.7247 - val_loss: 1.6984 - val_acc: 0.5048\n",
            "Epoch 77/100\n",
            "50000/50000 [==============================] - 2s 41us/step - loss: 0.7613 - acc: 0.7256 - val_loss: 1.7013 - val_acc: 0.5073\n",
            "Epoch 78/100\n",
            "50000/50000 [==============================] - 2s 41us/step - loss: 0.7453 - acc: 0.7326 - val_loss: 1.7136 - val_acc: 0.5053\n",
            "Epoch 79/100\n",
            "50000/50000 [==============================] - 2s 41us/step - loss: 0.7615 - acc: 0.7267 - val_loss: 1.8109 - val_acc: 0.4929\n",
            "Epoch 80/100\n",
            "50000/50000 [==============================] - 2s 41us/step - loss: 0.7467 - acc: 0.7309 - val_loss: 1.7119 - val_acc: 0.5110\n",
            "Epoch 81/100\n",
            "50000/50000 [==============================] - 2s 41us/step - loss: 0.7551 - acc: 0.7286 - val_loss: 1.7600 - val_acc: 0.5090\n",
            "Epoch 82/100\n",
            "50000/50000 [==============================] - 2s 41us/step - loss: 0.7499 - acc: 0.7313 - val_loss: 1.7380 - val_acc: 0.5058\n",
            "Epoch 83/100\n",
            "50000/50000 [==============================] - 2s 41us/step - loss: 0.7218 - acc: 0.7400 - val_loss: 1.7320 - val_acc: 0.5087\n",
            "Epoch 84/100\n",
            "50000/50000 [==============================] - 2s 41us/step - loss: 0.7228 - acc: 0.7411 - val_loss: 1.7518 - val_acc: 0.5060\n",
            "Epoch 85/100\n",
            "50000/50000 [==============================] - 2s 41us/step - loss: 0.7149 - acc: 0.7432 - val_loss: 1.8006 - val_acc: 0.5078\n",
            "Epoch 86/100\n",
            "50000/50000 [==============================] - 2s 41us/step - loss: 0.7125 - acc: 0.7441 - val_loss: 1.7825 - val_acc: 0.5079\n",
            "Epoch 87/100\n",
            "50000/50000 [==============================] - 2s 41us/step - loss: 0.7151 - acc: 0.7440 - val_loss: 1.7782 - val_acc: 0.5135\n",
            "Epoch 88/100\n",
            "50000/50000 [==============================] - 2s 41us/step - loss: 0.7079 - acc: 0.7463 - val_loss: 1.7983 - val_acc: 0.5057\n",
            "Epoch 89/100\n",
            "50000/50000 [==============================] - 2s 41us/step - loss: 0.6987 - acc: 0.7502 - val_loss: 1.8011 - val_acc: 0.4964\n",
            "Epoch 90/100\n",
            "50000/50000 [==============================] - 2s 41us/step - loss: 0.7017 - acc: 0.7493 - val_loss: 1.8440 - val_acc: 0.5018\n",
            "Epoch 91/100\n",
            "50000/50000 [==============================] - 2s 41us/step - loss: 0.7026 - acc: 0.7469 - val_loss: 1.7939 - val_acc: 0.5080\n",
            "Epoch 92/100\n",
            "50000/50000 [==============================] - 2s 43us/step - loss: 0.6780 - acc: 0.7572 - val_loss: 1.8887 - val_acc: 0.5006\n",
            "Epoch 93/100\n",
            "50000/50000 [==============================] - 2s 43us/step - loss: 0.6745 - acc: 0.7577 - val_loss: 1.8639 - val_acc: 0.5019\n",
            "Epoch 94/100\n",
            "50000/50000 [==============================] - 2s 41us/step - loss: 0.6663 - acc: 0.7605 - val_loss: 1.8768 - val_acc: 0.5070\n",
            "Epoch 95/100\n",
            "50000/50000 [==============================] - 2s 41us/step - loss: 0.6820 - acc: 0.7543 - val_loss: 1.8581 - val_acc: 0.4992\n",
            "Epoch 96/100\n",
            "50000/50000 [==============================] - 2s 41us/step - loss: 0.6716 - acc: 0.7592 - val_loss: 1.9089 - val_acc: 0.5057\n",
            "Epoch 97/100\n",
            "50000/50000 [==============================] - 2s 41us/step - loss: 0.6636 - acc: 0.7618 - val_loss: 1.8721 - val_acc: 0.4977\n",
            "Epoch 98/100\n",
            "50000/50000 [==============================] - 2s 41us/step - loss: 0.6594 - acc: 0.7641 - val_loss: 1.8782 - val_acc: 0.4990\n",
            "Epoch 99/100\n",
            "50000/50000 [==============================] - 2s 41us/step - loss: 0.6580 - acc: 0.7634 - val_loss: 1.9658 - val_acc: 0.4988\n",
            "Epoch 100/100\n",
            "50000/50000 [==============================] - 2s 41us/step - loss: 0.6424 - acc: 0.7687 - val_loss: 1.9122 - val_acc: 0.5071\n",
            "10000/10000 [==============================] - 1s 79us/step\n"
          ],
          "name": "stdout"
        }
      ]
    },
    {
      "cell_type": "code",
      "metadata": {
        "id": "F5uZDtEwW-ry",
        "colab_type": "code",
        "colab": {
          "base_uri": "https://localhost:8080/",
          "height": 34
        },
        "outputId": "3980acda-4e32-410f-8702-07456b98df16"
      },
      "source": [
        "print(loss_loadback, acc_loadback)"
      ],
      "execution_count": 31,
      "outputs": [
        {
          "output_type": "stream",
          "text": [
            "1.3514981325149535 0.5208\n"
          ],
          "name": "stdout"
        }
      ]
    },
    {
      "cell_type": "code",
      "metadata": {
        "scrolled": true,
        "id": "mCGMXW4-RINa",
        "colab_type": "code",
        "colab": {
          "base_uri": "https://localhost:8080/",
          "height": 545
        },
        "outputId": "3bd41ccc-fb88-4f26-e45d-7be46191aa2e"
      },
      "source": [
        "\n",
        "\"\"\"Code Here\n",
        "將結果繪出\n",
        "\"\"\"\n",
        "\n",
        "import matplotlib.pyplot as plt\n",
        "%matplotlib inline\n",
        "\n",
        "plt.plot(range(len(train_loss)), train_loss, label=\"train loss\")\n",
        "plt.plot(range(len(valid_loss)), valid_loss, label=\"valid loss\")\n",
        "plt.hlines(y=loss_loadback, xmin=0, xmax=len(train_loss), colors='r', linestyles='--')\n",
        "plt.legend()\n",
        "plt.title(\"Loss\")\n",
        "plt.show()\n",
        "\n",
        "plt.plot(range(len(train_acc)), train_acc, label=\"train accuracy\")\n",
        "plt.plot(range(len(valid_acc)), valid_acc, label=\"valid accuracy\")\n",
        "plt.hlines(y=acc_loadback, xmin=0, xmax=len(train_loss), colors='r', linestyles='--')\n",
        "plt.legend()\n",
        "plt.title(\"Accuracy\")\n",
        "plt.show()"
      ],
      "execution_count": 30,
      "outputs": [
        {
          "output_type": "display_data",
          "data": {
            "image/png": "[encoded data removed]",
            "text/plain": [
              "<Figure size 432x288 with 1 Axes>"
            ]
          },
          "metadata": {
            "tags": []
          }
        },
        {
          "output_type": "display_data",
          "data": {
            "image/png": "[encoded data removed]",
            "text/plain": [
              "<Figure size 432x288 with 1 Axes>"
            ]
          },
          "metadata": {
            "tags": []
          }
        }
      ]
    }
  ]
}