{
  "nbformat": 4,
  "nbformat_minor": 0,
  "metadata": {
    "kernelspec": {
      "display_name": "Python 3",
      "language": "python",
      "name": "python3"
    },
    "language_info": {
      "codemirror_mode": {
        "name": "ipython",
        "version": 3
      },
      "file_extension": ".py",
      "mimetype": "text/x-python",
      "name": "python",
      "nbconvert_exporter": "python",
      "pygments_lexer": "ipython3",
      "version": "3.6.2"
    },
    "colab": {
      "name": "Day_042_HW.ipynb",
      "provenance": [],
      "collapsed_sections": [],
      "include_colab_link": true
    }
  },
  "cells": [
    {
      "cell_type": "markdown",
      "metadata": {
        "id": "view-in-github",
        "colab_type": "text"
      },
      "source": [
        "<a href=\"https://colab.research.google.com/github/PatrickRuan/3rd-ML100Days/blob/master/homework/Day_042_HW.ipynb\" target=\"_parent\"><img src=\"https://colab.research.google.com/assets/colab-badge.svg\" alt=\"Open In Colab\"/></a>"
      ]
    },
    {
      "cell_type": "markdown",
      "metadata": {
        "id": "8TgOc_igSlcw",
        "colab_type": "text"
      },
      "source": [
        "## [作業重點]\n",
        "目前你應該已經要很清楚資料集中，資料的型態是什麼樣子囉！包含特徵 (features) 與標籤 (labels)。因此要記得未來不管什麼專案，必須要把資料清理成相同的格式，才能送進模型訓練。\n",
        "今天的作業開始踏入決策樹這個非常重要的模型，請務必確保你理解模型中每個超參數的意思，並試著調整看看，對最終預測結果的影響為何"
      ]
    },
    {
      "cell_type": "markdown",
      "metadata": {
        "id": "BaFllb0wSlcx",
        "colab_type": "text"
      },
      "source": [
        "## 作業\n",
        "\n",
        "1. 試著調整 DecisionTreeClassifier(...) 中的參數，並觀察是否會改變結果？\n",
        "2. 改用其他資料集 (boston, wine)，並與回歸模型的結果進行比較"
      ]
    },
    {
      "cell_type": "code",
      "metadata": {
        "id": "9weqGUA9Slcy",
        "colab_type": "code",
        "colab": {}
      },
      "source": [
        "from sklearn.datasets import load_boston, load_wine\n",
        "from sklearn.tree import DecisionTreeClassifier, DecisionTreeRegressor\n",
        "from sklearn.linear_model import LogisticRegression, LinearRegression\n",
        "from sklearn.metrics import accuracy_score,mean_squared_error\n",
        "from sklearn.model_selection import train_test_split\n",
        "\n",
        "import numpy as np\n",
        "import pandas as pd\n",
        "import matplotlib.pyplot as plt\n",
        "%matplotlib inline\n",
        "import warnings\n",
        "warnings.filterwarnings('ignore')\n",
        "\n",
        "import seaborn as sns\n"
      ],
      "execution_count": 0,
      "outputs": []
    },
    {
      "cell_type": "code",
      "metadata": {
        "id": "AtB9NLCzUqX6",
        "colab_type": "code",
        "colab": {
          "base_uri": "https://localhost:8080/",
          "height": 103
        },
        "outputId": "84a4ac2f-9da0-43c3-dd59-3e688cb31dd5"
      },
      "source": [
        "data = load_boston()\n",
        "x_train, x_test, y_train, y_test = train_test_split(data.data, data.target, random_state=43, test_size = 0.2)\n",
        "\n",
        "y_train[:5]  # regression\n",
        "\n",
        "reg = LinearRegression()\n",
        "reg.fit(x_train, y_train)\n",
        "pred = reg.predict(x_test)\n",
        "print(f'boston @ linear regression mse is {mean_squared_error(y_test, pred)} ')\n",
        "\n",
        "reg = DecisionTreeRegressor()\n",
        "reg.fit(x_train, y_train)\n",
        "pred = reg.predict(x_test)\n",
        "print(f'boston @ decision tree mse is {mean_squared_error(y_test, pred)} ')\n",
        "\n",
        "reg = DecisionTreeRegressor(criterion='mae')\n",
        "reg.fit(x_train, y_train)\n",
        "pred = reg.predict(x_test)\n",
        "print(f'boston @ decision tree mae is {mean_squared_error(y_test, pred)} ')\n",
        "\n",
        "reg = DecisionTreeRegressor(max_depth=3)\n",
        "reg.fit(x_train, y_train)\n",
        "pred = reg.predict(x_test)\n",
        "print(f'boston @ decision tree depth =3 is {mean_squared_error(y_test, pred)} ')\n",
        "\n",
        "reg = DecisionTreeRegressor(max_depth=10)\n",
        "reg.fit(x_train, y_train)\n",
        "pred = reg.predict(x_test)\n",
        "print(f'boston @ decision tree depth =10 is {mean_squared_error(y_test, pred)} ')\n"
      ],
      "execution_count": 27,
      "outputs": [
        {
          "output_type": "stream",
          "text": [
            "boston @ linear regression mse is 22.01861344950045 \n",
            "boston @ decision tree mse is 20.349705882352936 \n",
            "boston @ decision tree mae is 14.488921568627452 \n",
            "boston @ decision tree depth =3 is 26.11760512042958 \n",
            "boston @ decision tree depth =10 is 17.974511154795252 \n"
          ],
          "name": "stdout"
        }
      ]
    },
    {
      "cell_type": "code",
      "metadata": {
        "id": "3guJ1rXwUqak",
        "colab_type": "code",
        "colab": {
          "base_uri": "https://localhost:8080/",
          "height": 86
        },
        "outputId": "0ad78b4c-7edf-48c4-e416-6e9451e49277"
      },
      "source": [
        "data = load_wine()\n",
        "x_train, x_test, y_train, y_test = train_test_split(data.data, data.target, random_state=43, test_size = 0.2)\n",
        "\n",
        "y_train[:5]  # regression\n",
        "\n",
        "clf = LogisticRegression()\n",
        "clf.fit(x_train, y_train)\n",
        "pred = clf.predict(x_test)\n",
        "print(f'boston @ logistic regression accuray is {accuracy_score(y_test, pred)} ')\n",
        "\n",
        "clf = DecisionTreeRegressor()\n",
        "clf.fit(x_train, y_train)\n",
        "pred = clf.predict(x_test)\n",
        "print(f'boston @ decision tree accuracy is {accuracy_score(y_test, pred)} ')\n",
        "\n",
        "\n",
        "clf = DecisionTreeRegressor(max_depth=3)\n",
        "clf.fit(x_train, y_train)\n",
        "pred = clf.predict(x_test)\n",
        "#print(f'boston @ decision tree depth = 3 accuracy is {accuracy_score(y_test, pred)} ')\n",
        "\n",
        "clf = DecisionTreeRegressor(max_depth=5)\n",
        "clf.fit(x_train, y_train)\n",
        "pred = clf.predict(x_test)\n",
        "print(f'boston @ decision tree depth =3  accuracy is {accuracy_score(y_test, pred)} ')\n",
        "\n",
        "clf = DecisionTreeRegressor(max_depth=10)\n",
        "clf.fit(x_train, y_train)\n",
        "pred = clf.predict(x_test)\n",
        "print(f'boston @ decision tree depth =10  accuracy is {accuracy_score(y_test, pred)} ')\n"
      ],
      "execution_count": 35,
      "outputs": [
        {
          "output_type": "stream",
          "text": [
            "boston @ logistic regression accuray is 1.0 \n",
            "boston @ decision tree accuracy is 0.9722222222222222 \n",
            "boston @ decision tree depth =3  accuracy is 1.0 \n",
            "boston @ decision tree depth =10  accuracy is 1.0 \n"
          ],
          "name": "stdout"
        }
      ]
    },
    {
      "cell_type": "code",
      "metadata": {
        "id": "c1IyX84hYf2c",
        "colab_type": "code",
        "colab": {}
      },
      "source": [
        ""
      ],
      "execution_count": 0,
      "outputs": []
    },
    {
      "cell_type": "code",
      "metadata": {
        "id": "zQ_7Ln0OUqd7",
        "colab_type": "code",
        "colab": {}
      },
      "source": [
        ""
      ],
      "execution_count": 0,
      "outputs": []
    }
  ]
}